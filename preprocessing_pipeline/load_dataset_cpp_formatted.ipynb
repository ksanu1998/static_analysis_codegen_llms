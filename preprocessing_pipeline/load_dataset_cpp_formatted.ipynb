{
 "cells": [
  {
   "cell_type": "code",
   "execution_count": 1,
   "metadata": {},
   "outputs": [],
   "source": [
    "from datasets import load_dataset"
   ]
  },
  {
   "cell_type": "code",
   "execution_count": null,
   "metadata": {},
   "outputs": [],
   "source": [
    "proc = subprocess.Popen([\"cppcheck\", \"--enable=all\", \"--suppress=missingIncludeSystem\", \"--check-level=exhaustive\", \"--xml\", \"./\"], stderr=open(f\"../../analysis_reports_cpp/{file_prefix}.xml\", \"w\"))\n",
    "proc.wait()"
   ]
  },
  {
   "cell_type": "code",
   "execution_count": 2,
   "metadata": {},
   "outputs": [
    {
     "data": {
      "application/vnd.jupyter.widget-view+json": {
       "model_id": "71472928ccd9445ca0d57d929730145d",
       "version_major": 2,
       "version_minor": 0
      },
      "text/plain": [
       "Downloading data files:   0%|          | 0/3 [00:00<?, ?it/s]"
      ]
     },
     "metadata": {},
     "output_type": "display_data"
    },
    {
     "data": {
      "application/vnd.jupyter.widget-view+json": {
       "model_id": "dca69bd0226043df9bdfa2bec960cbd6",
       "version_major": 2,
       "version_minor": 0
      },
      "text/plain": [
       "Downloading data:   0%|          | 0.00/11.6M [00:00<?, ?B/s]"
      ]
     },
     "metadata": {},
     "output_type": "display_data"
    },
    {
     "data": {
      "application/vnd.jupyter.widget-view+json": {
       "model_id": "b39bab14c09e4b43bf3b770332344fa1",
       "version_major": 2,
       "version_minor": 0
      },
      "text/plain": [
       "Downloading data:   0%|          | 0.00/987k [00:00<?, ?B/s]"
      ]
     },
     "metadata": {},
     "output_type": "display_data"
    },
    {
     "data": {
      "application/vnd.jupyter.widget-view+json": {
       "model_id": "00a49e6b931b422bb48daa0377396566",
       "version_major": 2,
       "version_minor": 0
      },
      "text/plain": [
       "Downloading data:   0%|          | 0.00/549k [00:00<?, ?B/s]"
      ]
     },
     "metadata": {},
     "output_type": "display_data"
    },
    {
     "data": {
      "application/vnd.jupyter.widget-view+json": {
       "model_id": "d058142dbcc94037986f25a1afc1aa4e",
       "version_major": 2,
       "version_minor": 0
      },
      "text/plain": [
       "Generating train split: 0 examples [00:00, ? examples/s]"
      ]
     },
     "metadata": {},
     "output_type": "display_data"
    },
    {
     "data": {
      "application/vnd.jupyter.widget-view+json": {
       "model_id": "b786e3b4765d42688766da397411c1ae",
       "version_major": 2,
       "version_minor": 0
      },
      "text/plain": [
       "Generating test split: 0 examples [00:00, ? examples/s]"
      ]
     },
     "metadata": {},
     "output_type": "display_data"
    },
    {
     "data": {
      "application/vnd.jupyter.widget-view+json": {
       "model_id": "624483e2e9914d059db9a209b9216817",
       "version_major": 2,
       "version_minor": 0
      },
      "text/plain": [
       "Generating validation split: 0 examples [00:00, ? examples/s]"
      ]
     },
     "metadata": {},
     "output_type": "display_data"
    },
    {
     "name": "stdout",
     "output_type": "stream",
     "text": [
      "<class 'pandas.core.frame.DataFrame'>\n",
      "RangeIndex: 9797 entries, 0 to 9796\n",
      "Data columns (total 2 columns):\n",
      " #   Column  Non-Null Count  Dtype \n",
      "---  ------  --------------  ----- \n",
      " 0   text    9797 non-null   object\n",
      " 1   code    9797 non-null   object\n",
      "dtypes: object(2)\n",
      "memory usage: 153.2+ KB\n"
     ]
    }
   ],
   "source": [
    "dataset = load_dataset(\"giulio98/xlcost-formatted\", \"C++-program-level\")\n",
    "train_df = dataset['train'].to_pandas().dropna()\n",
    "val_df = dataset['validation'].to_pandas().dropna()\n",
    "test_df = dataset['test'].to_pandas().dropna()\n",
    "train_df.info()"
   ]
  },
  {
   "cell_type": "code",
   "execution_count": 3,
   "metadata": {},
   "outputs": [
    {
     "data": {
      "text/html": [
       "<div>\n",
       "<style scoped>\n",
       "    .dataframe tbody tr th:only-of-type {\n",
       "        vertical-align: middle;\n",
       "    }\n",
       "\n",
       "    .dataframe tbody tr th {\n",
       "        vertical-align: top;\n",
       "    }\n",
       "\n",
       "    .dataframe thead th {\n",
       "        text-align: right;\n",
       "    }\n",
       "</style>\n",
       "<table border=\"1\" class=\"dataframe\">\n",
       "  <thead>\n",
       "    <tr style=\"text-align: right;\">\n",
       "      <th></th>\n",
       "      <th>text</th>\n",
       "      <th>code</th>\n",
       "    </tr>\n",
       "  </thead>\n",
       "  <tbody>\n",
       "    <tr>\n",
       "      <th>0</th>\n",
       "      <td>Maximum Prefix Sum possible by merging two giv...</td>\n",
       "      <td>#include &lt;bits/stdc++.h&gt;\\nusing namespace std;...</td>\n",
       "    </tr>\n",
       "    <tr>\n",
       "      <th>1</th>\n",
       "      <td>Check if a number can be represented as sum of...</td>\n",
       "      <td>#include &lt;bits/stdc++.h&gt;\\nusing namespace std;...</td>\n",
       "    </tr>\n",
       "    <tr>\n",
       "      <th>2</th>\n",
       "      <td>Generate an N | C ++ program for the above app...</td>\n",
       "      <td>#include &lt;bits/stdc++.h&gt;\\nusing namespace std;...</td>\n",
       "    </tr>\n",
       "    <tr>\n",
       "      <th>3</th>\n",
       "      <td>Nth natural number after removing all numbers ...</td>\n",
       "      <td>#include &lt;bits/stdc++.h&gt;\\nusing namespace std;...</td>\n",
       "    </tr>\n",
       "    <tr>\n",
       "      <th>4</th>\n",
       "      <td>Check if an integer is rotation of another giv...</td>\n",
       "      <td>#include &lt;bits/stdc++.h&gt;\\nusing namespace std;...</td>\n",
       "    </tr>\n",
       "  </tbody>\n",
       "</table>\n",
       "</div>"
      ],
      "text/plain": [
       "                                                text  \\\n",
       "0  Maximum Prefix Sum possible by merging two giv...   \n",
       "1  Check if a number can be represented as sum of...   \n",
       "2  Generate an N | C ++ program for the above app...   \n",
       "3  Nth natural number after removing all numbers ...   \n",
       "4  Check if an integer is rotation of another giv...   \n",
       "\n",
       "                                                code  \n",
       "0  #include <bits/stdc++.h>\\nusing namespace std;...  \n",
       "1  #include <bits/stdc++.h>\\nusing namespace std;...  \n",
       "2  #include <bits/stdc++.h>\\nusing namespace std;...  \n",
       "3  #include <bits/stdc++.h>\\nusing namespace std;...  \n",
       "4  #include <bits/stdc++.h>\\nusing namespace std;...  "
      ]
     },
     "execution_count": 3,
     "metadata": {},
     "output_type": "execute_result"
    }
   ],
   "source": [
    "train_df.head()"
   ]
  },
  {
   "cell_type": "code",
   "execution_count": 4,
   "metadata": {},
   "outputs": [
    {
     "data": {
      "text/plain": [
       "'Maximum Prefix Sum possible by merging two given arrays | C ++ Program to implement the above approach ; Stores the maximum prefix sum of the array A [ ] ; Traverse the array A [ ] ; Stores the maximum prefix sum of the array B [ ] ; Traverse the array B [ ] ; Driver code'"
      ]
     },
     "execution_count": 4,
     "metadata": {},
     "output_type": "execute_result"
    }
   ],
   "source": [
    "train_df.loc[0]['text']"
   ]
  },
  {
   "cell_type": "code",
   "execution_count": 5,
   "metadata": {},
   "outputs": [
    {
     "data": {
      "text/html": [
       "<div>\n",
       "<style scoped>\n",
       "    .dataframe tbody tr th:only-of-type {\n",
       "        vertical-align: middle;\n",
       "    }\n",
       "\n",
       "    .dataframe tbody tr th {\n",
       "        vertical-align: top;\n",
       "    }\n",
       "\n",
       "    .dataframe thead th {\n",
       "        text-align: right;\n",
       "    }\n",
       "</style>\n",
       "<table border=\"1\" class=\"dataframe\">\n",
       "  <thead>\n",
       "    <tr style=\"text-align: right;\">\n",
       "      <th></th>\n",
       "      <th>text</th>\n",
       "      <th>code</th>\n",
       "      <th>question</th>\n",
       "    </tr>\n",
       "    <tr>\n",
       "      <th>id</th>\n",
       "      <th></th>\n",
       "      <th></th>\n",
       "      <th></th>\n",
       "    </tr>\n",
       "  </thead>\n",
       "  <tbody>\n",
       "    <tr>\n",
       "      <th>0</th>\n",
       "      <td>Maximum Prefix Sum possible by merging two giv...</td>\n",
       "      <td>#include &lt;bits/stdc++.h&gt;\\nusing namespace std;...</td>\n",
       "      <td>Maximum Prefix Sum possible by merging two giv...</td>\n",
       "    </tr>\n",
       "    <tr>\n",
       "      <th>1</th>\n",
       "      <td>Check if a number can be represented as sum of...</td>\n",
       "      <td>#include &lt;bits/stdc++.h&gt;\\nusing namespace std;...</td>\n",
       "      <td>Check if a number can be represented as sum of...</td>\n",
       "    </tr>\n",
       "    <tr>\n",
       "      <th>2</th>\n",
       "      <td>Generate an N | C ++ program for the above app...</td>\n",
       "      <td>#include &lt;bits/stdc++.h&gt;\\nusing namespace std;...</td>\n",
       "      <td>Generate an N.</td>\n",
       "    </tr>\n",
       "    <tr>\n",
       "      <th>3</th>\n",
       "      <td>Nth natural number after removing all numbers ...</td>\n",
       "      <td>#include &lt;bits/stdc++.h&gt;\\nusing namespace std;...</td>\n",
       "      <td>Nth natural number after removing all numbers ...</td>\n",
       "    </tr>\n",
       "    <tr>\n",
       "      <th>4</th>\n",
       "      <td>Check if an integer is rotation of another giv...</td>\n",
       "      <td>#include &lt;bits/stdc++.h&gt;\\nusing namespace std;...</td>\n",
       "      <td>Check if an integer is rotation of another giv...</td>\n",
       "    </tr>\n",
       "  </tbody>\n",
       "</table>\n",
       "</div>"
      ],
      "text/plain": [
       "                                                 text  \\\n",
       "id                                                      \n",
       "0   Maximum Prefix Sum possible by merging two giv...   \n",
       "1   Check if a number can be represented as sum of...   \n",
       "2   Generate an N | C ++ program for the above app...   \n",
       "3   Nth natural number after removing all numbers ...   \n",
       "4   Check if an integer is rotation of another giv...   \n",
       "\n",
       "                                                 code  \\\n",
       "id                                                      \n",
       "0   #include <bits/stdc++.h>\\nusing namespace std;...   \n",
       "1   #include <bits/stdc++.h>\\nusing namespace std;...   \n",
       "2   #include <bits/stdc++.h>\\nusing namespace std;...   \n",
       "3   #include <bits/stdc++.h>\\nusing namespace std;...   \n",
       "4   #include <bits/stdc++.h>\\nusing namespace std;...   \n",
       "\n",
       "                                             question  \n",
       "id                                                     \n",
       "0   Maximum Prefix Sum possible by merging two giv...  \n",
       "1   Check if a number can be represented as sum of...  \n",
       "2                                      Generate an N.  \n",
       "3   Nth natural number after removing all numbers ...  \n",
       "4   Check if an integer is rotation of another giv...  "
      ]
     },
     "execution_count": 5,
     "metadata": {},
     "output_type": "execute_result"
    }
   ],
   "source": [
    "train_df['question'] = train_df['text'].apply(lambda text: text.split('|')[0].strip() + '.')\n",
    "val_df['question'] = val_df['text'].apply(lambda text: text.split('|')[0].strip() + '.')\n",
    "test_df['question'] = test_df['text'].apply(lambda text: text.split('|')[0].strip() + '.')\n",
    "\n",
    "train_df['id'] = range(len(train_df))\n",
    "train_df.set_index('id', inplace=True)\n",
    "\n",
    "val_df['id'] = range(len(val_df))\n",
    "val_df.set_index('id', inplace=True)\n",
    "\n",
    "test_df['id'] = range(len(test_df))\n",
    "test_df.set_index('id', inplace=True)\n",
    "\n",
    "train_df.head()"
   ]
  },
  {
   "cell_type": "code",
   "execution_count": 6,
   "metadata": {},
   "outputs": [],
   "source": [
    "train_df.to_csv('../data/c++/train_formatted.csv')\n",
    "val_df.to_csv('../data/c++/val_formatted.csv')\n",
    "test_df.to_csv('../data/c++/test_formatted.csv')"
   ]
  },
  {
   "cell_type": "code",
   "execution_count": null,
   "metadata": {},
   "outputs": [],
   "source": []
  }
 ],
 "metadata": {
  "kernelspec": {
   "display_name": "py11-env",
   "language": "python",
   "name": "python3"
  },
  "language_info": {
   "codemirror_mode": {
    "name": "ipython",
    "version": 3
   },
   "file_extension": ".py",
   "mimetype": "text/x-python",
   "name": "python",
   "nbconvert_exporter": "python",
   "pygments_lexer": "ipython3",
   "version": "3.11.6"
  },
  "orig_nbformat": 4
 },
 "nbformat": 4,
 "nbformat_minor": 2
}
