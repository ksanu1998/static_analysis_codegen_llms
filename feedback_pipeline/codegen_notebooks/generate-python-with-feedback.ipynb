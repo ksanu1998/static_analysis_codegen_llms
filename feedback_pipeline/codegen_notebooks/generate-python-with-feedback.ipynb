{
 "cells": [
  {
   "cell_type": "code",
   "execution_count": 1,
   "id": "6a416c9a",
   "metadata": {
    "execution": {
     "iopub.execute_input": "2023-11-13T22:13:45.278662Z",
     "iopub.status.busy": "2023-11-13T22:13:45.277781Z",
     "iopub.status.idle": "2023-11-13T22:14:01.888218Z",
     "shell.execute_reply": "2023-11-13T22:14:01.886927Z"
    },
    "id": "patQS5mXzPqA",
    "outputId": "c0b1531d-71d8-44ba-d390-27fc18c1661f",
    "papermill": {
     "duration": 16.626265,
     "end_time": "2023-11-13T22:14:01.890739",
     "exception": false,
     "start_time": "2023-11-13T22:13:45.264474",
     "status": "completed"
    },
    "tags": []
   },
   "outputs": [],
   "source": [
    "!pip install -q -U datasets"
   ]
  },
  {
   "cell_type": "code",
   "execution_count": 2,
   "id": "30807b87",
   "metadata": {
    "execution": {
     "iopub.execute_input": "2023-11-13T22:14:01.914694Z",
     "iopub.status.busy": "2023-11-13T22:14:01.914381Z",
     "iopub.status.idle": "2023-11-13T22:14:01.918482Z",
     "shell.execute_reply": "2023-11-13T22:14:01.917648Z"
    },
    "id": "IbThn88U3YvG",
    "papermill": {
     "duration": 0.017955,
     "end_time": "2023-11-13T22:14:01.920421",
     "exception": false,
     "start_time": "2023-11-13T22:14:01.902466",
     "status": "completed"
    },
    "tags": []
   },
   "outputs": [],
   "source": [
    "# import locale\n",
    "# locale.getpreferredencoding = lambda: \"UTF-8\""
   ]
  },
  {
   "cell_type": "code",
   "execution_count": 3,
   "id": "873d1934",
   "metadata": {
    "execution": {
     "iopub.execute_input": "2023-11-13T22:14:01.943700Z",
     "iopub.status.busy": "2023-11-13T22:14:01.943426Z",
     "iopub.status.idle": "2023-11-13T22:14:52.280260Z",
     "shell.execute_reply": "2023-11-13T22:14:52.278869Z"
    },
    "id": "No3MUNxQYDQd",
    "outputId": "ddc5349e-2750-4f87-b078-7faf3df0dce7",
    "papermill": {
     "duration": 50.351477,
     "end_time": "2023-11-13T22:14:52.283026",
     "exception": false,
     "start_time": "2023-11-13T22:14:01.931549",
     "status": "completed"
    },
    "tags": []
   },
   "outputs": [],
   "source": [
    "!pip install -q git+https://github.com/huggingface/transformers.git@main accelerate"
   ]
  },
  {
   "cell_type": "markdown",
   "id": "544bd3b6",
   "metadata": {
    "id": "lfYoVVRCuwvt",
    "papermill": {
     "duration": 0.010238,
     "end_time": "2023-11-13T22:14:52.304186",
     "exception": false,
     "start_time": "2023-11-13T22:14:52.293948",
     "status": "completed"
    },
    "tags": []
   },
   "source": [
    "### Loading the model and tokenizer"
   ]
  },
  {
   "cell_type": "code",
   "execution_count": 4,
   "id": "9baccce3",
   "metadata": {
    "execution": {
     "iopub.execute_input": "2023-11-13T22:14:52.327686Z",
     "iopub.status.busy": "2023-11-13T22:14:52.326914Z",
     "iopub.status.idle": "2023-11-13T22:14:54.722232Z",
     "shell.execute_reply": "2023-11-13T22:14:54.721211Z"
    },
    "id": "BPW7Lk3Z3EEK",
    "papermill": {
     "duration": 2.410295,
     "end_time": "2023-11-13T22:14:54.724802",
     "exception": false,
     "start_time": "2023-11-13T22:14:52.314507",
     "status": "completed"
    },
    "tags": []
   },
   "outputs": [],
   "source": [
    "import datasets"
   ]
  },
  {
   "cell_type": "code",
   "execution_count": 5,
   "id": "440f3059",
   "metadata": {
    "execution": {
     "iopub.execute_input": "2023-11-13T22:14:54.749906Z",
     "iopub.status.busy": "2023-11-13T22:14:54.749370Z",
     "iopub.status.idle": "2023-11-13T22:15:22.698786Z",
     "shell.execute_reply": "2023-11-13T22:15:22.697505Z"
    },
    "id": "wBjpmbzpYKBd",
    "papermill": {
     "duration": 27.966216,
     "end_time": "2023-11-13T22:15:22.702624",
     "exception": false,
     "start_time": "2023-11-13T22:14:54.736408",
     "status": "completed"
    },
    "tags": []
   },
   "outputs": [
    {
     "name": "stderr",
     "output_type": "stream",
     "text": [
      "/opt/conda/lib/python3.10/site-packages/scipy/__init__.py:146: UserWarning: A NumPy version >=1.16.5 and <1.23.0 is required for this version of SciPy (detected version 1.24.3\n",
      "  warnings.warn(f\"A NumPy version >={np_minversion} and <{np_maxversion}\"\n"
     ]
    }
   ],
   "source": [
    "from transformers import AutoTokenizer\n",
    "import transformers\n",
    "import torch\n",
    "from tqdm import notebook\n",
    "import pandas as pd\n",
    "import numpy as np\n",
    "from datasets import Dataset\n",
    "from transformers.pipelines.pt_utils import KeyDataset\n",
    "\n",
    "import json"
   ]
  },
  {
   "cell_type": "code",
   "execution_count": 6,
   "id": "384c46cf",
   "metadata": {
    "execution": {
     "iopub.execute_input": "2023-11-13T22:15:22.735035Z",
     "iopub.status.busy": "2023-11-13T22:15:22.733773Z",
     "iopub.status.idle": "2023-11-13T22:15:22.739081Z",
     "shell.execute_reply": "2023-11-13T22:15:22.738090Z"
    },
    "id": "mMjqbvl9FdEg",
    "papermill": {
     "duration": 0.024981,
     "end_time": "2023-11-13T22:15:22.741612",
     "exception": false,
     "start_time": "2023-11-13T22:15:22.716631",
     "status": "completed"
    },
    "tags": []
   },
   "outputs": [],
   "source": [
    "model_id = \"codellama/CodeLlama-7b-Instruct-hf\""
   ]
  },
  {
   "cell_type": "markdown",
   "id": "caac0ec5",
   "metadata": {
    "id": "GKzMTbn3u1dS",
    "papermill": {
     "duration": 0.013937,
     "end_time": "2023-11-13T22:15:22.768239",
     "exception": false,
     "start_time": "2023-11-13T22:15:22.754302",
     "status": "completed"
    },
    "tags": []
   },
   "source": [
    "### Preparing the Pipeline"
   ]
  },
  {
   "cell_type": "code",
   "execution_count": 7,
   "id": "2f82513a",
   "metadata": {
    "execution": {
     "iopub.execute_input": "2023-11-13T22:15:22.804291Z",
     "iopub.status.busy": "2023-11-13T22:15:22.803175Z",
     "iopub.status.idle": "2023-11-13T22:15:23.907483Z",
     "shell.execute_reply": "2023-11-13T22:15:23.906662Z"
    },
    "id": "7kY18n6e1Icb",
    "papermill": {
     "duration": 1.12698,
     "end_time": "2023-11-13T22:15:23.909898",
     "exception": false,
     "start_time": "2023-11-13T22:15:22.782918",
     "status": "completed"
    },
    "tags": []
   },
   "outputs": [
    {
     "data": {
      "application/vnd.jupyter.widget-view+json": {
       "model_id": "5342b83cd77e4d58a3f75de241771578",
       "version_major": 2,
       "version_minor": 0
      },
      "text/plain": [
       "Downloading (…)okenizer_config.json:   0%|          | 0.00/749 [00:00<?, ?B/s]"
      ]
     },
     "metadata": {},
     "output_type": "display_data"
    },
    {
     "data": {
      "application/vnd.jupyter.widget-view+json": {
       "model_id": "bbdc029f5c6146f296f6f19abb023cee",
       "version_major": 2,
       "version_minor": 0
      },
      "text/plain": [
       "Downloading tokenizer.model:   0%|          | 0.00/500k [00:00<?, ?B/s]"
      ]
     },
     "metadata": {},
     "output_type": "display_data"
    },
    {
     "data": {
      "application/vnd.jupyter.widget-view+json": {
       "model_id": "75757bf2936045bdbd25e19d6e221a03",
       "version_major": 2,
       "version_minor": 0
      },
      "text/plain": [
       "Downloading (…)/main/tokenizer.json:   0%|          | 0.00/1.84M [00:00<?, ?B/s]"
      ]
     },
     "metadata": {},
     "output_type": "display_data"
    },
    {
     "data": {
      "application/vnd.jupyter.widget-view+json": {
       "model_id": "41bd8b000b0045fda29c623977b76b9d",
       "version_major": 2,
       "version_minor": 0
      },
      "text/plain": [
       "Downloading (…)cial_tokens_map.json:   0%|          | 0.00/411 [00:00<?, ?B/s]"
      ]
     },
     "metadata": {},
     "output_type": "display_data"
    }
   ],
   "source": [
    "tokenizer = AutoTokenizer.from_pretrained(\n",
    "    model_id,\n",
    "    model_max_length=512,\n",
    "    padding_side=\"left\",\n",
    "    add_eos_token=True)\n",
    "\n",
    "tokenizer.pad_token = tokenizer.eos_token"
   ]
  },
  {
   "cell_type": "code",
   "execution_count": 8,
   "id": "088c07cd",
   "metadata": {
    "execution": {
     "iopub.execute_input": "2023-11-13T22:15:23.934984Z",
     "iopub.status.busy": "2023-11-13T22:15:23.934683Z",
     "iopub.status.idle": "2023-11-13T22:15:23.939817Z",
     "shell.execute_reply": "2023-11-13T22:15:23.938871Z"
    },
    "id": "9oHhggcM1RB1",
    "papermill": {
     "duration": 0.0195,
     "end_time": "2023-11-13T22:15:23.941934",
     "exception": false,
     "start_time": "2023-11-13T22:15:23.922434",
     "status": "completed"
    },
    "tags": []
   },
   "outputs": [],
   "source": [
    "def tokenize(data):\n",
    "    result = tokenizer(\n",
    "        data['prompt'],\n",
    "        truncation=True,\n",
    "        max_length=512,\n",
    "        padding=\"max_length\",\n",
    "    )\n",
    "    result[\"labels\"] = result[\"input_ids\"].copy()\n",
    "    return result"
   ]
  },
  {
   "cell_type": "code",
   "execution_count": 9,
   "id": "f00c1c5f",
   "metadata": {
    "execution": {
     "iopub.execute_input": "2023-11-13T22:15:23.966503Z",
     "iopub.status.busy": "2023-11-13T22:15:23.966239Z",
     "iopub.status.idle": "2023-11-13T22:16:52.916840Z",
     "shell.execute_reply": "2023-11-13T22:16:52.915822Z"
    },
    "id": "03Y2GWHFu3X5",
    "outputId": "5dd2ae4c-1f42-4f62-c6ed-64790ba027e5",
    "papermill": {
     "duration": 88.965527,
     "end_time": "2023-11-13T22:16:52.919322",
     "exception": false,
     "start_time": "2023-11-13T22:15:23.953795",
     "status": "completed"
    },
    "tags": []
   },
   "outputs": [
    {
     "data": {
      "application/vnd.jupyter.widget-view+json": {
       "model_id": "7709ff15ca6042e68f7f5d04dafab9b4",
       "version_major": 2,
       "version_minor": 0
      },
      "text/plain": [
       "Downloading (…)lve/main/config.json:   0%|          | 0.00/646 [00:00<?, ?B/s]"
      ]
     },
     "metadata": {},
     "output_type": "display_data"
    },
    {
     "data": {
      "application/vnd.jupyter.widget-view+json": {
       "model_id": "9b26cdb929d342dbb052e57ae2299498",
       "version_major": 2,
       "version_minor": 0
      },
      "text/plain": [
       "Downloading (…)fetensors.index.json:   0%|          | 0.00/25.1k [00:00<?, ?B/s]"
      ]
     },
     "metadata": {},
     "output_type": "display_data"
    },
    {
     "data": {
      "application/vnd.jupyter.widget-view+json": {
       "model_id": "15b3bf9b27974f8f848a6bed3bbd9265",
       "version_major": 2,
       "version_minor": 0
      },
      "text/plain": [
       "Downloading shards:   0%|          | 0/2 [00:00<?, ?it/s]"
      ]
     },
     "metadata": {},
     "output_type": "display_data"
    },
    {
     "data": {
      "application/vnd.jupyter.widget-view+json": {
       "model_id": "c5a06ec1b6b34a8dbaa996295ef82582",
       "version_major": 2,
       "version_minor": 0
      },
      "text/plain": [
       "Downloading (…)of-00002.safetensors:   0%|          | 0.00/9.98G [00:00<?, ?B/s]"
      ]
     },
     "metadata": {},
     "output_type": "display_data"
    },
    {
     "data": {
      "application/vnd.jupyter.widget-view+json": {
       "model_id": "2decbb1d5c654a74b5fb48e4ef5bf46a",
       "version_major": 2,
       "version_minor": 0
      },
      "text/plain": [
       "Downloading (…)of-00002.safetensors:   0%|          | 0.00/3.50G [00:00<?, ?B/s]"
      ]
     },
     "metadata": {},
     "output_type": "display_data"
    },
    {
     "data": {
      "application/vnd.jupyter.widget-view+json": {
       "model_id": "b29533da87e446729aa3841eb9f94709",
       "version_major": 2,
       "version_minor": 0
      },
      "text/plain": [
       "Loading checkpoint shards:   0%|          | 0/2 [00:00<?, ?it/s]"
      ]
     },
     "metadata": {},
     "output_type": "display_data"
    },
    {
     "data": {
      "application/vnd.jupyter.widget-view+json": {
       "model_id": "126f59e9fd7b46ecaec5cee612022377",
       "version_major": 2,
       "version_minor": 0
      },
      "text/plain": [
       "Downloading (…)neration_config.json:   0%|          | 0.00/116 [00:00<?, ?B/s]"
      ]
     },
     "metadata": {},
     "output_type": "display_data"
    }
   ],
   "source": [
    "pipeline = transformers.pipeline(\n",
    "    \"text-generation\",\n",
    "    model=model_id,\n",
    "    torch_dtype=torch.float16,\n",
    "    device_map=\"auto\",\n",
    ")"
   ]
  },
  {
   "cell_type": "code",
   "execution_count": 10,
   "id": "bf66b02d",
   "metadata": {
    "execution": {
     "iopub.execute_input": "2023-11-13T22:16:52.946791Z",
     "iopub.status.busy": "2023-11-13T22:16:52.946099Z",
     "iopub.status.idle": "2023-11-13T22:16:52.950601Z",
     "shell.execute_reply": "2023-11-13T22:16:52.949755Z"
    },
    "id": "dTKUFZmn62SM",
    "papermill": {
     "duration": 0.020189,
     "end_time": "2023-11-13T22:16:52.952553",
     "exception": false,
     "start_time": "2023-11-13T22:16:52.932364",
     "status": "completed"
    },
    "tags": []
   },
   "outputs": [],
   "source": [
    "pipeline.tokenizer.pad_token_id = tokenizer.eos_token_id"
   ]
  },
  {
   "cell_type": "markdown",
   "id": "70f43329",
   "metadata": {
    "id": "K47mzi1Vu8Jw",
    "papermill": {
     "duration": 0.012674,
     "end_time": "2023-11-13T22:16:53.025142",
     "exception": false,
     "start_time": "2023-11-13T22:16:53.012468",
     "status": "completed"
    },
    "tags": []
   },
   "source": [
    "### Generating Code"
   ]
  },
  {
   "cell_type": "code",
   "execution_count": 11,
   "id": "917d5569",
   "metadata": {
    "execution": {
     "iopub.execute_input": "2023-11-13T22:16:53.053498Z",
     "iopub.status.busy": "2023-11-13T22:16:53.053115Z",
     "iopub.status.idle": "2023-11-13T22:16:53.062150Z",
     "shell.execute_reply": "2023-11-13T22:16:53.061253Z"
    },
    "id": "fheyaFjRZTF0",
    "papermill": {
     "duration": 0.026371,
     "end_time": "2023-11-13T22:16:53.064077",
     "exception": false,
     "start_time": "2023-11-13T22:16:53.037706",
     "status": "completed"
    },
    "tags": []
   },
   "outputs": [],
   "source": [
    "def llama_v2_prompt(\n",
    "    messages: list[dict]\n",
    "):\n",
    "    B_INST, E_INST = \"[INST]\", \"[/INST]\"\n",
    "    B_SYS, E_SYS = \"<<SYS>>\\n\", \"\\n<</SYS>>\\n\\n\"\n",
    "    BOS, EOS = \"<s>\", \"</s>\"\n",
    "    DEFAULT_SYSTEM_PROMPT = f\"\"\"Provide answers in Python. Wrap around code in [PYTHON] and [/PYTHON]. Don't write any comments in generated code.\"\"\"\n",
    "\n",
    "    if messages[0][\"role\"] != \"system\":\n",
    "        messages = [\n",
    "            {\n",
    "                \"role\": \"system\",\n",
    "                \"content\": DEFAULT_SYSTEM_PROMPT,\n",
    "            }\n",
    "        ] + messages\n",
    "\n",
    "\n",
    "    messages = [\n",
    "        {\n",
    "            \"role\": messages[1][\"role\"],\n",
    "            \"content\": B_SYS + messages[0][\"content\"] + E_SYS + messages[1][\"content\"],\n",
    "        }\n",
    "    ] + messages[2:]\n",
    "\n",
    "    messages_list = [\n",
    "        f\"{BOS}{B_INST}{(prompt['content']).strip()}{E_INST}{(answer['content']).strip()}{EOS}\"\n",
    "        for prompt, answer in zip(messages[::2], messages[1::2])\n",
    "    ]\n",
    "    messages_list.append(f\"{BOS}{B_INST}{(messages[-1]['content']).strip()}{E_INST}\\n\")\n",
    "\n",
    "    return \"\".join(messages_list)"
   ]
  },
  {
   "cell_type": "code",
   "execution_count": 12,
   "id": "c69e580f",
   "metadata": {
    "execution": {
     "iopub.execute_input": "2023-11-13T22:16:53.093242Z",
     "iopub.status.busy": "2023-11-13T22:16:53.092459Z",
     "iopub.status.idle": "2023-11-13T22:16:53.099261Z",
     "shell.execute_reply": "2023-11-13T22:16:53.098300Z"
    },
    "id": "tPiIWiG6YoQb",
    "papermill": {
     "duration": 0.02336,
     "end_time": "2023-11-13T22:16:53.101533",
     "exception": false,
     "start_time": "2023-11-13T22:16:53.078173",
     "status": "completed"
    },
    "tags": []
   },
   "outputs": [],
   "source": [
    "def generate_code(dataset):\n",
    "    responses = []\n",
    "    batch_count = 0\n",
    "    batch_size = 2\n",
    "    print(f\"Total batches = {len(dataset)//batch_size}\")\n",
    "    for out in pipeline(\n",
    "      KeyDataset(dataset, \"prompt\"),\n",
    "      do_sample=True,\n",
    "      temperature=0.1,\n",
    "      top_p=0.9,\n",
    "      num_return_sequences=1,\n",
    "      eos_token_id=tokenizer.eos_token_id,\n",
    "      max_new_tokens=768,\n",
    "      batch_size = batch_size\n",
    "      ):\n",
    "        batch_count += 1\n",
    "        for o in out:\n",
    "            responses.append(o['generated_text'])\n",
    "            #print(o['generated_text'])\n",
    "        print(f'Processed batch: {batch_count}')\n",
    "    return responses"
   ]
  },
  {
   "cell_type": "code",
   "execution_count": 13,
   "id": "df70fb00",
   "metadata": {
    "execution": {
     "iopub.execute_input": "2023-11-13T22:16:53.129978Z",
     "iopub.status.busy": "2023-11-13T22:16:53.129446Z",
     "iopub.status.idle": "2023-11-13T22:16:53.138817Z",
     "shell.execute_reply": "2023-11-13T22:16:53.137896Z"
    },
    "id": "pRF2s9gPErcM",
    "papermill": {
     "duration": 0.025456,
     "end_time": "2023-11-13T22:16:53.140909",
     "exception": false,
     "start_time": "2023-11-13T22:16:53.115453",
     "status": "completed"
    },
    "tags": []
   },
   "outputs": [],
   "source": [
    "def end_overlap(a, b):\n",
    "    for i in range(0, len(a)):\n",
    "        if b.startswith(a[i:]):\n",
    "            return i\n",
    "    return len(a)\n",
    "\n",
    "def remove_prefix(s, prefix):\n",
    "    prefix_end_idx = s.index(prefix) + len(prefix)\n",
    "    return s[prefix_end_idx:]\n",
    "\n",
    "def extract_code(prompt, response, code_context):\n",
    "    B_PYTHON, E_PYTHON = '[PYTHON]', '[/PYTHON]'\n",
    "    trimmed_response = remove_prefix(response, prompt)\n",
    "    if trimmed_response.startswith(B_PYTHON):\n",
    "        trimmed_response = remove_prefix(trimmed_response, B_PYTHON)\n",
    "    try:\n",
    "        suffix_idx = trimmed_response.index(E_PYTHON)\n",
    "        trimmed_response = trimmed_response[:suffix_idx]\n",
    "    except ValueError as ve:\n",
    "          pass\n",
    "    trimmed_response = trimmed_response.strip()\n",
    "    code_context = code_context.strip()\n",
    "    overlap_idx = end_overlap(code_context, trimmed_response)\n",
    "    cleaned_response = code_context[:overlap_idx] + trimmed_response\n",
    "    return cleaned_response\n",
    "\n",
    "def save_file(path, code):\n",
    "    with open(path, 'w') as file:\n",
    "        file.write(code)\n",
    "\n",
    "def run_code_generation(dataset, save_path, n_passes=5):\n",
    "    responses = generate_code(dataset)\n",
    "    return responses\n",
    "  # for index, response in responses:\n",
    "  #   question = row['question']\n",
    "  #   code_context = row['code_context']\n",
    "  #   for p in range(n_passes):\n",
    "  #     prompt = f\"# {question}\\n{code_context}\\n\"\n",
    "  #     instruction = {\n",
    "  #       \"role\": \"user\",\n",
    "  #       \"content\": prompt,\n",
    "  #     }\n",
    "  #     prompt, response = generate_code([instruction])\n",
    "  #     code = extract_code(prompt, response, code_context)\n",
    "  #     save_file(f\"{save_path}/question-{index}-pass-{p}.py\", code)"
   ]
  },
  {
   "cell_type": "code",
   "execution_count": 14,
   "id": "84ba4c94",
   "metadata": {
    "execution": {
     "iopub.execute_input": "2023-11-13T22:16:53.168219Z",
     "iopub.status.busy": "2023-11-13T22:16:53.167907Z",
     "iopub.status.idle": "2023-11-13T22:16:53.172543Z",
     "shell.execute_reply": "2023-11-13T22:16:53.171719Z"
    },
    "id": "vZi9IG_Ts7nc",
    "papermill": {
     "duration": 0.020215,
     "end_time": "2023-11-13T22:16:53.174392",
     "exception": false,
     "start_time": "2023-11-13T22:16:53.154177",
     "status": "completed"
    },
    "tags": []
   },
   "outputs": [],
   "source": [
    "\n",
    "response = \"\"\"<s>[INST]<<SYS>>\n",
    "Provide answers in Python. Wrap around code in [PYTHON] and [/PYTHON]. Don't write any comments in generated code.\n",
    "<</SYS>>\n",
    "\n",
    "# Maximum Prefix Sum possible by merging two given arrays.\n",
    "def maxPresum(a, b):[/INST]\n",
    "[PYTHON]\n",
    "def maxPresum(a, b):\n",
    "    max_sum = 0\n",
    "    for i in range(len(a)):\n",
    "        for j in range(len(b)):\n",
    "            max_sum = max(max_sum, a[i] + b[j])\n",
    "    return max_sum\n",
    "[/PYTHON]\n",
    "\"\"\"\n",
    "\n",
    "prompt = \"\"\"<s>[INST]<<SYS>>\n",
    "Provide answers in Python. Wrap around code in [PYTHON] and [/PYTHON]. Don't write any comments in generated code.\n",
    "<</SYS>>\n",
    "\n",
    "# Maximum Prefix Sum possible by merging two given arrays.\n",
    "def maxPresum(a, b):[/INST]\n",
    "\"\"\"\n",
    "\n",
    "code_context = \"\"\"def maxPresum(a, b):\n",
    "\"\"\""
   ]
  },
  {
   "cell_type": "code",
   "execution_count": 15,
   "id": "7411f4cf",
   "metadata": {
    "execution": {
     "iopub.execute_input": "2023-11-13T22:16:53.200413Z",
     "iopub.status.busy": "2023-11-13T22:16:53.200156Z",
     "iopub.status.idle": "2023-11-13T22:16:53.203953Z",
     "shell.execute_reply": "2023-11-13T22:16:53.203212Z"
    },
    "id": "tCzDmt2cs_6o",
    "papermill": {
     "duration": 0.018818,
     "end_time": "2023-11-13T22:16:53.205725",
     "exception": false,
     "start_time": "2023-11-13T22:16:53.186907",
     "status": "completed"
    },
    "tags": []
   },
   "outputs": [],
   "source": [
    "# extract_code(prompt, response, code_context)"
   ]
  },
  {
   "cell_type": "code",
   "execution_count": 16,
   "id": "76ce7733",
   "metadata": {
    "execution": {
     "iopub.execute_input": "2023-11-13T22:16:53.231577Z",
     "iopub.status.busy": "2023-11-13T22:16:53.231303Z",
     "iopub.status.idle": "2023-11-13T22:16:53.234863Z",
     "shell.execute_reply": "2023-11-13T22:16:53.234231Z"
    },
    "id": "Zjwh0zY2FtTz",
    "papermill": {
     "duration": 0.0186,
     "end_time": "2023-11-13T22:16:53.236691",
     "exception": false,
     "start_time": "2023-11-13T22:16:53.218091",
     "status": "completed"
    },
    "tags": []
   },
   "outputs": [],
   "source": [
    "CODE_GENERATION_PATH = \"./generations/python\""
   ]
  },
  {
   "cell_type": "code",
   "execution_count": 17,
   "id": "b50dc5c1",
   "metadata": {
    "execution": {
     "iopub.execute_input": "2023-11-13T22:16:53.264554Z",
     "iopub.status.busy": "2023-11-13T22:16:53.264290Z",
     "iopub.status.idle": "2023-11-13T22:16:53.364791Z",
     "shell.execute_reply": "2023-11-13T22:16:53.363978Z"
    },
    "id": "hPt3O1A3F2Sc",
    "outputId": "9303f7cf-9603-413f-8b5e-5b76d400a3fb",
    "papermill": {
     "duration": 0.116129,
     "end_time": "2023-11-13T22:16:53.366638",
     "exception": false,
     "start_time": "2023-11-13T22:16:53.250509",
     "status": "completed"
    },
    "tags": []
   },
   "outputs": [
    {
     "data": {
      "text/html": [
       "<div>\n",
       "<style scoped>\n",
       "    .dataframe tbody tr th:only-of-type {\n",
       "        vertical-align: middle;\n",
       "    }\n",
       "\n",
       "    .dataframe tbody tr th {\n",
       "        vertical-align: top;\n",
       "    }\n",
       "\n",
       "    .dataframe thead th {\n",
       "        text-align: right;\n",
       "    }\n",
       "</style>\n",
       "<table border=\"1\" class=\"dataframe\">\n",
       "  <thead>\n",
       "    <tr style=\"text-align: right;\">\n",
       "      <th></th>\n",
       "      <th>id</th>\n",
       "      <th>text</th>\n",
       "      <th>code</th>\n",
       "      <th>question</th>\n",
       "      <th>functions</th>\n",
       "      <th>code_context</th>\n",
       "      <th>context</th>\n",
       "      <th>llama_prompt</th>\n",
       "      <th>response</th>\n",
       "      <th>response_code</th>\n",
       "    </tr>\n",
       "  </thead>\n",
       "  <tbody>\n",
       "    <tr>\n",
       "      <th>0</th>\n",
       "      <td>0</td>\n",
       "      <td>Maximum Prefix Sum possible by merging two giv...</td>\n",
       "      <td>def maxPresum(a, b):\\n    X = max(a[0], 0)\\n  ...</td>\n",
       "      <td>Maximum Prefix Sum possible by merging two giv...</td>\n",
       "      <td>['def maxPresum(a, b):']</td>\n",
       "      <td>def maxPresum(a, b):</td>\n",
       "      <td>def maxPresum(a, b):</td>\n",
       "      <td>&lt;s&gt;[INST]&lt;&lt;SYS&gt;&gt;\\nProvide answers in Python. W...</td>\n",
       "      <td>&lt;s&gt;[INST]&lt;&lt;SYS&gt;&gt;\\nProvide answers in Python. W...</td>\n",
       "      <td>def maxPresum(a, b):\\n    max_sum = 0\\n    for...</td>\n",
       "    </tr>\n",
       "    <tr>\n",
       "      <th>1</th>\n",
       "      <td>1</td>\n",
       "      <td>Check if a number can be represented as sum of...</td>\n",
       "      <td>import math\\n\\n\\ndef sumOfTwoCubes(n):\\n    lo...</td>\n",
       "      <td>Check if a number can be represented as sum of...</td>\n",
       "      <td>['def sumOfTwoCubes(n):']</td>\n",
       "      <td>import math\\n\\n\\ndef sumOfTwoCubes(n):</td>\n",
       "      <td>import math\\n\\n\\ndef sumOfTwoCubes(n):</td>\n",
       "      <td>&lt;s&gt;[INST]&lt;&lt;SYS&gt;&gt;\\nProvide answers in Python. W...</td>\n",
       "      <td>&lt;s&gt;[INST]&lt;&lt;SYS&gt;&gt;\\nProvide answers in Python. W...</td>\n",
       "      <td>import math\\n\\n\\ndef sumOfTwoCubes(n):\\n    fo...</td>\n",
       "    </tr>\n",
       "    <tr>\n",
       "      <th>2</th>\n",
       "      <td>2</td>\n",
       "      <td>Generate an N | Python3 program for the above ...</td>\n",
       "      <td>sieve = [1] * (1000000 + 1)\\n\\n\\ndef sieveOfPr...</td>\n",
       "      <td>Generate an N.</td>\n",
       "      <td>['def sieveOfPrimes():', 'def getArray(arr, N):']</td>\n",
       "      <td>sieve = [1] * (1000000 + 1)\\n\\n\\ndef sieveOfPr...</td>\n",
       "      <td>sieve = [1] * (1000000 + 1)\\n\\n\\ndef sieveOfPr...</td>\n",
       "      <td>&lt;s&gt;[INST]&lt;&lt;SYS&gt;&gt;\\nProvide answers in Python. W...</td>\n",
       "      <td>&lt;s&gt;[INST]&lt;&lt;SYS&gt;&gt;\\nProvide answers in Python. W...</td>\n",
       "      <td>sieve = [1] * (1000000 + 1)\\n\\n\\ndef sieveOfPr...</td>\n",
       "    </tr>\n",
       "    <tr>\n",
       "      <th>3</th>\n",
       "      <td>3</td>\n",
       "      <td>Nth natural number after removing all numbers ...</td>\n",
       "      <td>def findNthNumber(N):\\n    result = 0\\n    p =...</td>\n",
       "      <td>Nth natural number after removing all numbers ...</td>\n",
       "      <td>['def findNthNumber(N):']</td>\n",
       "      <td>def findNthNumber(N):</td>\n",
       "      <td>def findNthNumber(N):</td>\n",
       "      <td>&lt;s&gt;[INST]&lt;&lt;SYS&gt;&gt;\\nProvide answers in Python. W...</td>\n",
       "      <td>&lt;s&gt;[INST]&lt;&lt;SYS&gt;&gt;\\nProvide answers in Python. W...</td>\n",
       "      <td>def findNthNumber(N):\\n    nth_number = 1\\n   ...</td>\n",
       "    </tr>\n",
       "    <tr>\n",
       "      <th>4</th>\n",
       "      <td>4</td>\n",
       "      <td>Check if an integer is rotation of another giv...</td>\n",
       "      <td>import math\\n\\n\\ndef check(A, B):\\n    if (A =...</td>\n",
       "      <td>Check if an integer is rotation of another giv...</td>\n",
       "      <td>['def check(A, B):']</td>\n",
       "      <td>import math\\n\\n\\ndef check(A, B):</td>\n",
       "      <td>import math\\n\\n\\ndef check(A, B):</td>\n",
       "      <td>&lt;s&gt;[INST]&lt;&lt;SYS&gt;&gt;\\nProvide answers in Python. W...</td>\n",
       "      <td>&lt;s&gt;[INST]&lt;&lt;SYS&gt;&gt;\\nProvide answers in Python. W...</td>\n",
       "      <td>import math\\n\\n\\ndef check(A, B):\\n    if A ==...</td>\n",
       "    </tr>\n",
       "  </tbody>\n",
       "</table>\n",
       "</div>"
      ],
      "text/plain": [
       "   id                                               text  \\\n",
       "0   0  Maximum Prefix Sum possible by merging two giv...   \n",
       "1   1  Check if a number can be represented as sum of...   \n",
       "2   2  Generate an N | Python3 program for the above ...   \n",
       "3   3  Nth natural number after removing all numbers ...   \n",
       "4   4  Check if an integer is rotation of another giv...   \n",
       "\n",
       "                                                code  \\\n",
       "0  def maxPresum(a, b):\\n    X = max(a[0], 0)\\n  ...   \n",
       "1  import math\\n\\n\\ndef sumOfTwoCubes(n):\\n    lo...   \n",
       "2  sieve = [1] * (1000000 + 1)\\n\\n\\ndef sieveOfPr...   \n",
       "3  def findNthNumber(N):\\n    result = 0\\n    p =...   \n",
       "4  import math\\n\\n\\ndef check(A, B):\\n    if (A =...   \n",
       "\n",
       "                                            question  \\\n",
       "0  Maximum Prefix Sum possible by merging two giv...   \n",
       "1  Check if a number can be represented as sum of...   \n",
       "2                                     Generate an N.   \n",
       "3  Nth natural number after removing all numbers ...   \n",
       "4  Check if an integer is rotation of another giv...   \n",
       "\n",
       "                                           functions  \\\n",
       "0                           ['def maxPresum(a, b):']   \n",
       "1                          ['def sumOfTwoCubes(n):']   \n",
       "2  ['def sieveOfPrimes():', 'def getArray(arr, N):']   \n",
       "3                          ['def findNthNumber(N):']   \n",
       "4                               ['def check(A, B):']   \n",
       "\n",
       "                                        code_context  \\\n",
       "0                               def maxPresum(a, b):   \n",
       "1             import math\\n\\n\\ndef sumOfTwoCubes(n):   \n",
       "2  sieve = [1] * (1000000 + 1)\\n\\n\\ndef sieveOfPr...   \n",
       "3                              def findNthNumber(N):   \n",
       "4                  import math\\n\\n\\ndef check(A, B):   \n",
       "\n",
       "                                             context  \\\n",
       "0                               def maxPresum(a, b):   \n",
       "1             import math\\n\\n\\ndef sumOfTwoCubes(n):   \n",
       "2  sieve = [1] * (1000000 + 1)\\n\\n\\ndef sieveOfPr...   \n",
       "3                              def findNthNumber(N):   \n",
       "4                  import math\\n\\n\\ndef check(A, B):   \n",
       "\n",
       "                                        llama_prompt  \\\n",
       "0  <s>[INST]<<SYS>>\\nProvide answers in Python. W...   \n",
       "1  <s>[INST]<<SYS>>\\nProvide answers in Python. W...   \n",
       "2  <s>[INST]<<SYS>>\\nProvide answers in Python. W...   \n",
       "3  <s>[INST]<<SYS>>\\nProvide answers in Python. W...   \n",
       "4  <s>[INST]<<SYS>>\\nProvide answers in Python. W...   \n",
       "\n",
       "                                            response  \\\n",
       "0  <s>[INST]<<SYS>>\\nProvide answers in Python. W...   \n",
       "1  <s>[INST]<<SYS>>\\nProvide answers in Python. W...   \n",
       "2  <s>[INST]<<SYS>>\\nProvide answers in Python. W...   \n",
       "3  <s>[INST]<<SYS>>\\nProvide answers in Python. W...   \n",
       "4  <s>[INST]<<SYS>>\\nProvide answers in Python. W...   \n",
       "\n",
       "                                       response_code  \n",
       "0  def maxPresum(a, b):\\n    max_sum = 0\\n    for...  \n",
       "1  import math\\n\\n\\ndef sumOfTwoCubes(n):\\n    fo...  \n",
       "2  sieve = [1] * (1000000 + 1)\\n\\n\\ndef sieveOfPr...  \n",
       "3  def findNthNumber(N):\\n    nth_number = 1\\n   ...  \n",
       "4  import math\\n\\n\\ndef check(A, B):\\n    if A ==...  "
      ]
     },
     "execution_count": 17,
     "metadata": {},
     "output_type": "execute_result"
    }
   ],
   "source": [
    "train_df = pd.read_csv('/kaggle/input/python-generation-processed/train_response_processed.csv', index_col=0)\n",
    "train_df.head()"
   ]
  },
  {
   "cell_type": "code",
   "execution_count": 18,
   "id": "ae859b40",
   "metadata": {
    "execution": {
     "iopub.execute_input": "2023-11-13T22:16:53.393742Z",
     "iopub.status.busy": "2023-11-13T22:16:53.393474Z",
     "iopub.status.idle": "2023-11-13T22:16:55.399495Z",
     "shell.execute_reply": "2023-11-13T22:16:55.398361Z"
    },
    "papermill": {
     "duration": 2.022502,
     "end_time": "2023-11-13T22:16:55.401971",
     "exception": false,
     "start_time": "2023-11-13T22:16:53.379469",
     "status": "completed"
    },
    "tags": []
   },
   "outputs": [
    {
     "data": {
      "application/vnd.jupyter.widget-view+json": {
       "model_id": "c56bd79ff8f0425db4189b93b5b7ce77",
       "version_major": 2,
       "version_minor": 0
      },
      "text/plain": [
       "  0%|          | 0/300 [00:00<?, ?it/s]"
      ]
     },
     "metadata": {},
     "output_type": "display_data"
    }
   ],
   "source": [
    "REPORTS_PATH = '/kaggle/input/python-generations-analysis'\n",
    "\n",
    "ids = train_df['id'].values.tolist()\n",
    "\n",
    "analysis_reports = {}\n",
    "for id in notebook.tqdm(ids):\n",
    "    with open(f'{REPORTS_PATH}/question-{id}-pass-1.json') as file:\n",
    "        report = json.load(file)\n",
    "        analysis_reports[id] = report"
   ]
  },
  {
   "cell_type": "code",
   "execution_count": 19,
   "id": "3df07b70",
   "metadata": {
    "execution": {
     "iopub.execute_input": "2023-11-13T22:16:55.429964Z",
     "iopub.status.busy": "2023-11-13T22:16:55.429655Z",
     "iopub.status.idle": "2023-11-13T22:16:55.435759Z",
     "shell.execute_reply": "2023-11-13T22:16:55.435007Z"
    },
    "papermill": {
     "duration": 0.022065,
     "end_time": "2023-11-13T22:16:55.437581",
     "exception": false,
     "start_time": "2023-11-13T22:16:55.415516",
     "status": "completed"
    },
    "tags": []
   },
   "outputs": [
    {
     "data": {
      "text/plain": [
       "{'./files/question-10-pass-1.py': [{'code': 'E225',\n",
       "   'filename': './files/question-10-pass-1.py',\n",
       "   'line_number': 11,\n",
       "   'column_number': 23,\n",
       "   'text': 'missing whitespace around operator',\n",
       "   'physical_line': '            if b[i][j]!= b[i][j-1]:\\n'},\n",
       "  {'code': 'W292',\n",
       "   'filename': './files/question-10-pass-1.py',\n",
       "   'line_number': 16,\n",
       "   'column_number': 17,\n",
       "   'text': 'no newline at end of file',\n",
       "   'physical_line': '    return swaps'}]}"
      ]
     },
     "execution_count": 19,
     "metadata": {},
     "output_type": "execute_result"
    }
   ],
   "source": [
    "analysis_reports[10]"
   ]
  },
  {
   "cell_type": "code",
   "execution_count": 20,
   "id": "b1faafe1",
   "metadata": {
    "execution": {
     "iopub.execute_input": "2023-11-13T22:16:55.466312Z",
     "iopub.status.busy": "2023-11-13T22:16:55.466043Z",
     "iopub.status.idle": "2023-11-13T22:16:55.489750Z",
     "shell.execute_reply": "2023-11-13T22:16:55.488870Z"
    },
    "papermill": {
     "duration": 0.040596,
     "end_time": "2023-11-13T22:16:55.491549",
     "exception": false,
     "start_time": "2023-11-13T22:16:55.450953",
     "status": "completed"
    },
    "tags": []
   },
   "outputs": [
    {
     "data": {
      "text/html": [
       "<div>\n",
       "<style scoped>\n",
       "    .dataframe tbody tr th:only-of-type {\n",
       "        vertical-align: middle;\n",
       "    }\n",
       "\n",
       "    .dataframe tbody tr th {\n",
       "        vertical-align: top;\n",
       "    }\n",
       "\n",
       "    .dataframe thead th {\n",
       "        text-align: right;\n",
       "    }\n",
       "</style>\n",
       "<table border=\"1\" class=\"dataframe\">\n",
       "  <thead>\n",
       "    <tr style=\"text-align: right;\">\n",
       "      <th></th>\n",
       "      <th>id</th>\n",
       "      <th>text</th>\n",
       "      <th>code</th>\n",
       "      <th>question</th>\n",
       "      <th>functions</th>\n",
       "      <th>code_context</th>\n",
       "      <th>context</th>\n",
       "      <th>llama_prompt</th>\n",
       "      <th>response</th>\n",
       "      <th>response_code</th>\n",
       "      <th>report</th>\n",
       "    </tr>\n",
       "  </thead>\n",
       "  <tbody>\n",
       "    <tr>\n",
       "      <th>0</th>\n",
       "      <td>0</td>\n",
       "      <td>Maximum Prefix Sum possible by merging two giv...</td>\n",
       "      <td>def maxPresum(a, b):\\n    X = max(a[0], 0)\\n  ...</td>\n",
       "      <td>Maximum Prefix Sum possible by merging two giv...</td>\n",
       "      <td>['def maxPresum(a, b):']</td>\n",
       "      <td>def maxPresum(a, b):</td>\n",
       "      <td>def maxPresum(a, b):</td>\n",
       "      <td>&lt;s&gt;[INST]&lt;&lt;SYS&gt;&gt;\\nProvide answers in Python. W...</td>\n",
       "      <td>&lt;s&gt;[INST]&lt;&lt;SYS&gt;&gt;\\nProvide answers in Python. W...</td>\n",
       "      <td>def maxPresum(a, b):\\n    max_sum = 0\\n    for...</td>\n",
       "      <td>{'./files/question-0-pass-1.py': [{'code': 'W2...</td>\n",
       "    </tr>\n",
       "    <tr>\n",
       "      <th>1</th>\n",
       "      <td>1</td>\n",
       "      <td>Check if a number can be represented as sum of...</td>\n",
       "      <td>import math\\n\\n\\ndef sumOfTwoCubes(n):\\n    lo...</td>\n",
       "      <td>Check if a number can be represented as sum of...</td>\n",
       "      <td>['def sumOfTwoCubes(n):']</td>\n",
       "      <td>import math\\n\\n\\ndef sumOfTwoCubes(n):</td>\n",
       "      <td>import math\\n\\n\\ndef sumOfTwoCubes(n):</td>\n",
       "      <td>&lt;s&gt;[INST]&lt;&lt;SYS&gt;&gt;\\nProvide answers in Python. W...</td>\n",
       "      <td>&lt;s&gt;[INST]&lt;&lt;SYS&gt;&gt;\\nProvide answers in Python. W...</td>\n",
       "      <td>import math\\n\\n\\ndef sumOfTwoCubes(n):\\n    fo...</td>\n",
       "      <td>{'./files/question-1-pass-1.py': [{'code': 'W2...</td>\n",
       "    </tr>\n",
       "    <tr>\n",
       "      <th>2</th>\n",
       "      <td>2</td>\n",
       "      <td>Generate an N | Python3 program for the above ...</td>\n",
       "      <td>sieve = [1] * (1000000 + 1)\\n\\n\\ndef sieveOfPr...</td>\n",
       "      <td>Generate an N.</td>\n",
       "      <td>['def sieveOfPrimes():', 'def getArray(arr, N):']</td>\n",
       "      <td>sieve = [1] * (1000000 + 1)\\n\\n\\ndef sieveOfPr...</td>\n",
       "      <td>sieve = [1] * (1000000 + 1)\\n\\n\\ndef sieveOfPr...</td>\n",
       "      <td>&lt;s&gt;[INST]&lt;&lt;SYS&gt;&gt;\\nProvide answers in Python. W...</td>\n",
       "      <td>&lt;s&gt;[INST]&lt;&lt;SYS&gt;&gt;\\nProvide answers in Python. W...</td>\n",
       "      <td>sieve = [1] * (1000000 + 1)\\n\\n\\ndef sieveOfPr...</td>\n",
       "      <td>{'./files/question-2-pass-1.py': [{'code': 'W2...</td>\n",
       "    </tr>\n",
       "    <tr>\n",
       "      <th>3</th>\n",
       "      <td>3</td>\n",
       "      <td>Nth natural number after removing all numbers ...</td>\n",
       "      <td>def findNthNumber(N):\\n    result = 0\\n    p =...</td>\n",
       "      <td>Nth natural number after removing all numbers ...</td>\n",
       "      <td>['def findNthNumber(N):']</td>\n",
       "      <td>def findNthNumber(N):</td>\n",
       "      <td>def findNthNumber(N):</td>\n",
       "      <td>&lt;s&gt;[INST]&lt;&lt;SYS&gt;&gt;\\nProvide answers in Python. W...</td>\n",
       "      <td>&lt;s&gt;[INST]&lt;&lt;SYS&gt;&gt;\\nProvide answers in Python. W...</td>\n",
       "      <td>def findNthNumber(N):\\n    nth_number = 1\\n   ...</td>\n",
       "      <td>{'./files/question-3-pass-1.py': [{'code': 'W2...</td>\n",
       "    </tr>\n",
       "    <tr>\n",
       "      <th>4</th>\n",
       "      <td>4</td>\n",
       "      <td>Check if an integer is rotation of another giv...</td>\n",
       "      <td>import math\\n\\n\\ndef check(A, B):\\n    if (A =...</td>\n",
       "      <td>Check if an integer is rotation of another giv...</td>\n",
       "      <td>['def check(A, B):']</td>\n",
       "      <td>import math\\n\\n\\ndef check(A, B):</td>\n",
       "      <td>import math\\n\\n\\ndef check(A, B):</td>\n",
       "      <td>&lt;s&gt;[INST]&lt;&lt;SYS&gt;&gt;\\nProvide answers in Python. W...</td>\n",
       "      <td>&lt;s&gt;[INST]&lt;&lt;SYS&gt;&gt;\\nProvide answers in Python. W...</td>\n",
       "      <td>import math\\n\\n\\ndef check(A, B):\\n    if A ==...</td>\n",
       "      <td>{'./files/question-4-pass-1.py': [{'code': 'E2...</td>\n",
       "    </tr>\n",
       "  </tbody>\n",
       "</table>\n",
       "</div>"
      ],
      "text/plain": [
       "   id                                               text  \\\n",
       "0   0  Maximum Prefix Sum possible by merging two giv...   \n",
       "1   1  Check if a number can be represented as sum of...   \n",
       "2   2  Generate an N | Python3 program for the above ...   \n",
       "3   3  Nth natural number after removing all numbers ...   \n",
       "4   4  Check if an integer is rotation of another giv...   \n",
       "\n",
       "                                                code  \\\n",
       "0  def maxPresum(a, b):\\n    X = max(a[0], 0)\\n  ...   \n",
       "1  import math\\n\\n\\ndef sumOfTwoCubes(n):\\n    lo...   \n",
       "2  sieve = [1] * (1000000 + 1)\\n\\n\\ndef sieveOfPr...   \n",
       "3  def findNthNumber(N):\\n    result = 0\\n    p =...   \n",
       "4  import math\\n\\n\\ndef check(A, B):\\n    if (A =...   \n",
       "\n",
       "                                            question  \\\n",
       "0  Maximum Prefix Sum possible by merging two giv...   \n",
       "1  Check if a number can be represented as sum of...   \n",
       "2                                     Generate an N.   \n",
       "3  Nth natural number after removing all numbers ...   \n",
       "4  Check if an integer is rotation of another giv...   \n",
       "\n",
       "                                           functions  \\\n",
       "0                           ['def maxPresum(a, b):']   \n",
       "1                          ['def sumOfTwoCubes(n):']   \n",
       "2  ['def sieveOfPrimes():', 'def getArray(arr, N):']   \n",
       "3                          ['def findNthNumber(N):']   \n",
       "4                               ['def check(A, B):']   \n",
       "\n",
       "                                        code_context  \\\n",
       "0                               def maxPresum(a, b):   \n",
       "1             import math\\n\\n\\ndef sumOfTwoCubes(n):   \n",
       "2  sieve = [1] * (1000000 + 1)\\n\\n\\ndef sieveOfPr...   \n",
       "3                              def findNthNumber(N):   \n",
       "4                  import math\\n\\n\\ndef check(A, B):   \n",
       "\n",
       "                                             context  \\\n",
       "0                               def maxPresum(a, b):   \n",
       "1             import math\\n\\n\\ndef sumOfTwoCubes(n):   \n",
       "2  sieve = [1] * (1000000 + 1)\\n\\n\\ndef sieveOfPr...   \n",
       "3                              def findNthNumber(N):   \n",
       "4                  import math\\n\\n\\ndef check(A, B):   \n",
       "\n",
       "                                        llama_prompt  \\\n",
       "0  <s>[INST]<<SYS>>\\nProvide answers in Python. W...   \n",
       "1  <s>[INST]<<SYS>>\\nProvide answers in Python. W...   \n",
       "2  <s>[INST]<<SYS>>\\nProvide answers in Python. W...   \n",
       "3  <s>[INST]<<SYS>>\\nProvide answers in Python. W...   \n",
       "4  <s>[INST]<<SYS>>\\nProvide answers in Python. W...   \n",
       "\n",
       "                                            response  \\\n",
       "0  <s>[INST]<<SYS>>\\nProvide answers in Python. W...   \n",
       "1  <s>[INST]<<SYS>>\\nProvide answers in Python. W...   \n",
       "2  <s>[INST]<<SYS>>\\nProvide answers in Python. W...   \n",
       "3  <s>[INST]<<SYS>>\\nProvide answers in Python. W...   \n",
       "4  <s>[INST]<<SYS>>\\nProvide answers in Python. W...   \n",
       "\n",
       "                                       response_code  \\\n",
       "0  def maxPresum(a, b):\\n    max_sum = 0\\n    for...   \n",
       "1  import math\\n\\n\\ndef sumOfTwoCubes(n):\\n    fo...   \n",
       "2  sieve = [1] * (1000000 + 1)\\n\\n\\ndef sieveOfPr...   \n",
       "3  def findNthNumber(N):\\n    nth_number = 1\\n   ...   \n",
       "4  import math\\n\\n\\ndef check(A, B):\\n    if A ==...   \n",
       "\n",
       "                                              report  \n",
       "0  {'./files/question-0-pass-1.py': [{'code': 'W2...  \n",
       "1  {'./files/question-1-pass-1.py': [{'code': 'W2...  \n",
       "2  {'./files/question-2-pass-1.py': [{'code': 'W2...  \n",
       "3  {'./files/question-3-pass-1.py': [{'code': 'W2...  \n",
       "4  {'./files/question-4-pass-1.py': [{'code': 'E2...  "
      ]
     },
     "execution_count": 20,
     "metadata": {},
     "output_type": "execute_result"
    }
   ],
   "source": [
    "train_df['report'] = train_df['id'].map(lambda x: analysis_reports[x])\n",
    "\n",
    "train_df.head()"
   ]
  },
  {
   "cell_type": "code",
   "execution_count": 21,
   "id": "99a8471a",
   "metadata": {
    "execution": {
     "iopub.execute_input": "2023-11-13T22:16:55.519923Z",
     "iopub.status.busy": "2023-11-13T22:16:55.519636Z",
     "iopub.status.idle": "2023-11-13T22:16:55.525291Z",
     "shell.execute_reply": "2023-11-13T22:16:55.524534Z"
    },
    "papermill": {
     "duration": 0.02201,
     "end_time": "2023-11-13T22:16:55.527085",
     "exception": false,
     "start_time": "2023-11-13T22:16:55.505075",
     "status": "completed"
    },
    "tags": []
   },
   "outputs": [
    {
     "data": {
      "text/plain": [
       "dict"
      ]
     },
     "execution_count": 21,
     "metadata": {},
     "output_type": "execute_result"
    }
   ],
   "source": [
    "type(train_df.loc[0]['report'])"
   ]
  },
  {
   "cell_type": "code",
   "execution_count": 22,
   "id": "3d92860e",
   "metadata": {
    "execution": {
     "iopub.execute_input": "2023-11-13T22:16:55.555563Z",
     "iopub.status.busy": "2023-11-13T22:16:55.555051Z",
     "iopub.status.idle": "2023-11-13T22:16:55.561319Z",
     "shell.execute_reply": "2023-11-13T22:16:55.560368Z"
    },
    "papermill": {
     "duration": 0.02244,
     "end_time": "2023-11-13T22:16:55.563264",
     "exception": false,
     "start_time": "2023-11-13T22:16:55.540824",
     "status": "completed"
    },
    "tags": []
   },
   "outputs": [],
   "source": [
    "def build_feedback(report):\n",
    "    message = \"Regenerate the entire code after fixing the following errors: \\n\"\n",
    "    \n",
    "    statements = []\n",
    "    root_key = next(iter(report))\n",
    "    errors = report[root_key]\n",
    "    for i, error in enumerate(errors):\n",
    "        error_line = \"\"\n",
    "        if error['physical_line']:\n",
    "            error_line = error['physical_line'].strip('\\n')\n",
    "        ln = min(len(error_line), 10)\n",
    "        statement = f\"{i+1}. {error['text']} at line no. {error['line_number']} around code - `{error_line[:ln]}`\"\n",
    "        statements.append(statement)\n",
    "        \n",
    "    message = message + '\\n'.join(statements)\n",
    "    message += \"\\nWrap around code in [PYTHON] and [/PYTHON].\"\n",
    "    return message"
   ]
  },
  {
   "cell_type": "code",
   "execution_count": 23,
   "id": "a3c68c9c",
   "metadata": {
    "execution": {
     "iopub.execute_input": "2023-11-13T22:16:55.591462Z",
     "iopub.status.busy": "2023-11-13T22:16:55.591211Z",
     "iopub.status.idle": "2023-11-13T22:16:55.595589Z",
     "shell.execute_reply": "2023-11-13T22:16:55.594779Z"
    },
    "papermill": {
     "duration": 0.020888,
     "end_time": "2023-11-13T22:16:55.597586",
     "exception": false,
     "start_time": "2023-11-13T22:16:55.576698",
     "status": "completed"
    },
    "tags": []
   },
   "outputs": [
    {
     "name": "stdout",
     "output_type": "stream",
     "text": [
      "Regenerate the entire code after fixing the following errors: \n",
      "1. 'bisect.bisect_left' imported but unused at line no. 1 around code - `from bisec`\n",
      "2. no newline at end of file at line no. 10 around code - `    return`\n",
      "Wrap around code in [PYTHON] and [/PYTHON].\n"
     ]
    }
   ],
   "source": [
    "print(build_feedback(train_df.loc[32]['report']))"
   ]
  },
  {
   "cell_type": "code",
   "execution_count": 24,
   "id": "98480bad",
   "metadata": {
    "execution": {
     "iopub.execute_input": "2023-11-13T22:16:55.627817Z",
     "iopub.status.busy": "2023-11-13T22:16:55.627531Z",
     "iopub.status.idle": "2023-11-13T22:16:55.633066Z",
     "shell.execute_reply": "2023-11-13T22:16:55.632289Z"
    },
    "id": "Y5E8bepx1jXk",
    "papermill": {
     "duration": 0.022759,
     "end_time": "2023-11-13T22:16:55.635103",
     "exception": false,
     "start_time": "2023-11-13T22:16:55.612344",
     "status": "completed"
    },
    "tags": []
   },
   "outputs": [],
   "source": [
    "def build_prompt(question, code_context, response_code, feedback):\n",
    "    prompt = f\"# {question}\\n{code_context}\\n\"\n",
    "    instruction1 = {\n",
    "      \"role\": \"user\",\n",
    "      \"content\": prompt,\n",
    "    }\n",
    "    response1 = {\n",
    "        \"role\": \"agent\",\n",
    "        \"content\": response_code\n",
    "    }\n",
    "    instruction2 = {\n",
    "      \"role\": \"user\",\n",
    "      \"content\": f\"{feedback} \\n{prompt}\",\n",
    "    }\n",
    "    llama_prompt = llama_v2_prompt([instruction1, response1, instruction2])\n",
    "    return llama_prompt"
   ]
  },
  {
   "cell_type": "code",
   "execution_count": 25,
   "id": "62fba7e8",
   "metadata": {
    "execution": {
     "iopub.execute_input": "2023-11-13T22:16:55.665109Z",
     "iopub.status.busy": "2023-11-13T22:16:55.664772Z",
     "iopub.status.idle": "2023-11-13T22:16:55.712524Z",
     "shell.execute_reply": "2023-11-13T22:16:55.711553Z"
    },
    "id": "seAf6WF7F6FK",
    "outputId": "272fbd77-65b8-44a0-b180-90d8d8759e11",
    "papermill": {
     "duration": 0.065011,
     "end_time": "2023-11-13T22:16:55.714585",
     "exception": false,
     "start_time": "2023-11-13T22:16:55.649574",
     "status": "completed"
    },
    "tags": []
   },
   "outputs": [
    {
     "data": {
      "text/html": [
       "<div>\n",
       "<style scoped>\n",
       "    .dataframe tbody tr th:only-of-type {\n",
       "        vertical-align: middle;\n",
       "    }\n",
       "\n",
       "    .dataframe tbody tr th {\n",
       "        vertical-align: top;\n",
       "    }\n",
       "\n",
       "    .dataframe thead th {\n",
       "        text-align: right;\n",
       "    }\n",
       "</style>\n",
       "<table border=\"1\" class=\"dataframe\">\n",
       "  <thead>\n",
       "    <tr style=\"text-align: right;\">\n",
       "      <th></th>\n",
       "      <th>id</th>\n",
       "      <th>text</th>\n",
       "      <th>code</th>\n",
       "      <th>question</th>\n",
       "      <th>functions</th>\n",
       "      <th>code_context</th>\n",
       "      <th>context</th>\n",
       "      <th>llama_prompt</th>\n",
       "      <th>response</th>\n",
       "      <th>response_code</th>\n",
       "      <th>report</th>\n",
       "      <th>feedback</th>\n",
       "      <th>llama_prompt_with_feedback</th>\n",
       "    </tr>\n",
       "  </thead>\n",
       "  <tbody>\n",
       "    <tr>\n",
       "      <th>0</th>\n",
       "      <td>0</td>\n",
       "      <td>Maximum Prefix Sum possible by merging two giv...</td>\n",
       "      <td>def maxPresum(a, b):\\n    X = max(a[0], 0)\\n  ...</td>\n",
       "      <td>Maximum Prefix Sum possible by merging two giv...</td>\n",
       "      <td>['def maxPresum(a, b):']</td>\n",
       "      <td>def maxPresum(a, b):</td>\n",
       "      <td>def maxPresum(a, b):</td>\n",
       "      <td>&lt;s&gt;[INST]&lt;&lt;SYS&gt;&gt;\\nProvide answers in Python. W...</td>\n",
       "      <td>&lt;s&gt;[INST]&lt;&lt;SYS&gt;&gt;\\nProvide answers in Python. W...</td>\n",
       "      <td>def maxPresum(a, b):\\n    max_sum = 0\\n    for...</td>\n",
       "      <td>{'./files/question-0-pass-1.py': [{'code': 'W2...</td>\n",
       "      <td>Regenerate the entire code after fixing the fo...</td>\n",
       "      <td>&lt;s&gt;[INST]&lt;&lt;SYS&gt;&gt;\\nProvide answers in Python. W...</td>\n",
       "    </tr>\n",
       "    <tr>\n",
       "      <th>1</th>\n",
       "      <td>1</td>\n",
       "      <td>Check if a number can be represented as sum of...</td>\n",
       "      <td>import math\\n\\n\\ndef sumOfTwoCubes(n):\\n    lo...</td>\n",
       "      <td>Check if a number can be represented as sum of...</td>\n",
       "      <td>['def sumOfTwoCubes(n):']</td>\n",
       "      <td>import math\\n\\n\\ndef sumOfTwoCubes(n):</td>\n",
       "      <td>import math\\n\\n\\ndef sumOfTwoCubes(n):</td>\n",
       "      <td>&lt;s&gt;[INST]&lt;&lt;SYS&gt;&gt;\\nProvide answers in Python. W...</td>\n",
       "      <td>&lt;s&gt;[INST]&lt;&lt;SYS&gt;&gt;\\nProvide answers in Python. W...</td>\n",
       "      <td>import math\\n\\n\\ndef sumOfTwoCubes(n):\\n    fo...</td>\n",
       "      <td>{'./files/question-1-pass-1.py': [{'code': 'W2...</td>\n",
       "      <td>Regenerate the entire code after fixing the fo...</td>\n",
       "      <td>&lt;s&gt;[INST]&lt;&lt;SYS&gt;&gt;\\nProvide answers in Python. W...</td>\n",
       "    </tr>\n",
       "    <tr>\n",
       "      <th>2</th>\n",
       "      <td>2</td>\n",
       "      <td>Generate an N | Python3 program for the above ...</td>\n",
       "      <td>sieve = [1] * (1000000 + 1)\\n\\n\\ndef sieveOfPr...</td>\n",
       "      <td>Generate an N.</td>\n",
       "      <td>['def sieveOfPrimes():', 'def getArray(arr, N):']</td>\n",
       "      <td>sieve = [1] * (1000000 + 1)\\n\\n\\ndef sieveOfPr...</td>\n",
       "      <td>sieve = [1] * (1000000 + 1)\\n\\n\\ndef sieveOfPr...</td>\n",
       "      <td>&lt;s&gt;[INST]&lt;&lt;SYS&gt;&gt;\\nProvide answers in Python. W...</td>\n",
       "      <td>&lt;s&gt;[INST]&lt;&lt;SYS&gt;&gt;\\nProvide answers in Python. W...</td>\n",
       "      <td>sieve = [1] * (1000000 + 1)\\n\\n\\ndef sieveOfPr...</td>\n",
       "      <td>{'./files/question-2-pass-1.py': [{'code': 'W2...</td>\n",
       "      <td>Regenerate the entire code after fixing the fo...</td>\n",
       "      <td>&lt;s&gt;[INST]&lt;&lt;SYS&gt;&gt;\\nProvide answers in Python. W...</td>\n",
       "    </tr>\n",
       "    <tr>\n",
       "      <th>3</th>\n",
       "      <td>3</td>\n",
       "      <td>Nth natural number after removing all numbers ...</td>\n",
       "      <td>def findNthNumber(N):\\n    result = 0\\n    p =...</td>\n",
       "      <td>Nth natural number after removing all numbers ...</td>\n",
       "      <td>['def findNthNumber(N):']</td>\n",
       "      <td>def findNthNumber(N):</td>\n",
       "      <td>def findNthNumber(N):</td>\n",
       "      <td>&lt;s&gt;[INST]&lt;&lt;SYS&gt;&gt;\\nProvide answers in Python. W...</td>\n",
       "      <td>&lt;s&gt;[INST]&lt;&lt;SYS&gt;&gt;\\nProvide answers in Python. W...</td>\n",
       "      <td>def findNthNumber(N):\\n    nth_number = 1\\n   ...</td>\n",
       "      <td>{'./files/question-3-pass-1.py': [{'code': 'W2...</td>\n",
       "      <td>Regenerate the entire code after fixing the fo...</td>\n",
       "      <td>&lt;s&gt;[INST]&lt;&lt;SYS&gt;&gt;\\nProvide answers in Python. W...</td>\n",
       "    </tr>\n",
       "    <tr>\n",
       "      <th>4</th>\n",
       "      <td>4</td>\n",
       "      <td>Check if an integer is rotation of another giv...</td>\n",
       "      <td>import math\\n\\n\\ndef check(A, B):\\n    if (A =...</td>\n",
       "      <td>Check if an integer is rotation of another giv...</td>\n",
       "      <td>['def check(A, B):']</td>\n",
       "      <td>import math\\n\\n\\ndef check(A, B):</td>\n",
       "      <td>import math\\n\\n\\ndef check(A, B):</td>\n",
       "      <td>&lt;s&gt;[INST]&lt;&lt;SYS&gt;&gt;\\nProvide answers in Python. W...</td>\n",
       "      <td>&lt;s&gt;[INST]&lt;&lt;SYS&gt;&gt;\\nProvide answers in Python. W...</td>\n",
       "      <td>import math\\n\\n\\ndef check(A, B):\\n    if A ==...</td>\n",
       "      <td>{'./files/question-4-pass-1.py': [{'code': 'E2...</td>\n",
       "      <td>Regenerate the entire code after fixing the fo...</td>\n",
       "      <td>&lt;s&gt;[INST]&lt;&lt;SYS&gt;&gt;\\nProvide answers in Python. W...</td>\n",
       "    </tr>\n",
       "  </tbody>\n",
       "</table>\n",
       "</div>"
      ],
      "text/plain": [
       "   id                                               text  \\\n",
       "0   0  Maximum Prefix Sum possible by merging two giv...   \n",
       "1   1  Check if a number can be represented as sum of...   \n",
       "2   2  Generate an N | Python3 program for the above ...   \n",
       "3   3  Nth natural number after removing all numbers ...   \n",
       "4   4  Check if an integer is rotation of another giv...   \n",
       "\n",
       "                                                code  \\\n",
       "0  def maxPresum(a, b):\\n    X = max(a[0], 0)\\n  ...   \n",
       "1  import math\\n\\n\\ndef sumOfTwoCubes(n):\\n    lo...   \n",
       "2  sieve = [1] * (1000000 + 1)\\n\\n\\ndef sieveOfPr...   \n",
       "3  def findNthNumber(N):\\n    result = 0\\n    p =...   \n",
       "4  import math\\n\\n\\ndef check(A, B):\\n    if (A =...   \n",
       "\n",
       "                                            question  \\\n",
       "0  Maximum Prefix Sum possible by merging two giv...   \n",
       "1  Check if a number can be represented as sum of...   \n",
       "2                                     Generate an N.   \n",
       "3  Nth natural number after removing all numbers ...   \n",
       "4  Check if an integer is rotation of another giv...   \n",
       "\n",
       "                                           functions  \\\n",
       "0                           ['def maxPresum(a, b):']   \n",
       "1                          ['def sumOfTwoCubes(n):']   \n",
       "2  ['def sieveOfPrimes():', 'def getArray(arr, N):']   \n",
       "3                          ['def findNthNumber(N):']   \n",
       "4                               ['def check(A, B):']   \n",
       "\n",
       "                                        code_context  \\\n",
       "0                               def maxPresum(a, b):   \n",
       "1             import math\\n\\n\\ndef sumOfTwoCubes(n):   \n",
       "2  sieve = [1] * (1000000 + 1)\\n\\n\\ndef sieveOfPr...   \n",
       "3                              def findNthNumber(N):   \n",
       "4                  import math\\n\\n\\ndef check(A, B):   \n",
       "\n",
       "                                             context  \\\n",
       "0                               def maxPresum(a, b):   \n",
       "1             import math\\n\\n\\ndef sumOfTwoCubes(n):   \n",
       "2  sieve = [1] * (1000000 + 1)\\n\\n\\ndef sieveOfPr...   \n",
       "3                              def findNthNumber(N):   \n",
       "4                  import math\\n\\n\\ndef check(A, B):   \n",
       "\n",
       "                                        llama_prompt  \\\n",
       "0  <s>[INST]<<SYS>>\\nProvide answers in Python. W...   \n",
       "1  <s>[INST]<<SYS>>\\nProvide answers in Python. W...   \n",
       "2  <s>[INST]<<SYS>>\\nProvide answers in Python. W...   \n",
       "3  <s>[INST]<<SYS>>\\nProvide answers in Python. W...   \n",
       "4  <s>[INST]<<SYS>>\\nProvide answers in Python. W...   \n",
       "\n",
       "                                            response  \\\n",
       "0  <s>[INST]<<SYS>>\\nProvide answers in Python. W...   \n",
       "1  <s>[INST]<<SYS>>\\nProvide answers in Python. W...   \n",
       "2  <s>[INST]<<SYS>>\\nProvide answers in Python. W...   \n",
       "3  <s>[INST]<<SYS>>\\nProvide answers in Python. W...   \n",
       "4  <s>[INST]<<SYS>>\\nProvide answers in Python. W...   \n",
       "\n",
       "                                       response_code  \\\n",
       "0  def maxPresum(a, b):\\n    max_sum = 0\\n    for...   \n",
       "1  import math\\n\\n\\ndef sumOfTwoCubes(n):\\n    fo...   \n",
       "2  sieve = [1] * (1000000 + 1)\\n\\n\\ndef sieveOfPr...   \n",
       "3  def findNthNumber(N):\\n    nth_number = 1\\n   ...   \n",
       "4  import math\\n\\n\\ndef check(A, B):\\n    if A ==...   \n",
       "\n",
       "                                              report  \\\n",
       "0  {'./files/question-0-pass-1.py': [{'code': 'W2...   \n",
       "1  {'./files/question-1-pass-1.py': [{'code': 'W2...   \n",
       "2  {'./files/question-2-pass-1.py': [{'code': 'W2...   \n",
       "3  {'./files/question-3-pass-1.py': [{'code': 'W2...   \n",
       "4  {'./files/question-4-pass-1.py': [{'code': 'E2...   \n",
       "\n",
       "                                            feedback  \\\n",
       "0  Regenerate the entire code after fixing the fo...   \n",
       "1  Regenerate the entire code after fixing the fo...   \n",
       "2  Regenerate the entire code after fixing the fo...   \n",
       "3  Regenerate the entire code after fixing the fo...   \n",
       "4  Regenerate the entire code after fixing the fo...   \n",
       "\n",
       "                          llama_prompt_with_feedback  \n",
       "0  <s>[INST]<<SYS>>\\nProvide answers in Python. W...  \n",
       "1  <s>[INST]<<SYS>>\\nProvide answers in Python. W...  \n",
       "2  <s>[INST]<<SYS>>\\nProvide answers in Python. W...  \n",
       "3  <s>[INST]<<SYS>>\\nProvide answers in Python. W...  \n",
       "4  <s>[INST]<<SYS>>\\nProvide answers in Python. W...  "
      ]
     },
     "execution_count": 25,
     "metadata": {},
     "output_type": "execute_result"
    }
   ],
   "source": [
    "train_df['feedback'] = train_df['report'].apply(lambda x: build_feedback(x))\n",
    "train_df['llama_prompt_with_feedback'] = train_df.apply(lambda row: build_prompt(row.question, row.code_context, row.response_code, row.feedback), axis = 1)\n",
    "train_df.head()"
   ]
  },
  {
   "cell_type": "code",
   "execution_count": 26,
   "id": "ff80470d",
   "metadata": {
    "execution": {
     "iopub.execute_input": "2023-11-13T22:16:55.745075Z",
     "iopub.status.busy": "2023-11-13T22:16:55.744759Z",
     "iopub.status.idle": "2023-11-13T22:16:55.748453Z",
     "shell.execute_reply": "2023-11-13T22:16:55.747584Z"
    },
    "papermill": {
     "duration": 0.021013,
     "end_time": "2023-11-13T22:16:55.750423",
     "exception": false,
     "start_time": "2023-11-13T22:16:55.729410",
     "status": "completed"
    },
    "tags": []
   },
   "outputs": [],
   "source": [
    "# print(train_df.loc[32]['llama_prompt_with_feedback'])"
   ]
  },
  {
   "cell_type": "code",
   "execution_count": 27,
   "id": "66387384",
   "metadata": {
    "execution": {
     "iopub.execute_input": "2023-11-13T22:16:55.779748Z",
     "iopub.status.busy": "2023-11-13T22:16:55.779486Z",
     "iopub.status.idle": "2023-11-13T22:16:55.817077Z",
     "shell.execute_reply": "2023-11-13T22:16:55.816330Z"
    },
    "id": "DNpUdvLt2K9V",
    "papermill": {
     "duration": 0.054694,
     "end_time": "2023-11-13T22:16:55.819202",
     "exception": false,
     "start_time": "2023-11-13T22:16:55.764508",
     "status": "completed"
    },
    "tags": []
   },
   "outputs": [],
   "source": [
    "prompts = train_df['llama_prompt_with_feedback'].values.tolist()\n",
    "prompts_dic = {'prompt': prompts}\n",
    "prompts_dataset = Dataset.from_dict(prompts_dic)"
   ]
  },
  {
   "cell_type": "code",
   "execution_count": 28,
   "id": "b1fbdea5",
   "metadata": {
    "execution": {
     "iopub.execute_input": "2023-11-13T22:16:55.850916Z",
     "iopub.status.busy": "2023-11-13T22:16:55.850588Z",
     "iopub.status.idle": "2023-11-13T22:16:55.858688Z",
     "shell.execute_reply": "2023-11-13T22:16:55.857734Z"
    },
    "id": "7WEcv6o430o0",
    "outputId": "26f32a94-4394-405f-e5e8-c995568dd6cd",
    "papermill": {
     "duration": 0.026571,
     "end_time": "2023-11-13T22:16:55.860766",
     "exception": false,
     "start_time": "2023-11-13T22:16:55.834195",
     "status": "completed"
    },
    "tags": []
   },
   "outputs": [
    {
     "data": {
      "text/plain": [
       "{'prompt': \"<s>[INST]<<SYS>>\\nProvide answers in Python. Wrap around code in [PYTHON] and [/PYTHON]. Don't write any comments in generated code.\\n<</SYS>>\\n\\n# Maximum Prefix Sum possible by merging two given arrays.\\ndef maxPresum(a, b):[/INST]def maxPresum(a, b):\\n    max_sum = 0\\n    for i in range(len(a)):\\n        for j in range(len(b)):\\n            current_sum = a[i] + b[j]\\n            if current_sum > max_sum:\\n                max_sum = current_sum\\n    return max_sum</s><s>[INST]Regenerate the entire code after fixing the following errors: \\n1. no newline at end of file at line no. 8 around code - `    return`\\nWrap around code in [PYTHON] and [/PYTHON]. \\n# Maximum Prefix Sum possible by merging two given arrays.\\ndef maxPresum(a, b):[/INST]\\n\"}"
      ]
     },
     "execution_count": 28,
     "metadata": {},
     "output_type": "execute_result"
    }
   ],
   "source": [
    "prompts_dataset[0]"
   ]
  },
  {
   "cell_type": "code",
   "execution_count": 29,
   "id": "732712bd",
   "metadata": {
    "execution": {
     "iopub.execute_input": "2023-11-13T22:16:55.893231Z",
     "iopub.status.busy": "2023-11-13T22:16:55.892362Z",
     "iopub.status.idle": "2023-11-13T23:31:20.665958Z",
     "shell.execute_reply": "2023-11-13T23:31:20.664968Z"
    },
    "id": "hrfvwEUhF_Kp",
    "outputId": "086bfac9-124b-4856-8f2b-de9ba6006553",
    "papermill": {
     "duration": 4464.832441,
     "end_time": "2023-11-13T23:31:20.708552",
     "exception": false,
     "start_time": "2023-11-13T22:16:55.876111",
     "status": "completed"
    },
    "tags": []
   },
   "outputs": [
    {
     "name": "stderr",
     "output_type": "stream",
     "text": [
      "Setting `pad_token_id` to `eos_token_id`:2 for open-end generation.\n"
     ]
    },
    {
     "name": "stdout",
     "output_type": "stream",
     "text": [
      "Total batches = 150\n"
     ]
    },
    {
     "name": "stderr",
     "output_type": "stream",
     "text": [
      "Setting `pad_token_id` to `eos_token_id`:2 for open-end generation.\n"
     ]
    },
    {
     "name": "stdout",
     "output_type": "stream",
     "text": [
      "Processed batch: 1\n",
      "Processed batch: 2\n"
     ]
    },
    {
     "name": "stderr",
     "output_type": "stream",
     "text": [
      "Setting `pad_token_id` to `eos_token_id`:2 for open-end generation.\n"
     ]
    },
    {
     "name": "stdout",
     "output_type": "stream",
     "text": [
      "Processed batch: 3\n",
      "Processed batch: 4\n"
     ]
    },
    {
     "name": "stderr",
     "output_type": "stream",
     "text": [
      "Setting `pad_token_id` to `eos_token_id`:2 for open-end generation.\n"
     ]
    },
    {
     "name": "stdout",
     "output_type": "stream",
     "text": [
      "Processed batch: 5\n",
      "Processed batch: 6\n"
     ]
    },
    {
     "name": "stderr",
     "output_type": "stream",
     "text": [
      "Setting `pad_token_id` to `eos_token_id`:2 for open-end generation.\n"
     ]
    },
    {
     "name": "stdout",
     "output_type": "stream",
     "text": [
      "Processed batch: 7\n",
      "Processed batch: 8\n"
     ]
    },
    {
     "name": "stderr",
     "output_type": "stream",
     "text": [
      "Setting `pad_token_id` to `eos_token_id`:2 for open-end generation.\n"
     ]
    },
    {
     "name": "stdout",
     "output_type": "stream",
     "text": [
      "Processed batch: 9\n",
      "Processed batch: 10\n"
     ]
    },
    {
     "name": "stderr",
     "output_type": "stream",
     "text": [
      "Setting `pad_token_id` to `eos_token_id`:2 for open-end generation.\n"
     ]
    },
    {
     "name": "stdout",
     "output_type": "stream",
     "text": [
      "Processed batch: 11\n",
      "Processed batch: 12\n"
     ]
    },
    {
     "name": "stderr",
     "output_type": "stream",
     "text": [
      "Setting `pad_token_id` to `eos_token_id`:2 for open-end generation.\n"
     ]
    },
    {
     "name": "stdout",
     "output_type": "stream",
     "text": [
      "Processed batch: 13\n",
      "Processed batch: 14\n"
     ]
    },
    {
     "name": "stderr",
     "output_type": "stream",
     "text": [
      "Setting `pad_token_id` to `eos_token_id`:2 for open-end generation.\n"
     ]
    },
    {
     "name": "stdout",
     "output_type": "stream",
     "text": [
      "Processed batch: 15\n",
      "Processed batch: 16\n"
     ]
    },
    {
     "name": "stderr",
     "output_type": "stream",
     "text": [
      "Setting `pad_token_id` to `eos_token_id`:2 for open-end generation.\n"
     ]
    },
    {
     "name": "stdout",
     "output_type": "stream",
     "text": [
      "Processed batch: 17\n",
      "Processed batch: 18\n"
     ]
    },
    {
     "name": "stderr",
     "output_type": "stream",
     "text": [
      "Setting `pad_token_id` to `eos_token_id`:2 for open-end generation.\n"
     ]
    },
    {
     "name": "stdout",
     "output_type": "stream",
     "text": [
      "Processed batch: 19\n",
      "Processed batch: 20\n"
     ]
    },
    {
     "name": "stderr",
     "output_type": "stream",
     "text": [
      "Setting `pad_token_id` to `eos_token_id`:2 for open-end generation.\n"
     ]
    },
    {
     "name": "stdout",
     "output_type": "stream",
     "text": [
      "Processed batch: 21\n",
      "Processed batch: 22\n"
     ]
    },
    {
     "name": "stderr",
     "output_type": "stream",
     "text": [
      "Setting `pad_token_id` to `eos_token_id`:2 for open-end generation.\n"
     ]
    },
    {
     "name": "stdout",
     "output_type": "stream",
     "text": [
      "Processed batch: 23\n",
      "Processed batch: 24\n"
     ]
    },
    {
     "name": "stderr",
     "output_type": "stream",
     "text": [
      "Setting `pad_token_id` to `eos_token_id`:2 for open-end generation.\n"
     ]
    },
    {
     "name": "stdout",
     "output_type": "stream",
     "text": [
      "Processed batch: 25\n",
      "Processed batch: 26\n"
     ]
    },
    {
     "name": "stderr",
     "output_type": "stream",
     "text": [
      "Setting `pad_token_id` to `eos_token_id`:2 for open-end generation.\n"
     ]
    },
    {
     "name": "stdout",
     "output_type": "stream",
     "text": [
      "Processed batch: 27\n",
      "Processed batch: 28\n"
     ]
    },
    {
     "name": "stderr",
     "output_type": "stream",
     "text": [
      "Setting `pad_token_id` to `eos_token_id`:2 for open-end generation.\n"
     ]
    },
    {
     "name": "stdout",
     "output_type": "stream",
     "text": [
      "Processed batch: 29\n",
      "Processed batch: 30\n"
     ]
    },
    {
     "name": "stderr",
     "output_type": "stream",
     "text": [
      "Setting `pad_token_id` to `eos_token_id`:2 for open-end generation.\n"
     ]
    },
    {
     "name": "stdout",
     "output_type": "stream",
     "text": [
      "Processed batch: 31\n",
      "Processed batch: 32\n"
     ]
    },
    {
     "name": "stderr",
     "output_type": "stream",
     "text": [
      "Setting `pad_token_id` to `eos_token_id`:2 for open-end generation.\n"
     ]
    },
    {
     "name": "stdout",
     "output_type": "stream",
     "text": [
      "Processed batch: 33\n",
      "Processed batch: 34\n"
     ]
    },
    {
     "name": "stderr",
     "output_type": "stream",
     "text": [
      "Setting `pad_token_id` to `eos_token_id`:2 for open-end generation.\n"
     ]
    },
    {
     "name": "stdout",
     "output_type": "stream",
     "text": [
      "Processed batch: 35\n",
      "Processed batch: 36\n"
     ]
    },
    {
     "name": "stderr",
     "output_type": "stream",
     "text": [
      "Setting `pad_token_id` to `eos_token_id`:2 for open-end generation.\n"
     ]
    },
    {
     "name": "stdout",
     "output_type": "stream",
     "text": [
      "Processed batch: 37\n",
      "Processed batch: 38\n"
     ]
    },
    {
     "name": "stderr",
     "output_type": "stream",
     "text": [
      "Setting `pad_token_id` to `eos_token_id`:2 for open-end generation.\n"
     ]
    },
    {
     "name": "stdout",
     "output_type": "stream",
     "text": [
      "Processed batch: 39\n",
      "Processed batch: 40\n"
     ]
    },
    {
     "name": "stderr",
     "output_type": "stream",
     "text": [
      "Setting `pad_token_id` to `eos_token_id`:2 for open-end generation.\n"
     ]
    },
    {
     "name": "stdout",
     "output_type": "stream",
     "text": [
      "Processed batch: 41\n",
      "Processed batch: 42\n"
     ]
    },
    {
     "name": "stderr",
     "output_type": "stream",
     "text": [
      "Setting `pad_token_id` to `eos_token_id`:2 for open-end generation.\n"
     ]
    },
    {
     "name": "stdout",
     "output_type": "stream",
     "text": [
      "Processed batch: 43\n",
      "Processed batch: 44\n"
     ]
    },
    {
     "name": "stderr",
     "output_type": "stream",
     "text": [
      "Setting `pad_token_id` to `eos_token_id`:2 for open-end generation.\n"
     ]
    },
    {
     "name": "stdout",
     "output_type": "stream",
     "text": [
      "Processed batch: 45\n",
      "Processed batch: 46\n"
     ]
    },
    {
     "name": "stderr",
     "output_type": "stream",
     "text": [
      "Setting `pad_token_id` to `eos_token_id`:2 for open-end generation.\n"
     ]
    },
    {
     "name": "stdout",
     "output_type": "stream",
     "text": [
      "Processed batch: 47\n",
      "Processed batch: 48\n"
     ]
    },
    {
     "name": "stderr",
     "output_type": "stream",
     "text": [
      "Setting `pad_token_id` to `eos_token_id`:2 for open-end generation.\n"
     ]
    },
    {
     "name": "stdout",
     "output_type": "stream",
     "text": [
      "Processed batch: 49\n",
      "Processed batch: 50\n"
     ]
    },
    {
     "name": "stderr",
     "output_type": "stream",
     "text": [
      "Setting `pad_token_id` to `eos_token_id`:2 for open-end generation.\n"
     ]
    },
    {
     "name": "stdout",
     "output_type": "stream",
     "text": [
      "Processed batch: 51\n",
      "Processed batch: 52\n"
     ]
    },
    {
     "name": "stderr",
     "output_type": "stream",
     "text": [
      "Setting `pad_token_id` to `eos_token_id`:2 for open-end generation.\n"
     ]
    },
    {
     "name": "stdout",
     "output_type": "stream",
     "text": [
      "Processed batch: 53\n",
      "Processed batch: 54\n"
     ]
    },
    {
     "name": "stderr",
     "output_type": "stream",
     "text": [
      "Setting `pad_token_id` to `eos_token_id`:2 for open-end generation.\n"
     ]
    },
    {
     "name": "stdout",
     "output_type": "stream",
     "text": [
      "Processed batch: 55\n",
      "Processed batch: 56\n"
     ]
    },
    {
     "name": "stderr",
     "output_type": "stream",
     "text": [
      "Setting `pad_token_id` to `eos_token_id`:2 for open-end generation.\n"
     ]
    },
    {
     "name": "stdout",
     "output_type": "stream",
     "text": [
      "Processed batch: 57\n",
      "Processed batch: 58\n"
     ]
    },
    {
     "name": "stderr",
     "output_type": "stream",
     "text": [
      "Setting `pad_token_id` to `eos_token_id`:2 for open-end generation.\n"
     ]
    },
    {
     "name": "stdout",
     "output_type": "stream",
     "text": [
      "Processed batch: 59\n",
      "Processed batch: 60\n"
     ]
    },
    {
     "name": "stderr",
     "output_type": "stream",
     "text": [
      "Setting `pad_token_id` to `eos_token_id`:2 for open-end generation.\n"
     ]
    },
    {
     "name": "stdout",
     "output_type": "stream",
     "text": [
      "Processed batch: 61\n",
      "Processed batch: 62\n"
     ]
    },
    {
     "name": "stderr",
     "output_type": "stream",
     "text": [
      "Setting `pad_token_id` to `eos_token_id`:2 for open-end generation.\n"
     ]
    },
    {
     "name": "stdout",
     "output_type": "stream",
     "text": [
      "Processed batch: 63\n",
      "Processed batch: 64\n"
     ]
    },
    {
     "name": "stderr",
     "output_type": "stream",
     "text": [
      "Setting `pad_token_id` to `eos_token_id`:2 for open-end generation.\n"
     ]
    },
    {
     "name": "stdout",
     "output_type": "stream",
     "text": [
      "Processed batch: 65\n",
      "Processed batch: 66\n"
     ]
    },
    {
     "name": "stderr",
     "output_type": "stream",
     "text": [
      "Setting `pad_token_id` to `eos_token_id`:2 for open-end generation.\n"
     ]
    },
    {
     "name": "stdout",
     "output_type": "stream",
     "text": [
      "Processed batch: 67\n",
      "Processed batch: 68\n"
     ]
    },
    {
     "name": "stderr",
     "output_type": "stream",
     "text": [
      "Setting `pad_token_id` to `eos_token_id`:2 for open-end generation.\n"
     ]
    },
    {
     "name": "stdout",
     "output_type": "stream",
     "text": [
      "Processed batch: 69\n",
      "Processed batch: 70\n"
     ]
    },
    {
     "name": "stderr",
     "output_type": "stream",
     "text": [
      "Setting `pad_token_id` to `eos_token_id`:2 for open-end generation.\n"
     ]
    },
    {
     "name": "stdout",
     "output_type": "stream",
     "text": [
      "Processed batch: 71\n",
      "Processed batch: 72\n"
     ]
    },
    {
     "name": "stderr",
     "output_type": "stream",
     "text": [
      "Setting `pad_token_id` to `eos_token_id`:2 for open-end generation.\n"
     ]
    },
    {
     "name": "stdout",
     "output_type": "stream",
     "text": [
      "Processed batch: 73\n",
      "Processed batch: 74\n"
     ]
    },
    {
     "name": "stderr",
     "output_type": "stream",
     "text": [
      "Setting `pad_token_id` to `eos_token_id`:2 for open-end generation.\n"
     ]
    },
    {
     "name": "stdout",
     "output_type": "stream",
     "text": [
      "Processed batch: 75\n",
      "Processed batch: 76\n"
     ]
    },
    {
     "name": "stderr",
     "output_type": "stream",
     "text": [
      "Setting `pad_token_id` to `eos_token_id`:2 for open-end generation.\n"
     ]
    },
    {
     "name": "stdout",
     "output_type": "stream",
     "text": [
      "Processed batch: 77\n",
      "Processed batch: 78\n"
     ]
    },
    {
     "name": "stderr",
     "output_type": "stream",
     "text": [
      "Setting `pad_token_id` to `eos_token_id`:2 for open-end generation.\n"
     ]
    },
    {
     "name": "stdout",
     "output_type": "stream",
     "text": [
      "Processed batch: 79\n",
      "Processed batch: 80\n"
     ]
    },
    {
     "name": "stderr",
     "output_type": "stream",
     "text": [
      "Setting `pad_token_id` to `eos_token_id`:2 for open-end generation.\n"
     ]
    },
    {
     "name": "stdout",
     "output_type": "stream",
     "text": [
      "Processed batch: 81\n",
      "Processed batch: 82\n"
     ]
    },
    {
     "name": "stderr",
     "output_type": "stream",
     "text": [
      "Setting `pad_token_id` to `eos_token_id`:2 for open-end generation.\n"
     ]
    },
    {
     "name": "stdout",
     "output_type": "stream",
     "text": [
      "Processed batch: 83\n",
      "Processed batch: 84\n"
     ]
    },
    {
     "name": "stderr",
     "output_type": "stream",
     "text": [
      "Setting `pad_token_id` to `eos_token_id`:2 for open-end generation.\n"
     ]
    },
    {
     "name": "stdout",
     "output_type": "stream",
     "text": [
      "Processed batch: 85\n",
      "Processed batch: 86\n"
     ]
    },
    {
     "name": "stderr",
     "output_type": "stream",
     "text": [
      "Setting `pad_token_id` to `eos_token_id`:2 for open-end generation.\n"
     ]
    },
    {
     "name": "stdout",
     "output_type": "stream",
     "text": [
      "Processed batch: 87\n",
      "Processed batch: 88\n"
     ]
    },
    {
     "name": "stderr",
     "output_type": "stream",
     "text": [
      "Setting `pad_token_id` to `eos_token_id`:2 for open-end generation.\n"
     ]
    },
    {
     "name": "stdout",
     "output_type": "stream",
     "text": [
      "Processed batch: 89\n",
      "Processed batch: 90\n"
     ]
    },
    {
     "name": "stderr",
     "output_type": "stream",
     "text": [
      "Setting `pad_token_id` to `eos_token_id`:2 for open-end generation.\n"
     ]
    },
    {
     "name": "stdout",
     "output_type": "stream",
     "text": [
      "Processed batch: 91\n",
      "Processed batch: 92\n"
     ]
    },
    {
     "name": "stderr",
     "output_type": "stream",
     "text": [
      "Setting `pad_token_id` to `eos_token_id`:2 for open-end generation.\n"
     ]
    },
    {
     "name": "stdout",
     "output_type": "stream",
     "text": [
      "Processed batch: 93\n",
      "Processed batch: 94\n"
     ]
    },
    {
     "name": "stderr",
     "output_type": "stream",
     "text": [
      "Setting `pad_token_id` to `eos_token_id`:2 for open-end generation.\n"
     ]
    },
    {
     "name": "stdout",
     "output_type": "stream",
     "text": [
      "Processed batch: 95\n",
      "Processed batch: 96\n"
     ]
    },
    {
     "name": "stderr",
     "output_type": "stream",
     "text": [
      "Setting `pad_token_id` to `eos_token_id`:2 for open-end generation.\n"
     ]
    },
    {
     "name": "stdout",
     "output_type": "stream",
     "text": [
      "Processed batch: 97\n",
      "Processed batch: 98\n"
     ]
    },
    {
     "name": "stderr",
     "output_type": "stream",
     "text": [
      "Setting `pad_token_id` to `eos_token_id`:2 for open-end generation.\n"
     ]
    },
    {
     "name": "stdout",
     "output_type": "stream",
     "text": [
      "Processed batch: 99\n",
      "Processed batch: 100\n"
     ]
    },
    {
     "name": "stderr",
     "output_type": "stream",
     "text": [
      "Setting `pad_token_id` to `eos_token_id`:2 for open-end generation.\n"
     ]
    },
    {
     "name": "stdout",
     "output_type": "stream",
     "text": [
      "Processed batch: 101\n",
      "Processed batch: 102\n"
     ]
    },
    {
     "name": "stderr",
     "output_type": "stream",
     "text": [
      "Setting `pad_token_id` to `eos_token_id`:2 for open-end generation.\n"
     ]
    },
    {
     "name": "stdout",
     "output_type": "stream",
     "text": [
      "Processed batch: 103\n",
      "Processed batch: 104\n"
     ]
    },
    {
     "name": "stderr",
     "output_type": "stream",
     "text": [
      "Setting `pad_token_id` to `eos_token_id`:2 for open-end generation.\n"
     ]
    },
    {
     "name": "stdout",
     "output_type": "stream",
     "text": [
      "Processed batch: 105\n",
      "Processed batch: 106\n"
     ]
    },
    {
     "name": "stderr",
     "output_type": "stream",
     "text": [
      "Setting `pad_token_id` to `eos_token_id`:2 for open-end generation.\n"
     ]
    },
    {
     "name": "stdout",
     "output_type": "stream",
     "text": [
      "Processed batch: 107\n",
      "Processed batch: 108\n"
     ]
    },
    {
     "name": "stderr",
     "output_type": "stream",
     "text": [
      "Setting `pad_token_id` to `eos_token_id`:2 for open-end generation.\n"
     ]
    },
    {
     "name": "stdout",
     "output_type": "stream",
     "text": [
      "Processed batch: 109\n",
      "Processed batch: 110\n"
     ]
    },
    {
     "name": "stderr",
     "output_type": "stream",
     "text": [
      "Setting `pad_token_id` to `eos_token_id`:2 for open-end generation.\n"
     ]
    },
    {
     "name": "stdout",
     "output_type": "stream",
     "text": [
      "Processed batch: 111\n",
      "Processed batch: 112\n"
     ]
    },
    {
     "name": "stderr",
     "output_type": "stream",
     "text": [
      "Setting `pad_token_id` to `eos_token_id`:2 for open-end generation.\n"
     ]
    },
    {
     "name": "stdout",
     "output_type": "stream",
     "text": [
      "Processed batch: 113\n",
      "Processed batch: 114\n"
     ]
    },
    {
     "name": "stderr",
     "output_type": "stream",
     "text": [
      "Setting `pad_token_id` to `eos_token_id`:2 for open-end generation.\n"
     ]
    },
    {
     "name": "stdout",
     "output_type": "stream",
     "text": [
      "Processed batch: 115\n",
      "Processed batch: 116\n"
     ]
    },
    {
     "name": "stderr",
     "output_type": "stream",
     "text": [
      "Setting `pad_token_id` to `eos_token_id`:2 for open-end generation.\n"
     ]
    },
    {
     "name": "stdout",
     "output_type": "stream",
     "text": [
      "Processed batch: 117\n",
      "Processed batch: 118\n"
     ]
    },
    {
     "name": "stderr",
     "output_type": "stream",
     "text": [
      "Setting `pad_token_id` to `eos_token_id`:2 for open-end generation.\n"
     ]
    },
    {
     "name": "stdout",
     "output_type": "stream",
     "text": [
      "Processed batch: 119\n",
      "Processed batch: 120\n"
     ]
    },
    {
     "name": "stderr",
     "output_type": "stream",
     "text": [
      "Setting `pad_token_id` to `eos_token_id`:2 for open-end generation.\n"
     ]
    },
    {
     "name": "stdout",
     "output_type": "stream",
     "text": [
      "Processed batch: 121\n",
      "Processed batch: 122\n"
     ]
    },
    {
     "name": "stderr",
     "output_type": "stream",
     "text": [
      "Setting `pad_token_id` to `eos_token_id`:2 for open-end generation.\n"
     ]
    },
    {
     "name": "stdout",
     "output_type": "stream",
     "text": [
      "Processed batch: 123\n",
      "Processed batch: 124\n"
     ]
    },
    {
     "name": "stderr",
     "output_type": "stream",
     "text": [
      "Setting `pad_token_id` to `eos_token_id`:2 for open-end generation.\n"
     ]
    },
    {
     "name": "stdout",
     "output_type": "stream",
     "text": [
      "Processed batch: 125\n",
      "Processed batch: 126\n"
     ]
    },
    {
     "name": "stderr",
     "output_type": "stream",
     "text": [
      "Setting `pad_token_id` to `eos_token_id`:2 for open-end generation.\n"
     ]
    },
    {
     "name": "stdout",
     "output_type": "stream",
     "text": [
      "Processed batch: 127\n",
      "Processed batch: 128\n"
     ]
    },
    {
     "name": "stderr",
     "output_type": "stream",
     "text": [
      "Setting `pad_token_id` to `eos_token_id`:2 for open-end generation.\n"
     ]
    },
    {
     "name": "stdout",
     "output_type": "stream",
     "text": [
      "Processed batch: 129\n",
      "Processed batch: 130\n"
     ]
    },
    {
     "name": "stderr",
     "output_type": "stream",
     "text": [
      "Setting `pad_token_id` to `eos_token_id`:2 for open-end generation.\n"
     ]
    },
    {
     "name": "stdout",
     "output_type": "stream",
     "text": [
      "Processed batch: 131\n",
      "Processed batch: 132\n"
     ]
    },
    {
     "name": "stderr",
     "output_type": "stream",
     "text": [
      "Setting `pad_token_id` to `eos_token_id`:2 for open-end generation.\n"
     ]
    },
    {
     "name": "stdout",
     "output_type": "stream",
     "text": [
      "Processed batch: 133\n",
      "Processed batch: 134\n"
     ]
    },
    {
     "name": "stderr",
     "output_type": "stream",
     "text": [
      "Setting `pad_token_id` to `eos_token_id`:2 for open-end generation.\n"
     ]
    },
    {
     "name": "stdout",
     "output_type": "stream",
     "text": [
      "Processed batch: 135\n",
      "Processed batch: 136\n"
     ]
    },
    {
     "name": "stderr",
     "output_type": "stream",
     "text": [
      "Setting `pad_token_id` to `eos_token_id`:2 for open-end generation.\n"
     ]
    },
    {
     "name": "stdout",
     "output_type": "stream",
     "text": [
      "Processed batch: 137\n",
      "Processed batch: 138\n"
     ]
    },
    {
     "name": "stderr",
     "output_type": "stream",
     "text": [
      "Setting `pad_token_id` to `eos_token_id`:2 for open-end generation.\n"
     ]
    },
    {
     "name": "stdout",
     "output_type": "stream",
     "text": [
      "Processed batch: 139\n",
      "Processed batch: 140\n"
     ]
    },
    {
     "name": "stderr",
     "output_type": "stream",
     "text": [
      "Setting `pad_token_id` to `eos_token_id`:2 for open-end generation.\n"
     ]
    },
    {
     "name": "stdout",
     "output_type": "stream",
     "text": [
      "Processed batch: 141\n",
      "Processed batch: 142\n"
     ]
    },
    {
     "name": "stderr",
     "output_type": "stream",
     "text": [
      "Setting `pad_token_id` to `eos_token_id`:2 for open-end generation.\n"
     ]
    },
    {
     "name": "stdout",
     "output_type": "stream",
     "text": [
      "Processed batch: 143\n",
      "Processed batch: 144\n"
     ]
    },
    {
     "name": "stderr",
     "output_type": "stream",
     "text": [
      "Setting `pad_token_id` to `eos_token_id`:2 for open-end generation.\n"
     ]
    },
    {
     "name": "stdout",
     "output_type": "stream",
     "text": [
      "Processed batch: 145\n",
      "Processed batch: 146\n"
     ]
    },
    {
     "name": "stderr",
     "output_type": "stream",
     "text": [
      "Setting `pad_token_id` to `eos_token_id`:2 for open-end generation.\n"
     ]
    },
    {
     "name": "stdout",
     "output_type": "stream",
     "text": [
      "Processed batch: 147\n",
      "Processed batch: 148\n"
     ]
    },
    {
     "name": "stderr",
     "output_type": "stream",
     "text": [
      "Setting `pad_token_id` to `eos_token_id`:2 for open-end generation.\n"
     ]
    },
    {
     "name": "stdout",
     "output_type": "stream",
     "text": [
      "Processed batch: 149\n",
      "Processed batch: 150\n"
     ]
    },
    {
     "name": "stderr",
     "output_type": "stream",
     "text": [
      "Setting `pad_token_id` to `eos_token_id`:2 for open-end generation.\n"
     ]
    },
    {
     "name": "stdout",
     "output_type": "stream",
     "text": [
      "Processed batch: 151\n",
      "Processed batch: 152\n"
     ]
    },
    {
     "name": "stderr",
     "output_type": "stream",
     "text": [
      "Setting `pad_token_id` to `eos_token_id`:2 for open-end generation.\n"
     ]
    },
    {
     "name": "stdout",
     "output_type": "stream",
     "text": [
      "Processed batch: 153\n",
      "Processed batch: 154\n"
     ]
    },
    {
     "name": "stderr",
     "output_type": "stream",
     "text": [
      "Setting `pad_token_id` to `eos_token_id`:2 for open-end generation.\n"
     ]
    },
    {
     "name": "stdout",
     "output_type": "stream",
     "text": [
      "Processed batch: 155\n",
      "Processed batch: 156\n"
     ]
    },
    {
     "name": "stderr",
     "output_type": "stream",
     "text": [
      "Setting `pad_token_id` to `eos_token_id`:2 for open-end generation.\n"
     ]
    },
    {
     "name": "stdout",
     "output_type": "stream",
     "text": [
      "Processed batch: 157\n",
      "Processed batch: 158\n"
     ]
    },
    {
     "name": "stderr",
     "output_type": "stream",
     "text": [
      "Setting `pad_token_id` to `eos_token_id`:2 for open-end generation.\n"
     ]
    },
    {
     "name": "stdout",
     "output_type": "stream",
     "text": [
      "Processed batch: 159\n",
      "Processed batch: 160\n"
     ]
    },
    {
     "name": "stderr",
     "output_type": "stream",
     "text": [
      "Setting `pad_token_id` to `eos_token_id`:2 for open-end generation.\n"
     ]
    },
    {
     "name": "stdout",
     "output_type": "stream",
     "text": [
      "Processed batch: 161\n",
      "Processed batch: 162\n"
     ]
    },
    {
     "name": "stderr",
     "output_type": "stream",
     "text": [
      "Setting `pad_token_id` to `eos_token_id`:2 for open-end generation.\n"
     ]
    },
    {
     "name": "stdout",
     "output_type": "stream",
     "text": [
      "Processed batch: 163\n",
      "Processed batch: 164\n"
     ]
    },
    {
     "name": "stderr",
     "output_type": "stream",
     "text": [
      "Setting `pad_token_id` to `eos_token_id`:2 for open-end generation.\n"
     ]
    },
    {
     "name": "stdout",
     "output_type": "stream",
     "text": [
      "Processed batch: 165\n",
      "Processed batch: 166\n"
     ]
    },
    {
     "name": "stderr",
     "output_type": "stream",
     "text": [
      "Setting `pad_token_id` to `eos_token_id`:2 for open-end generation.\n"
     ]
    },
    {
     "name": "stdout",
     "output_type": "stream",
     "text": [
      "Processed batch: 167\n",
      "Processed batch: 168\n"
     ]
    },
    {
     "name": "stderr",
     "output_type": "stream",
     "text": [
      "Setting `pad_token_id` to `eos_token_id`:2 for open-end generation.\n"
     ]
    },
    {
     "name": "stdout",
     "output_type": "stream",
     "text": [
      "Processed batch: 169\n",
      "Processed batch: 170\n"
     ]
    },
    {
     "name": "stderr",
     "output_type": "stream",
     "text": [
      "Setting `pad_token_id` to `eos_token_id`:2 for open-end generation.\n"
     ]
    },
    {
     "name": "stdout",
     "output_type": "stream",
     "text": [
      "Processed batch: 171\n",
      "Processed batch: 172\n"
     ]
    },
    {
     "name": "stderr",
     "output_type": "stream",
     "text": [
      "Setting `pad_token_id` to `eos_token_id`:2 for open-end generation.\n"
     ]
    },
    {
     "name": "stdout",
     "output_type": "stream",
     "text": [
      "Processed batch: 173\n",
      "Processed batch: 174\n"
     ]
    },
    {
     "name": "stderr",
     "output_type": "stream",
     "text": [
      "Setting `pad_token_id` to `eos_token_id`:2 for open-end generation.\n"
     ]
    },
    {
     "name": "stdout",
     "output_type": "stream",
     "text": [
      "Processed batch: 175\n",
      "Processed batch: 176\n"
     ]
    },
    {
     "name": "stderr",
     "output_type": "stream",
     "text": [
      "Setting `pad_token_id` to `eos_token_id`:2 for open-end generation.\n"
     ]
    },
    {
     "name": "stdout",
     "output_type": "stream",
     "text": [
      "Processed batch: 177\n",
      "Processed batch: 178\n"
     ]
    },
    {
     "name": "stderr",
     "output_type": "stream",
     "text": [
      "Setting `pad_token_id` to `eos_token_id`:2 for open-end generation.\n"
     ]
    },
    {
     "name": "stdout",
     "output_type": "stream",
     "text": [
      "Processed batch: 179\n",
      "Processed batch: 180\n"
     ]
    },
    {
     "name": "stderr",
     "output_type": "stream",
     "text": [
      "Setting `pad_token_id` to `eos_token_id`:2 for open-end generation.\n"
     ]
    },
    {
     "name": "stdout",
     "output_type": "stream",
     "text": [
      "Processed batch: 181\n",
      "Processed batch: 182\n"
     ]
    },
    {
     "name": "stderr",
     "output_type": "stream",
     "text": [
      "Setting `pad_token_id` to `eos_token_id`:2 for open-end generation.\n"
     ]
    },
    {
     "name": "stdout",
     "output_type": "stream",
     "text": [
      "Processed batch: 183\n",
      "Processed batch: 184\n"
     ]
    },
    {
     "name": "stderr",
     "output_type": "stream",
     "text": [
      "Setting `pad_token_id` to `eos_token_id`:2 for open-end generation.\n"
     ]
    },
    {
     "name": "stdout",
     "output_type": "stream",
     "text": [
      "Processed batch: 185\n",
      "Processed batch: 186\n"
     ]
    },
    {
     "name": "stderr",
     "output_type": "stream",
     "text": [
      "Setting `pad_token_id` to `eos_token_id`:2 for open-end generation.\n"
     ]
    },
    {
     "name": "stdout",
     "output_type": "stream",
     "text": [
      "Processed batch: 187\n",
      "Processed batch: 188\n"
     ]
    },
    {
     "name": "stderr",
     "output_type": "stream",
     "text": [
      "Setting `pad_token_id` to `eos_token_id`:2 for open-end generation.\n"
     ]
    },
    {
     "name": "stdout",
     "output_type": "stream",
     "text": [
      "Processed batch: 189\n",
      "Processed batch: 190\n"
     ]
    },
    {
     "name": "stderr",
     "output_type": "stream",
     "text": [
      "Setting `pad_token_id` to `eos_token_id`:2 for open-end generation.\n"
     ]
    },
    {
     "name": "stdout",
     "output_type": "stream",
     "text": [
      "Processed batch: 191\n",
      "Processed batch: 192\n"
     ]
    },
    {
     "name": "stderr",
     "output_type": "stream",
     "text": [
      "Setting `pad_token_id` to `eos_token_id`:2 for open-end generation.\n"
     ]
    },
    {
     "name": "stdout",
     "output_type": "stream",
     "text": [
      "Processed batch: 193\n",
      "Processed batch: 194\n"
     ]
    },
    {
     "name": "stderr",
     "output_type": "stream",
     "text": [
      "Setting `pad_token_id` to `eos_token_id`:2 for open-end generation.\n"
     ]
    },
    {
     "name": "stdout",
     "output_type": "stream",
     "text": [
      "Processed batch: 195\n",
      "Processed batch: 196\n"
     ]
    },
    {
     "name": "stderr",
     "output_type": "stream",
     "text": [
      "Setting `pad_token_id` to `eos_token_id`:2 for open-end generation.\n"
     ]
    },
    {
     "name": "stdout",
     "output_type": "stream",
     "text": [
      "Processed batch: 197\n",
      "Processed batch: 198\n"
     ]
    },
    {
     "name": "stderr",
     "output_type": "stream",
     "text": [
      "Setting `pad_token_id` to `eos_token_id`:2 for open-end generation.\n"
     ]
    },
    {
     "name": "stdout",
     "output_type": "stream",
     "text": [
      "Processed batch: 199\n",
      "Processed batch: 200\n"
     ]
    },
    {
     "name": "stderr",
     "output_type": "stream",
     "text": [
      "Setting `pad_token_id` to `eos_token_id`:2 for open-end generation.\n"
     ]
    },
    {
     "name": "stdout",
     "output_type": "stream",
     "text": [
      "Processed batch: 201\n",
      "Processed batch: 202\n"
     ]
    },
    {
     "name": "stderr",
     "output_type": "stream",
     "text": [
      "Setting `pad_token_id` to `eos_token_id`:2 for open-end generation.\n"
     ]
    },
    {
     "name": "stdout",
     "output_type": "stream",
     "text": [
      "Processed batch: 203\n",
      "Processed batch: 204\n"
     ]
    },
    {
     "name": "stderr",
     "output_type": "stream",
     "text": [
      "Setting `pad_token_id` to `eos_token_id`:2 for open-end generation.\n"
     ]
    },
    {
     "name": "stdout",
     "output_type": "stream",
     "text": [
      "Processed batch: 205\n",
      "Processed batch: 206\n"
     ]
    },
    {
     "name": "stderr",
     "output_type": "stream",
     "text": [
      "Setting `pad_token_id` to `eos_token_id`:2 for open-end generation.\n"
     ]
    },
    {
     "name": "stdout",
     "output_type": "stream",
     "text": [
      "Processed batch: 207\n",
      "Processed batch: 208\n"
     ]
    },
    {
     "name": "stderr",
     "output_type": "stream",
     "text": [
      "Setting `pad_token_id` to `eos_token_id`:2 for open-end generation.\n"
     ]
    },
    {
     "name": "stdout",
     "output_type": "stream",
     "text": [
      "Processed batch: 209\n",
      "Processed batch: 210\n"
     ]
    },
    {
     "name": "stderr",
     "output_type": "stream",
     "text": [
      "Setting `pad_token_id` to `eos_token_id`:2 for open-end generation.\n"
     ]
    },
    {
     "name": "stdout",
     "output_type": "stream",
     "text": [
      "Processed batch: 211\n",
      "Processed batch: 212\n"
     ]
    },
    {
     "name": "stderr",
     "output_type": "stream",
     "text": [
      "Setting `pad_token_id` to `eos_token_id`:2 for open-end generation.\n"
     ]
    },
    {
     "name": "stdout",
     "output_type": "stream",
     "text": [
      "Processed batch: 213\n",
      "Processed batch: 214\n"
     ]
    },
    {
     "name": "stderr",
     "output_type": "stream",
     "text": [
      "Setting `pad_token_id` to `eos_token_id`:2 for open-end generation.\n"
     ]
    },
    {
     "name": "stdout",
     "output_type": "stream",
     "text": [
      "Processed batch: 215\n",
      "Processed batch: 216\n"
     ]
    },
    {
     "name": "stderr",
     "output_type": "stream",
     "text": [
      "Setting `pad_token_id` to `eos_token_id`:2 for open-end generation.\n"
     ]
    },
    {
     "name": "stdout",
     "output_type": "stream",
     "text": [
      "Processed batch: 217\n",
      "Processed batch: 218\n"
     ]
    },
    {
     "name": "stderr",
     "output_type": "stream",
     "text": [
      "Setting `pad_token_id` to `eos_token_id`:2 for open-end generation.\n"
     ]
    },
    {
     "name": "stdout",
     "output_type": "stream",
     "text": [
      "Processed batch: 219\n",
      "Processed batch: 220\n"
     ]
    },
    {
     "name": "stderr",
     "output_type": "stream",
     "text": [
      "Setting `pad_token_id` to `eos_token_id`:2 for open-end generation.\n"
     ]
    },
    {
     "name": "stdout",
     "output_type": "stream",
     "text": [
      "Processed batch: 221\n",
      "Processed batch: 222\n"
     ]
    },
    {
     "name": "stderr",
     "output_type": "stream",
     "text": [
      "Setting `pad_token_id` to `eos_token_id`:2 for open-end generation.\n"
     ]
    },
    {
     "name": "stdout",
     "output_type": "stream",
     "text": [
      "Processed batch: 223\n",
      "Processed batch: 224\n"
     ]
    },
    {
     "name": "stderr",
     "output_type": "stream",
     "text": [
      "Setting `pad_token_id` to `eos_token_id`:2 for open-end generation.\n"
     ]
    },
    {
     "name": "stdout",
     "output_type": "stream",
     "text": [
      "Processed batch: 225\n",
      "Processed batch: 226\n"
     ]
    },
    {
     "name": "stderr",
     "output_type": "stream",
     "text": [
      "Setting `pad_token_id` to `eos_token_id`:2 for open-end generation.\n"
     ]
    },
    {
     "name": "stdout",
     "output_type": "stream",
     "text": [
      "Processed batch: 227\n",
      "Processed batch: 228\n"
     ]
    },
    {
     "name": "stderr",
     "output_type": "stream",
     "text": [
      "Setting `pad_token_id` to `eos_token_id`:2 for open-end generation.\n"
     ]
    },
    {
     "name": "stdout",
     "output_type": "stream",
     "text": [
      "Processed batch: 229\n",
      "Processed batch: 230\n"
     ]
    },
    {
     "name": "stderr",
     "output_type": "stream",
     "text": [
      "Setting `pad_token_id` to `eos_token_id`:2 for open-end generation.\n"
     ]
    },
    {
     "name": "stdout",
     "output_type": "stream",
     "text": [
      "Processed batch: 231\n",
      "Processed batch: 232\n"
     ]
    },
    {
     "name": "stderr",
     "output_type": "stream",
     "text": [
      "Setting `pad_token_id` to `eos_token_id`:2 for open-end generation.\n"
     ]
    },
    {
     "name": "stdout",
     "output_type": "stream",
     "text": [
      "Processed batch: 233\n",
      "Processed batch: 234\n"
     ]
    },
    {
     "name": "stderr",
     "output_type": "stream",
     "text": [
      "Setting `pad_token_id` to `eos_token_id`:2 for open-end generation.\n"
     ]
    },
    {
     "name": "stdout",
     "output_type": "stream",
     "text": [
      "Processed batch: 235\n",
      "Processed batch: 236\n"
     ]
    },
    {
     "name": "stderr",
     "output_type": "stream",
     "text": [
      "Setting `pad_token_id` to `eos_token_id`:2 for open-end generation.\n"
     ]
    },
    {
     "name": "stdout",
     "output_type": "stream",
     "text": [
      "Processed batch: 237\n",
      "Processed batch: 238\n"
     ]
    },
    {
     "name": "stderr",
     "output_type": "stream",
     "text": [
      "Setting `pad_token_id` to `eos_token_id`:2 for open-end generation.\n"
     ]
    },
    {
     "name": "stdout",
     "output_type": "stream",
     "text": [
      "Processed batch: 239\n",
      "Processed batch: 240\n"
     ]
    },
    {
     "name": "stderr",
     "output_type": "stream",
     "text": [
      "Setting `pad_token_id` to `eos_token_id`:2 for open-end generation.\n"
     ]
    },
    {
     "name": "stdout",
     "output_type": "stream",
     "text": [
      "Processed batch: 241\n",
      "Processed batch: 242\n"
     ]
    },
    {
     "name": "stderr",
     "output_type": "stream",
     "text": [
      "Setting `pad_token_id` to `eos_token_id`:2 for open-end generation.\n"
     ]
    },
    {
     "name": "stdout",
     "output_type": "stream",
     "text": [
      "Processed batch: 243\n",
      "Processed batch: 244\n"
     ]
    },
    {
     "name": "stderr",
     "output_type": "stream",
     "text": [
      "Setting `pad_token_id` to `eos_token_id`:2 for open-end generation.\n"
     ]
    },
    {
     "name": "stdout",
     "output_type": "stream",
     "text": [
      "Processed batch: 245\n",
      "Processed batch: 246\n"
     ]
    },
    {
     "name": "stderr",
     "output_type": "stream",
     "text": [
      "Setting `pad_token_id` to `eos_token_id`:2 for open-end generation.\n"
     ]
    },
    {
     "name": "stdout",
     "output_type": "stream",
     "text": [
      "Processed batch: 247\n",
      "Processed batch: 248\n"
     ]
    },
    {
     "name": "stderr",
     "output_type": "stream",
     "text": [
      "Setting `pad_token_id` to `eos_token_id`:2 for open-end generation.\n"
     ]
    },
    {
     "name": "stdout",
     "output_type": "stream",
     "text": [
      "Processed batch: 249\n",
      "Processed batch: 250\n"
     ]
    },
    {
     "name": "stderr",
     "output_type": "stream",
     "text": [
      "Setting `pad_token_id` to `eos_token_id`:2 for open-end generation.\n"
     ]
    },
    {
     "name": "stdout",
     "output_type": "stream",
     "text": [
      "Processed batch: 251\n",
      "Processed batch: 252\n"
     ]
    },
    {
     "name": "stderr",
     "output_type": "stream",
     "text": [
      "Setting `pad_token_id` to `eos_token_id`:2 for open-end generation.\n"
     ]
    },
    {
     "name": "stdout",
     "output_type": "stream",
     "text": [
      "Processed batch: 253\n",
      "Processed batch: 254\n"
     ]
    },
    {
     "name": "stderr",
     "output_type": "stream",
     "text": [
      "Setting `pad_token_id` to `eos_token_id`:2 for open-end generation.\n"
     ]
    },
    {
     "name": "stdout",
     "output_type": "stream",
     "text": [
      "Processed batch: 255\n",
      "Processed batch: 256\n"
     ]
    },
    {
     "name": "stderr",
     "output_type": "stream",
     "text": [
      "Setting `pad_token_id` to `eos_token_id`:2 for open-end generation.\n"
     ]
    },
    {
     "name": "stdout",
     "output_type": "stream",
     "text": [
      "Processed batch: 257\n",
      "Processed batch: 258\n"
     ]
    },
    {
     "name": "stderr",
     "output_type": "stream",
     "text": [
      "Setting `pad_token_id` to `eos_token_id`:2 for open-end generation.\n"
     ]
    },
    {
     "name": "stdout",
     "output_type": "stream",
     "text": [
      "Processed batch: 259\n",
      "Processed batch: 260\n"
     ]
    },
    {
     "name": "stderr",
     "output_type": "stream",
     "text": [
      "Setting `pad_token_id` to `eos_token_id`:2 for open-end generation.\n"
     ]
    },
    {
     "name": "stdout",
     "output_type": "stream",
     "text": [
      "Processed batch: 261\n",
      "Processed batch: 262\n"
     ]
    },
    {
     "name": "stderr",
     "output_type": "stream",
     "text": [
      "Setting `pad_token_id` to `eos_token_id`:2 for open-end generation.\n"
     ]
    },
    {
     "name": "stdout",
     "output_type": "stream",
     "text": [
      "Processed batch: 263\n",
      "Processed batch: 264\n"
     ]
    },
    {
     "name": "stderr",
     "output_type": "stream",
     "text": [
      "Setting `pad_token_id` to `eos_token_id`:2 for open-end generation.\n"
     ]
    },
    {
     "name": "stdout",
     "output_type": "stream",
     "text": [
      "Processed batch: 265\n",
      "Processed batch: 266\n"
     ]
    },
    {
     "name": "stderr",
     "output_type": "stream",
     "text": [
      "Setting `pad_token_id` to `eos_token_id`:2 for open-end generation.\n"
     ]
    },
    {
     "name": "stdout",
     "output_type": "stream",
     "text": [
      "Processed batch: 267\n",
      "Processed batch: 268\n"
     ]
    },
    {
     "name": "stderr",
     "output_type": "stream",
     "text": [
      "Setting `pad_token_id` to `eos_token_id`:2 for open-end generation.\n"
     ]
    },
    {
     "name": "stdout",
     "output_type": "stream",
     "text": [
      "Processed batch: 269\n",
      "Processed batch: 270\n"
     ]
    },
    {
     "name": "stderr",
     "output_type": "stream",
     "text": [
      "Setting `pad_token_id` to `eos_token_id`:2 for open-end generation.\n"
     ]
    },
    {
     "name": "stdout",
     "output_type": "stream",
     "text": [
      "Processed batch: 271\n",
      "Processed batch: 272\n"
     ]
    },
    {
     "name": "stderr",
     "output_type": "stream",
     "text": [
      "Setting `pad_token_id` to `eos_token_id`:2 for open-end generation.\n"
     ]
    },
    {
     "name": "stdout",
     "output_type": "stream",
     "text": [
      "Processed batch: 273\n",
      "Processed batch: 274\n"
     ]
    },
    {
     "name": "stderr",
     "output_type": "stream",
     "text": [
      "Setting `pad_token_id` to `eos_token_id`:2 for open-end generation.\n"
     ]
    },
    {
     "name": "stdout",
     "output_type": "stream",
     "text": [
      "Processed batch: 275\n",
      "Processed batch: 276\n"
     ]
    },
    {
     "name": "stderr",
     "output_type": "stream",
     "text": [
      "Setting `pad_token_id` to `eos_token_id`:2 for open-end generation.\n"
     ]
    },
    {
     "name": "stdout",
     "output_type": "stream",
     "text": [
      "Processed batch: 277\n",
      "Processed batch: 278\n"
     ]
    },
    {
     "name": "stderr",
     "output_type": "stream",
     "text": [
      "Setting `pad_token_id` to `eos_token_id`:2 for open-end generation.\n"
     ]
    },
    {
     "name": "stdout",
     "output_type": "stream",
     "text": [
      "Processed batch: 279\n",
      "Processed batch: 280\n"
     ]
    },
    {
     "name": "stderr",
     "output_type": "stream",
     "text": [
      "Setting `pad_token_id` to `eos_token_id`:2 for open-end generation.\n"
     ]
    },
    {
     "name": "stdout",
     "output_type": "stream",
     "text": [
      "Processed batch: 281\n",
      "Processed batch: 282\n"
     ]
    },
    {
     "name": "stderr",
     "output_type": "stream",
     "text": [
      "Setting `pad_token_id` to `eos_token_id`:2 for open-end generation.\n"
     ]
    },
    {
     "name": "stdout",
     "output_type": "stream",
     "text": [
      "Processed batch: 283\n",
      "Processed batch: 284\n"
     ]
    },
    {
     "name": "stderr",
     "output_type": "stream",
     "text": [
      "Setting `pad_token_id` to `eos_token_id`:2 for open-end generation.\n"
     ]
    },
    {
     "name": "stdout",
     "output_type": "stream",
     "text": [
      "Processed batch: 285\n",
      "Processed batch: 286\n"
     ]
    },
    {
     "name": "stderr",
     "output_type": "stream",
     "text": [
      "Setting `pad_token_id` to `eos_token_id`:2 for open-end generation.\n"
     ]
    },
    {
     "name": "stdout",
     "output_type": "stream",
     "text": [
      "Processed batch: 287\n",
      "Processed batch: 288\n"
     ]
    },
    {
     "name": "stderr",
     "output_type": "stream",
     "text": [
      "Setting `pad_token_id` to `eos_token_id`:2 for open-end generation.\n"
     ]
    },
    {
     "name": "stdout",
     "output_type": "stream",
     "text": [
      "Processed batch: 289\n",
      "Processed batch: 290\n"
     ]
    },
    {
     "name": "stderr",
     "output_type": "stream",
     "text": [
      "Setting `pad_token_id` to `eos_token_id`:2 for open-end generation.\n"
     ]
    },
    {
     "name": "stdout",
     "output_type": "stream",
     "text": [
      "Processed batch: 291\n",
      "Processed batch: 292\n"
     ]
    },
    {
     "name": "stderr",
     "output_type": "stream",
     "text": [
      "Setting `pad_token_id` to `eos_token_id`:2 for open-end generation.\n"
     ]
    },
    {
     "name": "stdout",
     "output_type": "stream",
     "text": [
      "Processed batch: 293\n",
      "Processed batch: 294\n"
     ]
    },
    {
     "name": "stderr",
     "output_type": "stream",
     "text": [
      "Setting `pad_token_id` to `eos_token_id`:2 for open-end generation.\n"
     ]
    },
    {
     "name": "stdout",
     "output_type": "stream",
     "text": [
      "Processed batch: 295\n",
      "Processed batch: 296\n"
     ]
    },
    {
     "name": "stderr",
     "output_type": "stream",
     "text": [
      "Setting `pad_token_id` to `eos_token_id`:2 for open-end generation.\n"
     ]
    },
    {
     "name": "stdout",
     "output_type": "stream",
     "text": [
      "Processed batch: 297\n",
      "Processed batch: 298\n",
      "Processed batch: 299\n",
      "Processed batch: 300\n"
     ]
    }
   ],
   "source": [
    "responses = run_code_generation(prompts_dataset, CODE_GENERATION_PATH, n_passes=1)"
   ]
  },
  {
   "cell_type": "code",
   "execution_count": 30,
   "id": "6c25e7c9",
   "metadata": {
    "execution": {
     "iopub.execute_input": "2023-11-13T23:31:20.794176Z",
     "iopub.status.busy": "2023-11-13T23:31:20.793259Z",
     "iopub.status.idle": "2023-11-13T23:31:20.799989Z",
     "shell.execute_reply": "2023-11-13T23:31:20.799133Z"
    },
    "papermill": {
     "duration": 0.051262,
     "end_time": "2023-11-13T23:31:20.802088",
     "exception": false,
     "start_time": "2023-11-13T23:31:20.750826",
     "status": "completed"
    },
    "tags": []
   },
   "outputs": [
    {
     "data": {
      "text/plain": [
       "300"
      ]
     },
     "execution_count": 30,
     "metadata": {},
     "output_type": "execute_result"
    }
   ],
   "source": [
    "len(responses)"
   ]
  },
  {
   "cell_type": "code",
   "execution_count": 31,
   "id": "ead4dcca",
   "metadata": {
    "execution": {
     "iopub.execute_input": "2023-11-13T23:31:20.887475Z",
     "iopub.status.busy": "2023-11-13T23:31:20.887047Z",
     "iopub.status.idle": "2023-11-13T23:31:20.914502Z",
     "shell.execute_reply": "2023-11-13T23:31:20.913409Z"
    },
    "papermill": {
     "duration": 0.073287,
     "end_time": "2023-11-13T23:31:20.916698",
     "exception": false,
     "start_time": "2023-11-13T23:31:20.843411",
     "status": "completed"
    },
    "tags": []
   },
   "outputs": [
    {
     "data": {
      "text/html": [
       "<div>\n",
       "<style scoped>\n",
       "    .dataframe tbody tr th:only-of-type {\n",
       "        vertical-align: middle;\n",
       "    }\n",
       "\n",
       "    .dataframe tbody tr th {\n",
       "        vertical-align: top;\n",
       "    }\n",
       "\n",
       "    .dataframe thead th {\n",
       "        text-align: right;\n",
       "    }\n",
       "</style>\n",
       "<table border=\"1\" class=\"dataframe\">\n",
       "  <thead>\n",
       "    <tr style=\"text-align: right;\">\n",
       "      <th></th>\n",
       "      <th>id</th>\n",
       "      <th>text</th>\n",
       "      <th>code</th>\n",
       "      <th>question</th>\n",
       "      <th>functions</th>\n",
       "      <th>code_context</th>\n",
       "      <th>context</th>\n",
       "      <th>llama_prompt</th>\n",
       "      <th>response</th>\n",
       "      <th>response_code</th>\n",
       "      <th>report</th>\n",
       "      <th>feedback</th>\n",
       "      <th>llama_prompt_with_feedback</th>\n",
       "      <th>response_feedback</th>\n",
       "    </tr>\n",
       "  </thead>\n",
       "  <tbody>\n",
       "    <tr>\n",
       "      <th>0</th>\n",
       "      <td>0</td>\n",
       "      <td>Maximum Prefix Sum possible by merging two giv...</td>\n",
       "      <td>def maxPresum(a, b):\\n    X = max(a[0], 0)\\n  ...</td>\n",
       "      <td>Maximum Prefix Sum possible by merging two giv...</td>\n",
       "      <td>['def maxPresum(a, b):']</td>\n",
       "      <td>def maxPresum(a, b):</td>\n",
       "      <td>def maxPresum(a, b):</td>\n",
       "      <td>&lt;s&gt;[INST]&lt;&lt;SYS&gt;&gt;\\nProvide answers in Python. W...</td>\n",
       "      <td>&lt;s&gt;[INST]&lt;&lt;SYS&gt;&gt;\\nProvide answers in Python. W...</td>\n",
       "      <td>def maxPresum(a, b):\\n    max_sum = 0\\n    for...</td>\n",
       "      <td>{'./files/question-0-pass-1.py': [{'code': 'W2...</td>\n",
       "      <td>Regenerate the entire code after fixing the fo...</td>\n",
       "      <td>&lt;s&gt;[INST]&lt;&lt;SYS&gt;&gt;\\nProvide answers in Python. W...</td>\n",
       "      <td>&lt;s&gt;[INST]&lt;&lt;SYS&gt;&gt;\\nProvide answers in Python. W...</td>\n",
       "    </tr>\n",
       "    <tr>\n",
       "      <th>1</th>\n",
       "      <td>1</td>\n",
       "      <td>Check if a number can be represented as sum of...</td>\n",
       "      <td>import math\\n\\n\\ndef sumOfTwoCubes(n):\\n    lo...</td>\n",
       "      <td>Check if a number can be represented as sum of...</td>\n",
       "      <td>['def sumOfTwoCubes(n):']</td>\n",
       "      <td>import math\\n\\n\\ndef sumOfTwoCubes(n):</td>\n",
       "      <td>import math\\n\\n\\ndef sumOfTwoCubes(n):</td>\n",
       "      <td>&lt;s&gt;[INST]&lt;&lt;SYS&gt;&gt;\\nProvide answers in Python. W...</td>\n",
       "      <td>&lt;s&gt;[INST]&lt;&lt;SYS&gt;&gt;\\nProvide answers in Python. W...</td>\n",
       "      <td>import math\\n\\n\\ndef sumOfTwoCubes(n):\\n    fo...</td>\n",
       "      <td>{'./files/question-1-pass-1.py': [{'code': 'W2...</td>\n",
       "      <td>Regenerate the entire code after fixing the fo...</td>\n",
       "      <td>&lt;s&gt;[INST]&lt;&lt;SYS&gt;&gt;\\nProvide answers in Python. W...</td>\n",
       "      <td>&lt;s&gt;[INST]&lt;&lt;SYS&gt;&gt;\\nProvide answers in Python. W...</td>\n",
       "    </tr>\n",
       "    <tr>\n",
       "      <th>2</th>\n",
       "      <td>2</td>\n",
       "      <td>Generate an N | Python3 program for the above ...</td>\n",
       "      <td>sieve = [1] * (1000000 + 1)\\n\\n\\ndef sieveOfPr...</td>\n",
       "      <td>Generate an N.</td>\n",
       "      <td>['def sieveOfPrimes():', 'def getArray(arr, N):']</td>\n",
       "      <td>sieve = [1] * (1000000 + 1)\\n\\n\\ndef sieveOfPr...</td>\n",
       "      <td>sieve = [1] * (1000000 + 1)\\n\\n\\ndef sieveOfPr...</td>\n",
       "      <td>&lt;s&gt;[INST]&lt;&lt;SYS&gt;&gt;\\nProvide answers in Python. W...</td>\n",
       "      <td>&lt;s&gt;[INST]&lt;&lt;SYS&gt;&gt;\\nProvide answers in Python. W...</td>\n",
       "      <td>sieve = [1] * (1000000 + 1)\\n\\n\\ndef sieveOfPr...</td>\n",
       "      <td>{'./files/question-2-pass-1.py': [{'code': 'W2...</td>\n",
       "      <td>Regenerate the entire code after fixing the fo...</td>\n",
       "      <td>&lt;s&gt;[INST]&lt;&lt;SYS&gt;&gt;\\nProvide answers in Python. W...</td>\n",
       "      <td>&lt;s&gt;[INST]&lt;&lt;SYS&gt;&gt;\\nProvide answers in Python. W...</td>\n",
       "    </tr>\n",
       "    <tr>\n",
       "      <th>3</th>\n",
       "      <td>3</td>\n",
       "      <td>Nth natural number after removing all numbers ...</td>\n",
       "      <td>def findNthNumber(N):\\n    result = 0\\n    p =...</td>\n",
       "      <td>Nth natural number after removing all numbers ...</td>\n",
       "      <td>['def findNthNumber(N):']</td>\n",
       "      <td>def findNthNumber(N):</td>\n",
       "      <td>def findNthNumber(N):</td>\n",
       "      <td>&lt;s&gt;[INST]&lt;&lt;SYS&gt;&gt;\\nProvide answers in Python. W...</td>\n",
       "      <td>&lt;s&gt;[INST]&lt;&lt;SYS&gt;&gt;\\nProvide answers in Python. W...</td>\n",
       "      <td>def findNthNumber(N):\\n    nth_number = 1\\n   ...</td>\n",
       "      <td>{'./files/question-3-pass-1.py': [{'code': 'W2...</td>\n",
       "      <td>Regenerate the entire code after fixing the fo...</td>\n",
       "      <td>&lt;s&gt;[INST]&lt;&lt;SYS&gt;&gt;\\nProvide answers in Python. W...</td>\n",
       "      <td>&lt;s&gt;[INST]&lt;&lt;SYS&gt;&gt;\\nProvide answers in Python. W...</td>\n",
       "    </tr>\n",
       "    <tr>\n",
       "      <th>4</th>\n",
       "      <td>4</td>\n",
       "      <td>Check if an integer is rotation of another giv...</td>\n",
       "      <td>import math\\n\\n\\ndef check(A, B):\\n    if (A =...</td>\n",
       "      <td>Check if an integer is rotation of another giv...</td>\n",
       "      <td>['def check(A, B):']</td>\n",
       "      <td>import math\\n\\n\\ndef check(A, B):</td>\n",
       "      <td>import math\\n\\n\\ndef check(A, B):</td>\n",
       "      <td>&lt;s&gt;[INST]&lt;&lt;SYS&gt;&gt;\\nProvide answers in Python. W...</td>\n",
       "      <td>&lt;s&gt;[INST]&lt;&lt;SYS&gt;&gt;\\nProvide answers in Python. W...</td>\n",
       "      <td>import math\\n\\n\\ndef check(A, B):\\n    if A ==...</td>\n",
       "      <td>{'./files/question-4-pass-1.py': [{'code': 'E2...</td>\n",
       "      <td>Regenerate the entire code after fixing the fo...</td>\n",
       "      <td>&lt;s&gt;[INST]&lt;&lt;SYS&gt;&gt;\\nProvide answers in Python. W...</td>\n",
       "      <td>&lt;s&gt;[INST]&lt;&lt;SYS&gt;&gt;\\nProvide answers in Python. W...</td>\n",
       "    </tr>\n",
       "  </tbody>\n",
       "</table>\n",
       "</div>"
      ],
      "text/plain": [
       "   id                                               text  \\\n",
       "0   0  Maximum Prefix Sum possible by merging two giv...   \n",
       "1   1  Check if a number can be represented as sum of...   \n",
       "2   2  Generate an N | Python3 program for the above ...   \n",
       "3   3  Nth natural number after removing all numbers ...   \n",
       "4   4  Check if an integer is rotation of another giv...   \n",
       "\n",
       "                                                code  \\\n",
       "0  def maxPresum(a, b):\\n    X = max(a[0], 0)\\n  ...   \n",
       "1  import math\\n\\n\\ndef sumOfTwoCubes(n):\\n    lo...   \n",
       "2  sieve = [1] * (1000000 + 1)\\n\\n\\ndef sieveOfPr...   \n",
       "3  def findNthNumber(N):\\n    result = 0\\n    p =...   \n",
       "4  import math\\n\\n\\ndef check(A, B):\\n    if (A =...   \n",
       "\n",
       "                                            question  \\\n",
       "0  Maximum Prefix Sum possible by merging two giv...   \n",
       "1  Check if a number can be represented as sum of...   \n",
       "2                                     Generate an N.   \n",
       "3  Nth natural number after removing all numbers ...   \n",
       "4  Check if an integer is rotation of another giv...   \n",
       "\n",
       "                                           functions  \\\n",
       "0                           ['def maxPresum(a, b):']   \n",
       "1                          ['def sumOfTwoCubes(n):']   \n",
       "2  ['def sieveOfPrimes():', 'def getArray(arr, N):']   \n",
       "3                          ['def findNthNumber(N):']   \n",
       "4                               ['def check(A, B):']   \n",
       "\n",
       "                                        code_context  \\\n",
       "0                               def maxPresum(a, b):   \n",
       "1             import math\\n\\n\\ndef sumOfTwoCubes(n):   \n",
       "2  sieve = [1] * (1000000 + 1)\\n\\n\\ndef sieveOfPr...   \n",
       "3                              def findNthNumber(N):   \n",
       "4                  import math\\n\\n\\ndef check(A, B):   \n",
       "\n",
       "                                             context  \\\n",
       "0                               def maxPresum(a, b):   \n",
       "1             import math\\n\\n\\ndef sumOfTwoCubes(n):   \n",
       "2  sieve = [1] * (1000000 + 1)\\n\\n\\ndef sieveOfPr...   \n",
       "3                              def findNthNumber(N):   \n",
       "4                  import math\\n\\n\\ndef check(A, B):   \n",
       "\n",
       "                                        llama_prompt  \\\n",
       "0  <s>[INST]<<SYS>>\\nProvide answers in Python. W...   \n",
       "1  <s>[INST]<<SYS>>\\nProvide answers in Python. W...   \n",
       "2  <s>[INST]<<SYS>>\\nProvide answers in Python. W...   \n",
       "3  <s>[INST]<<SYS>>\\nProvide answers in Python. W...   \n",
       "4  <s>[INST]<<SYS>>\\nProvide answers in Python. W...   \n",
       "\n",
       "                                            response  \\\n",
       "0  <s>[INST]<<SYS>>\\nProvide answers in Python. W...   \n",
       "1  <s>[INST]<<SYS>>\\nProvide answers in Python. W...   \n",
       "2  <s>[INST]<<SYS>>\\nProvide answers in Python. W...   \n",
       "3  <s>[INST]<<SYS>>\\nProvide answers in Python. W...   \n",
       "4  <s>[INST]<<SYS>>\\nProvide answers in Python. W...   \n",
       "\n",
       "                                       response_code  \\\n",
       "0  def maxPresum(a, b):\\n    max_sum = 0\\n    for...   \n",
       "1  import math\\n\\n\\ndef sumOfTwoCubes(n):\\n    fo...   \n",
       "2  sieve = [1] * (1000000 + 1)\\n\\n\\ndef sieveOfPr...   \n",
       "3  def findNthNumber(N):\\n    nth_number = 1\\n   ...   \n",
       "4  import math\\n\\n\\ndef check(A, B):\\n    if A ==...   \n",
       "\n",
       "                                              report  \\\n",
       "0  {'./files/question-0-pass-1.py': [{'code': 'W2...   \n",
       "1  {'./files/question-1-pass-1.py': [{'code': 'W2...   \n",
       "2  {'./files/question-2-pass-1.py': [{'code': 'W2...   \n",
       "3  {'./files/question-3-pass-1.py': [{'code': 'W2...   \n",
       "4  {'./files/question-4-pass-1.py': [{'code': 'E2...   \n",
       "\n",
       "                                            feedback  \\\n",
       "0  Regenerate the entire code after fixing the fo...   \n",
       "1  Regenerate the entire code after fixing the fo...   \n",
       "2  Regenerate the entire code after fixing the fo...   \n",
       "3  Regenerate the entire code after fixing the fo...   \n",
       "4  Regenerate the entire code after fixing the fo...   \n",
       "\n",
       "                          llama_prompt_with_feedback  \\\n",
       "0  <s>[INST]<<SYS>>\\nProvide answers in Python. W...   \n",
       "1  <s>[INST]<<SYS>>\\nProvide answers in Python. W...   \n",
       "2  <s>[INST]<<SYS>>\\nProvide answers in Python. W...   \n",
       "3  <s>[INST]<<SYS>>\\nProvide answers in Python. W...   \n",
       "4  <s>[INST]<<SYS>>\\nProvide answers in Python. W...   \n",
       "\n",
       "                                   response_feedback  \n",
       "0  <s>[INST]<<SYS>>\\nProvide answers in Python. W...  \n",
       "1  <s>[INST]<<SYS>>\\nProvide answers in Python. W...  \n",
       "2  <s>[INST]<<SYS>>\\nProvide answers in Python. W...  \n",
       "3  <s>[INST]<<SYS>>\\nProvide answers in Python. W...  \n",
       "4  <s>[INST]<<SYS>>\\nProvide answers in Python. W...  "
      ]
     },
     "execution_count": 31,
     "metadata": {},
     "output_type": "execute_result"
    }
   ],
   "source": [
    "train_df['response_feedback'] = responses\n",
    "train_df.head()"
   ]
  },
  {
   "cell_type": "code",
   "execution_count": 32,
   "id": "0137640b",
   "metadata": {
    "execution": {
     "iopub.execute_input": "2023-11-13T23:31:21.008113Z",
     "iopub.status.busy": "2023-11-13T23:31:21.007719Z",
     "iopub.status.idle": "2023-11-13T23:31:21.106074Z",
     "shell.execute_reply": "2023-11-13T23:31:21.105194Z"
    },
    "papermill": {
     "duration": 0.146763,
     "end_time": "2023-11-13T23:31:21.108617",
     "exception": false,
     "start_time": "2023-11-13T23:31:20.961854",
     "status": "completed"
    },
    "tags": []
   },
   "outputs": [],
   "source": [
    "train_df.to_csv('/kaggle/working/train_response_with_feedback.csv')"
   ]
  },
  {
   "cell_type": "markdown",
   "id": "4da6043f",
   "metadata": {
    "id": "gspMco_Gu-6K",
    "papermill": {
     "duration": 0.042467,
     "end_time": "2023-11-13T23:31:21.194348",
     "exception": false,
     "start_time": "2023-11-13T23:31:21.151881",
     "status": "completed"
    },
    "tags": []
   },
   "source": [
    "### Testing on Several Queries"
   ]
  },
  {
   "cell_type": "markdown",
   "id": "85e5f31e",
   "metadata": {
    "id": "S1rBELXcaczQ",
    "papermill": {
     "duration": 0.04275,
     "end_time": "2023-11-13T23:31:21.280367",
     "exception": false,
     "start_time": "2023-11-13T23:31:21.237617",
     "status": "completed"
    },
    "tags": []
   },
   "source": [
    "### Code Infilling\n",
    "\n",
    "For Future..."
   ]
  },
  {
   "cell_type": "code",
   "execution_count": 33,
   "id": "e667d7f7",
   "metadata": {
    "execution": {
     "iopub.execute_input": "2023-11-13T23:31:21.366923Z",
     "iopub.status.busy": "2023-11-13T23:31:21.366502Z",
     "iopub.status.idle": "2023-11-13T23:31:21.371211Z",
     "shell.execute_reply": "2023-11-13T23:31:21.370169Z"
    },
    "id": "417TXmZ_swsY",
    "papermill": {
     "duration": 0.050715,
     "end_time": "2023-11-13T23:31:21.373526",
     "exception": false,
     "start_time": "2023-11-13T23:31:21.322811",
     "status": "completed"
    },
    "tags": []
   },
   "outputs": [],
   "source": [
    "# from transformers import pipeline\n",
    "# import torch\n",
    "\n",
    "# generator = pipeline(\"text-generation\",model=\"codellama/CodeLlama-7b-hf\",torch_dtype=torch.float16, device_map=\"auto\")\n",
    "# # generator('def remove_non_ascii(s: str) -> str:\\n    \"\"\" <FILL_ME>\\n    return result', max_new_tokens = 128, return_type = 1)"
   ]
  },
  {
   "cell_type": "code",
   "execution_count": 34,
   "id": "2658671b",
   "metadata": {
    "execution": {
     "iopub.execute_input": "2023-11-13T23:31:21.460732Z",
     "iopub.status.busy": "2023-11-13T23:31:21.459960Z",
     "iopub.status.idle": "2023-11-13T23:31:21.464728Z",
     "shell.execute_reply": "2023-11-13T23:31:21.463750Z"
    },
    "id": "3ZXzPHTYaeFp",
    "papermill": {
     "duration": 0.050912,
     "end_time": "2023-11-13T23:31:21.466774",
     "exception": false,
     "start_time": "2023-11-13T23:31:21.415862",
     "status": "completed"
    },
    "tags": []
   },
   "outputs": [],
   "source": [
    "# from transformers import AutoTokenizer, AutoModelForCausalLM\n",
    "# import transformers\n",
    "# import torch\n",
    "\n",
    "# model_id = \"codellama/CodeLlama-7b-hf\"\n",
    "# tokenizer2 = AutoTokenizer.from_pretrained(model_id)\n",
    "# model2 = AutoModelForCausalLM.from_pretrained(\n",
    "#     model_id,\n",
    "#     torch_dtype=torch.float16\n",
    "# ).to(\"cuda\")\n",
    "\n",
    "\n"
   ]
  },
  {
   "cell_type": "code",
   "execution_count": 35,
   "id": "c0af16fd",
   "metadata": {
    "execution": {
     "iopub.execute_input": "2023-11-13T23:31:21.554833Z",
     "iopub.status.busy": "2023-11-13T23:31:21.553718Z",
     "iopub.status.idle": "2023-11-13T23:31:21.558863Z",
     "shell.execute_reply": "2023-11-13T23:31:21.557886Z"
    },
    "id": "iEUqsj9_ailm",
    "papermill": {
     "duration": 0.052279,
     "end_time": "2023-11-13T23:31:21.560971",
     "exception": false,
     "start_time": "2023-11-13T23:31:21.508692",
     "status": "completed"
    },
    "tags": []
   },
   "outputs": [],
   "source": [
    "# prompt = '''def remove_non_ascii(s: str) -> str:\n",
    "#     \"\"\" <FILL_ME>\n",
    "#     return result\n",
    "# '''\n",
    "\n",
    "# input_ids = tokenizer(prompt, return_tensors=\"pt\")[\"input_ids\"].to(\"cuda\")\n",
    "# output = model.generate(\n",
    "#     input_ids,\n",
    "#     max_new_tokens=200,\n",
    "# )\n",
    "# output = output[0].to(\"cpu\")\n",
    "\n",
    "# filling = tokenizer.decode(output[input_ids.shape[1]:], skip_special_tokens=True)\n"
   ]
  },
  {
   "cell_type": "code",
   "execution_count": 36,
   "id": "166b5403",
   "metadata": {
    "execution": {
     "iopub.execute_input": "2023-11-13T23:31:21.649926Z",
     "iopub.status.busy": "2023-11-13T23:31:21.649261Z",
     "iopub.status.idle": "2023-11-13T23:31:21.653807Z",
     "shell.execute_reply": "2023-11-13T23:31:21.652845Z"
    },
    "id": "Vkpu8bplbeL9",
    "papermill": {
     "duration": 0.051616,
     "end_time": "2023-11-13T23:31:21.655989",
     "exception": false,
     "start_time": "2023-11-13T23:31:21.604373",
     "status": "completed"
    },
    "tags": []
   },
   "outputs": [],
   "source": [
    "# print(prompt.replace(\"<FILL_ME>\", filling))"
   ]
  }
 ],
 "metadata": {
  "kaggle": {
   "accelerator": "nvidiaTeslaT4",
   "dataSources": [
    {
     "datasetId": 3989458,
     "sourceId": 6946466,
     "sourceType": "datasetVersion"
    },
    {
     "datasetId": 3994365,
     "sourceId": 6954507,
     "sourceType": "datasetVersion"
    },
    {
     "datasetId": 3994366,
     "sourceId": 6954511,
     "sourceType": "datasetVersion"
    }
   ],
   "dockerImageVersionId": 30580,
   "isGpuEnabled": true,
   "isInternetEnabled": true,
   "language": "python",
   "sourceType": "notebook"
  },
  "kernelspec": {
   "display_name": "Python 3",
   "language": "python",
   "name": "python3"
  },
  "language_info": {
   "codemirror_mode": {
    "name": "ipython",
    "version": 3
   },
   "file_extension": ".py",
   "mimetype": "text/x-python",
   "name": "python",
   "nbconvert_exporter": "python",
   "pygments_lexer": "ipython3",
   "version": "3.10.12"
  },
  "papermill": {
   "default_parameters": {},
   "duration": 4664.421765,
   "end_time": "2023-11-13T23:31:24.900233",
   "environment_variables": {},
   "exception": null,
   "input_path": "__notebook__.ipynb",
   "output_path": "__notebook__.ipynb",
   "parameters": {},
   "start_time": "2023-11-13T22:13:40.478468",
   "version": "2.4.0"
  },
  "widgets": {
   "application/vnd.jupyter.widget-state+json": {
    "state": {
     "00e1517de4be4458a44ddf132b7d19a4": {
      "model_module": "@jupyter-widgets/base",
      "model_module_version": "1.2.0",
      "model_name": "LayoutModel",
      "state": {
       "_model_module": "@jupyter-widgets/base",
       "_model_module_version": "1.2.0",
       "_model_name": "LayoutModel",
       "_view_count": null,
       "_view_module": "@jupyter-widgets/base",
       "_view_module_version": "1.2.0",
       "_view_name": "LayoutView",
       "align_content": null,
       "align_items": null,
       "align_self": null,
       "border": null,
       "bottom": null,
       "display": null,
       "flex": null,
       "flex_flow": null,
       "grid_area": null,
       "grid_auto_columns": null,
       "grid_auto_flow": null,
       "grid_auto_rows": null,
       "grid_column": null,
       "grid_gap": null,
       "grid_row": null,
       "grid_template_areas": null,
       "grid_template_columns": null,
       "grid_template_rows": null,
       "height": null,
       "justify_content": null,
       "justify_items": null,
       "left": null,
       "margin": null,
       "max_height": null,
       "max_width": null,
       "min_height": null,
       "min_width": null,
       "object_fit": null,
       "object_position": null,
       "order": null,
       "overflow": null,
       "overflow_x": null,
       "overflow_y": null,
       "padding": null,
       "right": null,
       "top": null,
       "visibility": null,
       "width": null
      }
     },
     "0257412d449c487d9379ae8131dc6a3c": {
      "model_module": "@jupyter-widgets/controls",
      "model_module_version": "1.5.0",
      "model_name": "HTMLModel",
      "state": {
       "_dom_classes": [],
       "_model_module": "@jupyter-widgets/controls",
       "_model_module_version": "1.5.0",
       "_model_name": "HTMLModel",
       "_view_count": null,
       "_view_module": "@jupyter-widgets/controls",
       "_view_module_version": "1.5.0",
       "_view_name": "HTMLView",
       "description": "",
       "description_tooltip": null,
       "layout": "IPY_MODEL_2d4dfd6561db4c18b7be7e89f22ed320",
       "placeholder": "​",
       "style": "IPY_MODEL_4e2b6731b8a94506a3a609b0866efae2",
       "value": "Downloading tokenizer.model: 100%"
      }
     },
     "05c19954c0d64307862d671ed86918ef": {
      "model_module": "@jupyter-widgets/controls",
      "model_module_version": "1.5.0",
      "model_name": "HTMLModel",
      "state": {
       "_dom_classes": [],
       "_model_module": "@jupyter-widgets/controls",
       "_model_module_version": "1.5.0",
       "_model_name": "HTMLModel",
       "_view_count": null,
       "_view_module": "@jupyter-widgets/controls",
       "_view_module_version": "1.5.0",
       "_view_name": "HTMLView",
       "description": "",
       "description_tooltip": null,
       "layout": "IPY_MODEL_14b0c4026eb446c8ad76a6cc69a522a0",
       "placeholder": "​",
       "style": "IPY_MODEL_2ebc6e74810c49deb8b978032212fa56",
       "value": "Downloading (…)/main/tokenizer.json: 100%"
      }
     },
     "0891d31178bc4250972d63e5811306ca": {
      "model_module": "@jupyter-widgets/controls",
      "model_module_version": "1.5.0",
      "model_name": "HTMLModel",
      "state": {
       "_dom_classes": [],
       "_model_module": "@jupyter-widgets/controls",
       "_model_module_version": "1.5.0",
       "_model_name": "HTMLModel",
       "_view_count": null,
       "_view_module": "@jupyter-widgets/controls",
       "_view_module_version": "1.5.0",
       "_view_name": "HTMLView",
       "description": "",
       "description_tooltip": null,
       "layout": "IPY_MODEL_d39748caad9841bf86c11cc62c002cb6",
       "placeholder": "​",
       "style": "IPY_MODEL_2db886d5d1b94adc91000c4781789a47",
       "value": "Downloading (…)cial_tokens_map.json: 100%"
      }
     },
     "0ca14828ce244b7a9dd1e0601032259e": {
      "model_module": "@jupyter-widgets/controls",
      "model_module_version": "1.5.0",
      "model_name": "HTMLModel",
      "state": {
       "_dom_classes": [],
       "_model_module": "@jupyter-widgets/controls",
       "_model_module_version": "1.5.0",
       "_model_name": "HTMLModel",
       "_view_count": null,
       "_view_module": "@jupyter-widgets/controls",
       "_view_module_version": "1.5.0",
       "_view_name": "HTMLView",
       "description": "",
       "description_tooltip": null,
       "layout": "IPY_MODEL_90e795c6f14344018691e1fbb8430f54",
       "placeholder": "​",
       "style": "IPY_MODEL_7622c3e3d53f49f4966bb0f64cc5031b",
       "value": " 2/2 [00:13&lt;00:00,  6.28s/it]"
      }
     },
     "0fccf824ac5646a199e1f9bc00fcb593": {
      "model_module": "@jupyter-widgets/controls",
      "model_module_version": "1.5.0",
      "model_name": "FloatProgressModel",
      "state": {
       "_dom_classes": [],
       "_model_module": "@jupyter-widgets/controls",
       "_model_module_version": "1.5.0",
       "_model_name": "FloatProgressModel",
       "_view_count": null,
       "_view_module": "@jupyter-widgets/controls",
       "_view_module_version": "1.5.0",
       "_view_name": "ProgressView",
       "bar_style": "success",
       "description": "",
       "description_tooltip": null,
       "layout": "IPY_MODEL_13774d30a16f4fd086de0f76bb891fc0",
       "max": 2.0,
       "min": 0.0,
       "orientation": "horizontal",
       "style": "IPY_MODEL_f5c15b420ddb4952ba4da2a46858efe6",
       "value": 2.0
      }
     },
     "108dadd6d2834c88ba1db357a4b64392": {
      "model_module": "@jupyter-widgets/base",
      "model_module_version": "1.2.0",
      "model_name": "LayoutModel",
      "state": {
       "_model_module": "@jupyter-widgets/base",
       "_model_module_version": "1.2.0",
       "_model_name": "LayoutModel",
       "_view_count": null,
       "_view_module": "@jupyter-widgets/base",
       "_view_module_version": "1.2.0",
       "_view_name": "LayoutView",
       "align_content": null,
       "align_items": null,
       "align_self": null,
       "border": null,
       "bottom": null,
       "display": null,
       "flex": null,
       "flex_flow": null,
       "grid_area": null,
       "grid_auto_columns": null,
       "grid_auto_flow": null,
       "grid_auto_rows": null,
       "grid_column": null,
       "grid_gap": null,
       "grid_row": null,
       "grid_template_areas": null,
       "grid_template_columns": null,
       "grid_template_rows": null,
       "height": null,
       "justify_content": null,
       "justify_items": null,
       "left": null,
       "margin": null,
       "max_height": null,
       "max_width": null,
       "min_height": null,
       "min_width": null,
       "object_fit": null,
       "object_position": null,
       "order": null,
       "overflow": null,
       "overflow_x": null,
       "overflow_y": null,
       "padding": null,
       "right": null,
       "top": null,
       "visibility": null,
       "width": null
      }
     },
     "10cc01665d054a2e8dbc6ae1f56e8cc3": {
      "model_module": "@jupyter-widgets/controls",
      "model_module_version": "1.5.0",
      "model_name": "DescriptionStyleModel",
      "state": {
       "_model_module": "@jupyter-widgets/controls",
       "_model_module_version": "1.5.0",
       "_model_name": "DescriptionStyleModel",
       "_view_count": null,
       "_view_module": "@jupyter-widgets/base",
       "_view_module_version": "1.2.0",
       "_view_name": "StyleView",
       "description_width": ""
      }
     },
     "126f59e9fd7b46ecaec5cee612022377": {
      "model_module": "@jupyter-widgets/controls",
      "model_module_version": "1.5.0",
      "model_name": "HBoxModel",
      "state": {
       "_dom_classes": [],
       "_model_module": "@jupyter-widgets/controls",
       "_model_module_version": "1.5.0",
       "_model_name": "HBoxModel",
       "_view_count": null,
       "_view_module": "@jupyter-widgets/controls",
       "_view_module_version": "1.5.0",
       "_view_name": "HBoxView",
       "box_style": "",
       "children": [
        "IPY_MODEL_f7d2de0501e24bb79c6b278efa7cb08c",
        "IPY_MODEL_37149907fa88457886074ea461ba5a7c",
        "IPY_MODEL_6852f8d659b1433ea993b54176369ddd"
       ],
       "layout": "IPY_MODEL_587d8e5f19c44180b9458d736f7be159"
      }
     },
     "13774d30a16f4fd086de0f76bb891fc0": {
      "model_module": "@jupyter-widgets/base",
      "model_module_version": "1.2.0",
      "model_name": "LayoutModel",
      "state": {
       "_model_module": "@jupyter-widgets/base",
       "_model_module_version": "1.2.0",
       "_model_name": "LayoutModel",
       "_view_count": null,
       "_view_module": "@jupyter-widgets/base",
       "_view_module_version": "1.2.0",
       "_view_name": "LayoutView",
       "align_content": null,
       "align_items": null,
       "align_self": null,
       "border": null,
       "bottom": null,
       "display": null,
       "flex": null,
       "flex_flow": null,
       "grid_area": null,
       "grid_auto_columns": null,
       "grid_auto_flow": null,
       "grid_auto_rows": null,
       "grid_column": null,
       "grid_gap": null,
       "grid_row": null,
       "grid_template_areas": null,
       "grid_template_columns": null,
       "grid_template_rows": null,
       "height": null,
       "justify_content": null,
       "justify_items": null,
       "left": null,
       "margin": null,
       "max_height": null,
       "max_width": null,
       "min_height": null,
       "min_width": null,
       "object_fit": null,
       "object_position": null,
       "order": null,
       "overflow": null,
       "overflow_x": null,
       "overflow_y": null,
       "padding": null,
       "right": null,
       "top": null,
       "visibility": null,
       "width": null
      }
     },
     "13cef43b12814b59833b0f4c669c19e0": {
      "model_module": "@jupyter-widgets/base",
      "model_module_version": "1.2.0",
      "model_name": "LayoutModel",
      "state": {
       "_model_module": "@jupyter-widgets/base",
       "_model_module_version": "1.2.0",
       "_model_name": "LayoutModel",
       "_view_count": null,
       "_view_module": "@jupyter-widgets/base",
       "_view_module_version": "1.2.0",
       "_view_name": "LayoutView",
       "align_content": null,
       "align_items": null,
       "align_self": null,
       "border": null,
       "bottom": null,
       "display": null,
       "flex": null,
       "flex_flow": null,
       "grid_area": null,
       "grid_auto_columns": null,
       "grid_auto_flow": null,
       "grid_auto_rows": null,
       "grid_column": null,
       "grid_gap": null,
       "grid_row": null,
       "grid_template_areas": null,
       "grid_template_columns": null,
       "grid_template_rows": null,
       "height": null,
       "justify_content": null,
       "justify_items": null,
       "left": null,
       "margin": null,
       "max_height": null,
       "max_width": null,
       "min_height": null,
       "min_width": null,
       "object_fit": null,
       "object_position": null,
       "order": null,
       "overflow": null,
       "overflow_x": null,
       "overflow_y": null,
       "padding": null,
       "right": null,
       "top": null,
       "visibility": null,
       "width": null
      }
     },
     "14b0c4026eb446c8ad76a6cc69a522a0": {
      "model_module": "@jupyter-widgets/base",
      "model_module_version": "1.2.0",
      "model_name": "LayoutModel",
      "state": {
       "_model_module": "@jupyter-widgets/base",
       "_model_module_version": "1.2.0",
       "_model_name": "LayoutModel",
       "_view_count": null,
       "_view_module": "@jupyter-widgets/base",
       "_view_module_version": "1.2.0",
       "_view_name": "LayoutView",
       "align_content": null,
       "align_items": null,
       "align_self": null,
       "border": null,
       "bottom": null,
       "display": null,
       "flex": null,
       "flex_flow": null,
       "grid_area": null,
       "grid_auto_columns": null,
       "grid_auto_flow": null,
       "grid_auto_rows": null,
       "grid_column": null,
       "grid_gap": null,
       "grid_row": null,
       "grid_template_areas": null,
       "grid_template_columns": null,
       "grid_template_rows": null,
       "height": null,
       "justify_content": null,
       "justify_items": null,
       "left": null,
       "margin": null,
       "max_height": null,
       "max_width": null,
       "min_height": null,
       "min_width": null,
       "object_fit": null,
       "object_position": null,
       "order": null,
       "overflow": null,
       "overflow_x": null,
       "overflow_y": null,
       "padding": null,
       "right": null,
       "top": null,
       "visibility": null,
       "width": null
      }
     },
     "15b192afa2484ee1bdfc303937ec285f": {
      "model_module": "@jupyter-widgets/controls",
      "model_module_version": "1.5.0",
      "model_name": "ProgressStyleModel",
      "state": {
       "_model_module": "@jupyter-widgets/controls",
       "_model_module_version": "1.5.0",
       "_model_name": "ProgressStyleModel",
       "_view_count": null,
       "_view_module": "@jupyter-widgets/base",
       "_view_module_version": "1.2.0",
       "_view_name": "StyleView",
       "bar_color": null,
       "description_width": ""
      }
     },
     "15b3bf9b27974f8f848a6bed3bbd9265": {
      "model_module": "@jupyter-widgets/controls",
      "model_module_version": "1.5.0",
      "model_name": "HBoxModel",
      "state": {
       "_dom_classes": [],
       "_model_module": "@jupyter-widgets/controls",
       "_model_module_version": "1.5.0",
       "_model_name": "HBoxModel",
       "_view_count": null,
       "_view_module": "@jupyter-widgets/controls",
       "_view_module_version": "1.5.0",
       "_view_name": "HBoxView",
       "box_style": "",
       "children": [
        "IPY_MODEL_1a189ec7bd834031b8f4ce016d7031f5",
        "IPY_MODEL_0fccf824ac5646a199e1f9bc00fcb593",
        "IPY_MODEL_5b3d40a1ecdf436db8e7dd1f85682133"
       ],
       "layout": "IPY_MODEL_ebee63116bc24b929c15bbf756ae839f"
      }
     },
     "16c350be70e7456fa58e6dc319bc005f": {
      "model_module": "@jupyter-widgets/controls",
      "model_module_version": "1.5.0",
      "model_name": "HTMLModel",
      "state": {
       "_dom_classes": [],
       "_model_module": "@jupyter-widgets/controls",
       "_model_module_version": "1.5.0",
       "_model_name": "HTMLModel",
       "_view_count": null,
       "_view_module": "@jupyter-widgets/controls",
       "_view_module_version": "1.5.0",
       "_view_name": "HTMLView",
       "description": "",
       "description_tooltip": null,
       "layout": "IPY_MODEL_fdbd1b3a454145198197e43127ff1c98",
       "placeholder": "​",
       "style": "IPY_MODEL_990fd3761b314dc8b1a992bd8c20f07c",
       "value": " 1.84M/1.84M [00:00&lt;00:00, 22.5MB/s]"
      }
     },
     "1a189ec7bd834031b8f4ce016d7031f5": {
      "model_module": "@jupyter-widgets/controls",
      "model_module_version": "1.5.0",
      "model_name": "HTMLModel",
      "state": {
       "_dom_classes": [],
       "_model_module": "@jupyter-widgets/controls",
       "_model_module_version": "1.5.0",
       "_model_name": "HTMLModel",
       "_view_count": null,
       "_view_module": "@jupyter-widgets/controls",
       "_view_module_version": "1.5.0",
       "_view_name": "HTMLView",
       "description": "",
       "description_tooltip": null,
       "layout": "IPY_MODEL_b703b430883140b182b78a36689537a3",
       "placeholder": "​",
       "style": "IPY_MODEL_f61dae59e4af4a4594438d0b73b625cd",
       "value": "Downloading shards: 100%"
      }
     },
     "1a7c39a100704be7b099e3eeadf63912": {
      "model_module": "@jupyter-widgets/controls",
      "model_module_version": "1.5.0",
      "model_name": "FloatProgressModel",
      "state": {
       "_dom_classes": [],
       "_model_module": "@jupyter-widgets/controls",
       "_model_module_version": "1.5.0",
       "_model_name": "FloatProgressModel",
       "_view_count": null,
       "_view_module": "@jupyter-widgets/controls",
       "_view_module_version": "1.5.0",
       "_view_name": "ProgressView",
       "bar_style": "success",
       "description": "",
       "description_tooltip": null,
       "layout": "IPY_MODEL_d7e770f2ec4a4cea808609c801a2bf67",
       "max": 411.0,
       "min": 0.0,
       "orientation": "horizontal",
       "style": "IPY_MODEL_bf4ebc478b6d4889beefc1cbbcfc6174",
       "value": 411.0
      }
     },
     "1bde872a1d2a4539b090038ba1e200d0": {
      "model_module": "@jupyter-widgets/controls",
      "model_module_version": "1.5.0",
      "model_name": "ProgressStyleModel",
      "state": {
       "_model_module": "@jupyter-widgets/controls",
       "_model_module_version": "1.5.0",
       "_model_name": "ProgressStyleModel",
       "_view_count": null,
       "_view_module": "@jupyter-widgets/base",
       "_view_module_version": "1.2.0",
       "_view_name": "StyleView",
       "bar_color": null,
       "description_width": ""
      }
     },
     "1c34b8f2d8434e4e8590ad3a09820fd8": {
      "model_module": "@jupyter-widgets/controls",
      "model_module_version": "1.5.0",
      "model_name": "ProgressStyleModel",
      "state": {
       "_model_module": "@jupyter-widgets/controls",
       "_model_module_version": "1.5.0",
       "_model_name": "ProgressStyleModel",
       "_view_count": null,
       "_view_module": "@jupyter-widgets/base",
       "_view_module_version": "1.2.0",
       "_view_name": "StyleView",
       "bar_color": null,
       "description_width": ""
      }
     },
     "1d4afb5356f64667b6239c15107c04c2": {
      "model_module": "@jupyter-widgets/base",
      "model_module_version": "1.2.0",
      "model_name": "LayoutModel",
      "state": {
       "_model_module": "@jupyter-widgets/base",
       "_model_module_version": "1.2.0",
       "_model_name": "LayoutModel",
       "_view_count": null,
       "_view_module": "@jupyter-widgets/base",
       "_view_module_version": "1.2.0",
       "_view_name": "LayoutView",
       "align_content": null,
       "align_items": null,
       "align_self": null,
       "border": null,
       "bottom": null,
       "display": null,
       "flex": null,
       "flex_flow": null,
       "grid_area": null,
       "grid_auto_columns": null,
       "grid_auto_flow": null,
       "grid_auto_rows": null,
       "grid_column": null,
       "grid_gap": null,
       "grid_row": null,
       "grid_template_areas": null,
       "grid_template_columns": null,
       "grid_template_rows": null,
       "height": null,
       "justify_content": null,
       "justify_items": null,
       "left": null,
       "margin": null,
       "max_height": null,
       "max_width": null,
       "min_height": null,
       "min_width": null,
       "object_fit": null,
       "object_position": null,
       "order": null,
       "overflow": null,
       "overflow_x": null,
       "overflow_y": null,
       "padding": null,
       "right": null,
       "top": null,
       "visibility": null,
       "width": null
      }
     },
     "1d5987c6a9be40f69d33fa2fcf476651": {
      "model_module": "@jupyter-widgets/controls",
      "model_module_version": "1.5.0",
      "model_name": "DescriptionStyleModel",
      "state": {
       "_model_module": "@jupyter-widgets/controls",
       "_model_module_version": "1.5.0",
       "_model_name": "DescriptionStyleModel",
       "_view_count": null,
       "_view_module": "@jupyter-widgets/base",
       "_view_module_version": "1.2.0",
       "_view_name": "StyleView",
       "description_width": ""
      }
     },
     "1e16eed5179d43d7a346f235c8dab8ab": {
      "model_module": "@jupyter-widgets/controls",
      "model_module_version": "1.5.0",
      "model_name": "FloatProgressModel",
      "state": {
       "_dom_classes": [],
       "_model_module": "@jupyter-widgets/controls",
       "_model_module_version": "1.5.0",
       "_model_name": "FloatProgressModel",
       "_view_count": null,
       "_view_module": "@jupyter-widgets/controls",
       "_view_module_version": "1.5.0",
       "_view_name": "ProgressView",
       "bar_style": "success",
       "description": "",
       "description_tooltip": null,
       "layout": "IPY_MODEL_b14995e9d4e6423e9dd09807a5c75563",
       "max": 300.0,
       "min": 0.0,
       "orientation": "horizontal",
       "style": "IPY_MODEL_1bde872a1d2a4539b090038ba1e200d0",
       "value": 300.0
      }
     },
     "1e1fddb80e374ad79d8a8793660b6f1d": {
      "model_module": "@jupyter-widgets/controls",
      "model_module_version": "1.5.0",
      "model_name": "FloatProgressModel",
      "state": {
       "_dom_classes": [],
       "_model_module": "@jupyter-widgets/controls",
       "_model_module_version": "1.5.0",
       "_model_name": "FloatProgressModel",
       "_view_count": null,
       "_view_module": "@jupyter-widgets/controls",
       "_view_module_version": "1.5.0",
       "_view_name": "ProgressView",
       "bar_style": "success",
       "description": "",
       "description_tooltip": null,
       "layout": "IPY_MODEL_1eb9469d5dc443f6bb5b916c7361105b",
       "max": 2.0,
       "min": 0.0,
       "orientation": "horizontal",
       "style": "IPY_MODEL_461b1b6f5e9d4e73a3399dc706a458da",
       "value": 2.0
      }
     },
     "1eb9469d5dc443f6bb5b916c7361105b": {
      "model_module": "@jupyter-widgets/base",
      "model_module_version": "1.2.0",
      "model_name": "LayoutModel",
      "state": {
       "_model_module": "@jupyter-widgets/base",
       "_model_module_version": "1.2.0",
       "_model_name": "LayoutModel",
       "_view_count": null,
       "_view_module": "@jupyter-widgets/base",
       "_view_module_version": "1.2.0",
       "_view_name": "LayoutView",
       "align_content": null,
       "align_items": null,
       "align_self": null,
       "border": null,
       "bottom": null,
       "display": null,
       "flex": null,
       "flex_flow": null,
       "grid_area": null,
       "grid_auto_columns": null,
       "grid_auto_flow": null,
       "grid_auto_rows": null,
       "grid_column": null,
       "grid_gap": null,
       "grid_row": null,
       "grid_template_areas": null,
       "grid_template_columns": null,
       "grid_template_rows": null,
       "height": null,
       "justify_content": null,
       "justify_items": null,
       "left": null,
       "margin": null,
       "max_height": null,
       "max_width": null,
       "min_height": null,
       "min_width": null,
       "object_fit": null,
       "object_position": null,
       "order": null,
       "overflow": null,
       "overflow_x": null,
       "overflow_y": null,
       "padding": null,
       "right": null,
       "top": null,
       "visibility": null,
       "width": null
      }
     },
     "1f0739d30290466098729e6dcb17acca": {
      "model_module": "@jupyter-widgets/controls",
      "model_module_version": "1.5.0",
      "model_name": "HTMLModel",
      "state": {
       "_dom_classes": [],
       "_model_module": "@jupyter-widgets/controls",
       "_model_module_version": "1.5.0",
       "_model_name": "HTMLModel",
       "_view_count": null,
       "_view_module": "@jupyter-widgets/controls",
       "_view_module_version": "1.5.0",
       "_view_name": "HTMLView",
       "description": "",
       "description_tooltip": null,
       "layout": "IPY_MODEL_de951ff51295412a80a1630c76db707e",
       "placeholder": "​",
       "style": "IPY_MODEL_d8e4649c93a04fba8983a670d40f620f",
       "value": "100%"
      }
     },
     "26e2dec3c5eb4720b7b66b882d7620d0": {
      "model_module": "@jupyter-widgets/controls",
      "model_module_version": "1.5.0",
      "model_name": "DescriptionStyleModel",
      "state": {
       "_model_module": "@jupyter-widgets/controls",
       "_model_module_version": "1.5.0",
       "_model_name": "DescriptionStyleModel",
       "_view_count": null,
       "_view_module": "@jupyter-widgets/base",
       "_view_module_version": "1.2.0",
       "_view_name": "StyleView",
       "description_width": ""
      }
     },
     "2727599a66cc46f29caa7bd3079652d5": {
      "model_module": "@jupyter-widgets/base",
      "model_module_version": "1.2.0",
      "model_name": "LayoutModel",
      "state": {
       "_model_module": "@jupyter-widgets/base",
       "_model_module_version": "1.2.0",
       "_model_name": "LayoutModel",
       "_view_count": null,
       "_view_module": "@jupyter-widgets/base",
       "_view_module_version": "1.2.0",
       "_view_name": "LayoutView",
       "align_content": null,
       "align_items": null,
       "align_self": null,
       "border": null,
       "bottom": null,
       "display": null,
       "flex": null,
       "flex_flow": null,
       "grid_area": null,
       "grid_auto_columns": null,
       "grid_auto_flow": null,
       "grid_auto_rows": null,
       "grid_column": null,
       "grid_gap": null,
       "grid_row": null,
       "grid_template_areas": null,
       "grid_template_columns": null,
       "grid_template_rows": null,
       "height": null,
       "justify_content": null,
       "justify_items": null,
       "left": null,
       "margin": null,
       "max_height": null,
       "max_width": null,
       "min_height": null,
       "min_width": null,
       "object_fit": null,
       "object_position": null,
       "order": null,
       "overflow": null,
       "overflow_x": null,
       "overflow_y": null,
       "padding": null,
       "right": null,
       "top": null,
       "visibility": null,
       "width": null
      }
     },
     "2728fe34c66a414b9acbae889db1c532": {
      "model_module": "@jupyter-widgets/base",
      "model_module_version": "1.2.0",
      "model_name": "LayoutModel",
      "state": {
       "_model_module": "@jupyter-widgets/base",
       "_model_module_version": "1.2.0",
       "_model_name": "LayoutModel",
       "_view_count": null,
       "_view_module": "@jupyter-widgets/base",
       "_view_module_version": "1.2.0",
       "_view_name": "LayoutView",
       "align_content": null,
       "align_items": null,
       "align_self": null,
       "border": null,
       "bottom": null,
       "display": null,
       "flex": null,
       "flex_flow": null,
       "grid_area": null,
       "grid_auto_columns": null,
       "grid_auto_flow": null,
       "grid_auto_rows": null,
       "grid_column": null,
       "grid_gap": null,
       "grid_row": null,
       "grid_template_areas": null,
       "grid_template_columns": null,
       "grid_template_rows": null,
       "height": null,
       "justify_content": null,
       "justify_items": null,
       "left": null,
       "margin": null,
       "max_height": null,
       "max_width": null,
       "min_height": null,
       "min_width": null,
       "object_fit": null,
       "object_position": null,
       "order": null,
       "overflow": null,
       "overflow_x": null,
       "overflow_y": null,
       "padding": null,
       "right": null,
       "top": null,
       "visibility": null,
       "width": null
      }
     },
     "2bbeb7e67e9b4300b789039c257e40ff": {
      "model_module": "@jupyter-widgets/base",
      "model_module_version": "1.2.0",
      "model_name": "LayoutModel",
      "state": {
       "_model_module": "@jupyter-widgets/base",
       "_model_module_version": "1.2.0",
       "_model_name": "LayoutModel",
       "_view_count": null,
       "_view_module": "@jupyter-widgets/base",
       "_view_module_version": "1.2.0",
       "_view_name": "LayoutView",
       "align_content": null,
       "align_items": null,
       "align_self": null,
       "border": null,
       "bottom": null,
       "display": null,
       "flex": null,
       "flex_flow": null,
       "grid_area": null,
       "grid_auto_columns": null,
       "grid_auto_flow": null,
       "grid_auto_rows": null,
       "grid_column": null,
       "grid_gap": null,
       "grid_row": null,
       "grid_template_areas": null,
       "grid_template_columns": null,
       "grid_template_rows": null,
       "height": null,
       "justify_content": null,
       "justify_items": null,
       "left": null,
       "margin": null,
       "max_height": null,
       "max_width": null,
       "min_height": null,
       "min_width": null,
       "object_fit": null,
       "object_position": null,
       "order": null,
       "overflow": null,
       "overflow_x": null,
       "overflow_y": null,
       "padding": null,
       "right": null,
       "top": null,
       "visibility": null,
       "width": null
      }
     },
     "2d4dfd6561db4c18b7be7e89f22ed320": {
      "model_module": "@jupyter-widgets/base",
      "model_module_version": "1.2.0",
      "model_name": "LayoutModel",
      "state": {
       "_model_module": "@jupyter-widgets/base",
       "_model_module_version": "1.2.0",
       "_model_name": "LayoutModel",
       "_view_count": null,
       "_view_module": "@jupyter-widgets/base",
       "_view_module_version": "1.2.0",
       "_view_name": "LayoutView",
       "align_content": null,
       "align_items": null,
       "align_self": null,
       "border": null,
       "bottom": null,
       "display": null,
       "flex": null,
       "flex_flow": null,
       "grid_area": null,
       "grid_auto_columns": null,
       "grid_auto_flow": null,
       "grid_auto_rows": null,
       "grid_column": null,
       "grid_gap": null,
       "grid_row": null,
       "grid_template_areas": null,
       "grid_template_columns": null,
       "grid_template_rows": null,
       "height": null,
       "justify_content": null,
       "justify_items": null,
       "left": null,
       "margin": null,
       "max_height": null,
       "max_width": null,
       "min_height": null,
       "min_width": null,
       "object_fit": null,
       "object_position": null,
       "order": null,
       "overflow": null,
       "overflow_x": null,
       "overflow_y": null,
       "padding": null,
       "right": null,
       "top": null,
       "visibility": null,
       "width": null
      }
     },
     "2db886d5d1b94adc91000c4781789a47": {
      "model_module": "@jupyter-widgets/controls",
      "model_module_version": "1.5.0",
      "model_name": "DescriptionStyleModel",
      "state": {
       "_model_module": "@jupyter-widgets/controls",
       "_model_module_version": "1.5.0",
       "_model_name": "DescriptionStyleModel",
       "_view_count": null,
       "_view_module": "@jupyter-widgets/base",
       "_view_module_version": "1.2.0",
       "_view_name": "StyleView",
       "description_width": ""
      }
     },
     "2decbb1d5c654a74b5fb48e4ef5bf46a": {
      "model_module": "@jupyter-widgets/controls",
      "model_module_version": "1.5.0",
      "model_name": "HBoxModel",
      "state": {
       "_dom_classes": [],
       "_model_module": "@jupyter-widgets/controls",
       "_model_module_version": "1.5.0",
       "_model_name": "HBoxModel",
       "_view_count": null,
       "_view_module": "@jupyter-widgets/controls",
       "_view_module_version": "1.5.0",
       "_view_name": "HBoxView",
       "box_style": "",
       "children": [
        "IPY_MODEL_bb4b1e92159c4777968044197c18f9d1",
        "IPY_MODEL_d6c970344ffd493cbd7e0a36f394ae2d",
        "IPY_MODEL_e9d248e1395b4407aa9a1b93d0eadc84"
       ],
       "layout": "IPY_MODEL_54d587af85d64842be2592778ea35c6c"
      }
     },
     "2ebc6e74810c49deb8b978032212fa56": {
      "model_module": "@jupyter-widgets/controls",
      "model_module_version": "1.5.0",
      "model_name": "DescriptionStyleModel",
      "state": {
       "_model_module": "@jupyter-widgets/controls",
       "_model_module_version": "1.5.0",
       "_model_name": "DescriptionStyleModel",
       "_view_count": null,
       "_view_module": "@jupyter-widgets/base",
       "_view_module_version": "1.2.0",
       "_view_name": "StyleView",
       "description_width": ""
      }
     },
     "3229da8eed464c35926ee7b370679dd5": {
      "model_module": "@jupyter-widgets/controls",
      "model_module_version": "1.5.0",
      "model_name": "HTMLModel",
      "state": {
       "_dom_classes": [],
       "_model_module": "@jupyter-widgets/controls",
       "_model_module_version": "1.5.0",
       "_model_name": "HTMLModel",
       "_view_count": null,
       "_view_module": "@jupyter-widgets/controls",
       "_view_module_version": "1.5.0",
       "_view_name": "HTMLView",
       "description": "",
       "description_tooltip": null,
       "layout": "IPY_MODEL_d81cb0e421f448239f503ebec362b4d4",
       "placeholder": "​",
       "style": "IPY_MODEL_b3d96714d2324fe0b4777dd200cceb4e",
       "value": " 9.98G/9.98G [00:46&lt;00:00, 220MB/s]"
      }
     },
     "329df232129f4f9f9fcd4a2877264b07": {
      "model_module": "@jupyter-widgets/controls",
      "model_module_version": "1.5.0",
      "model_name": "ProgressStyleModel",
      "state": {
       "_model_module": "@jupyter-widgets/controls",
       "_model_module_version": "1.5.0",
       "_model_name": "ProgressStyleModel",
       "_view_count": null,
       "_view_module": "@jupyter-widgets/base",
       "_view_module_version": "1.2.0",
       "_view_name": "StyleView",
       "bar_color": null,
       "description_width": ""
      }
     },
     "37149907fa88457886074ea461ba5a7c": {
      "model_module": "@jupyter-widgets/controls",
      "model_module_version": "1.5.0",
      "model_name": "FloatProgressModel",
      "state": {
       "_dom_classes": [],
       "_model_module": "@jupyter-widgets/controls",
       "_model_module_version": "1.5.0",
       "_model_name": "FloatProgressModel",
       "_view_count": null,
       "_view_module": "@jupyter-widgets/controls",
       "_view_module_version": "1.5.0",
       "_view_name": "ProgressView",
       "bar_style": "success",
       "description": "",
       "description_tooltip": null,
       "layout": "IPY_MODEL_d127dd596b714cef906a371684a537a0",
       "max": 116.0,
       "min": 0.0,
       "orientation": "horizontal",
       "style": "IPY_MODEL_15b192afa2484ee1bdfc303937ec285f",
       "value": 116.0
      }
     },
     "39f2907a15354ddd9ee41ae95377fd93": {
      "model_module": "@jupyter-widgets/base",
      "model_module_version": "1.2.0",
      "model_name": "LayoutModel",
      "state": {
       "_model_module": "@jupyter-widgets/base",
       "_model_module_version": "1.2.0",
       "_model_name": "LayoutModel",
       "_view_count": null,
       "_view_module": "@jupyter-widgets/base",
       "_view_module_version": "1.2.0",
       "_view_name": "LayoutView",
       "align_content": null,
       "align_items": null,
       "align_self": null,
       "border": null,
       "bottom": null,
       "display": null,
       "flex": null,
       "flex_flow": null,
       "grid_area": null,
       "grid_auto_columns": null,
       "grid_auto_flow": null,
       "grid_auto_rows": null,
       "grid_column": null,
       "grid_gap": null,
       "grid_row": null,
       "grid_template_areas": null,
       "grid_template_columns": null,
       "grid_template_rows": null,
       "height": null,
       "justify_content": null,
       "justify_items": null,
       "left": null,
       "margin": null,
       "max_height": null,
       "max_width": null,
       "min_height": null,
       "min_width": null,
       "object_fit": null,
       "object_position": null,
       "order": null,
       "overflow": null,
       "overflow_x": null,
       "overflow_y": null,
       "padding": null,
       "right": null,
       "top": null,
       "visibility": null,
       "width": null
      }
     },
     "3af2120ec79c429b8682b3e85b0a8dbb": {
      "model_module": "@jupyter-widgets/controls",
      "model_module_version": "1.5.0",
      "model_name": "ProgressStyleModel",
      "state": {
       "_model_module": "@jupyter-widgets/controls",
       "_model_module_version": "1.5.0",
       "_model_name": "ProgressStyleModel",
       "_view_count": null,
       "_view_module": "@jupyter-widgets/base",
       "_view_module_version": "1.2.0",
       "_view_name": "StyleView",
       "bar_color": null,
       "description_width": ""
      }
     },
     "3be6ea2fa887465d9a3697c08c3eb6d5": {
      "model_module": "@jupyter-widgets/controls",
      "model_module_version": "1.5.0",
      "model_name": "ProgressStyleModel",
      "state": {
       "_model_module": "@jupyter-widgets/controls",
       "_model_module_version": "1.5.0",
       "_model_name": "ProgressStyleModel",
       "_view_count": null,
       "_view_module": "@jupyter-widgets/base",
       "_view_module_version": "1.2.0",
       "_view_name": "StyleView",
       "bar_color": null,
       "description_width": ""
      }
     },
     "419da249787e4377b3e7997bd499829c": {
      "model_module": "@jupyter-widgets/controls",
      "model_module_version": "1.5.0",
      "model_name": "DescriptionStyleModel",
      "state": {
       "_model_module": "@jupyter-widgets/controls",
       "_model_module_version": "1.5.0",
       "_model_name": "DescriptionStyleModel",
       "_view_count": null,
       "_view_module": "@jupyter-widgets/base",
       "_view_module_version": "1.2.0",
       "_view_name": "StyleView",
       "description_width": ""
      }
     },
     "41bd8b000b0045fda29c623977b76b9d": {
      "model_module": "@jupyter-widgets/controls",
      "model_module_version": "1.5.0",
      "model_name": "HBoxModel",
      "state": {
       "_dom_classes": [],
       "_model_module": "@jupyter-widgets/controls",
       "_model_module_version": "1.5.0",
       "_model_name": "HBoxModel",
       "_view_count": null,
       "_view_module": "@jupyter-widgets/controls",
       "_view_module_version": "1.5.0",
       "_view_name": "HBoxView",
       "box_style": "",
       "children": [
        "IPY_MODEL_0891d31178bc4250972d63e5811306ca",
        "IPY_MODEL_1a7c39a100704be7b099e3eeadf63912",
        "IPY_MODEL_cb5fa59f20ec4ee0a870aba71fd6a7f5"
       ],
       "layout": "IPY_MODEL_2727599a66cc46f29caa7bd3079652d5"
      }
     },
     "43f046411b6d4681b5d6e01ad11c159d": {
      "model_module": "@jupyter-widgets/controls",
      "model_module_version": "1.5.0",
      "model_name": "FloatProgressModel",
      "state": {
       "_dom_classes": [],
       "_model_module": "@jupyter-widgets/controls",
       "_model_module_version": "1.5.0",
       "_model_name": "FloatProgressModel",
       "_view_count": null,
       "_view_module": "@jupyter-widgets/controls",
       "_view_module_version": "1.5.0",
       "_view_name": "ProgressView",
       "bar_style": "success",
       "description": "",
       "description_tooltip": null,
       "layout": "IPY_MODEL_e49b1adfc8c54ad7b07d737d3cd767c1",
       "max": 1843427.0,
       "min": 0.0,
       "orientation": "horizontal",
       "style": "IPY_MODEL_3be6ea2fa887465d9a3697c08c3eb6d5",
       "value": 1843427.0
      }
     },
     "461b1b6f5e9d4e73a3399dc706a458da": {
      "model_module": "@jupyter-widgets/controls",
      "model_module_version": "1.5.0",
      "model_name": "ProgressStyleModel",
      "state": {
       "_model_module": "@jupyter-widgets/controls",
       "_model_module_version": "1.5.0",
       "_model_name": "ProgressStyleModel",
       "_view_count": null,
       "_view_module": "@jupyter-widgets/base",
       "_view_module_version": "1.2.0",
       "_view_name": "StyleView",
       "bar_color": null,
       "description_width": ""
      }
     },
     "46af4785b20548bf8825d8d837f84148": {
      "model_module": "@jupyter-widgets/controls",
      "model_module_version": "1.5.0",
      "model_name": "HTMLModel",
      "state": {
       "_dom_classes": [],
       "_model_module": "@jupyter-widgets/controls",
       "_model_module_version": "1.5.0",
       "_model_name": "HTMLModel",
       "_view_count": null,
       "_view_module": "@jupyter-widgets/controls",
       "_view_module_version": "1.5.0",
       "_view_name": "HTMLView",
       "description": "",
       "description_tooltip": null,
       "layout": "IPY_MODEL_65ed5286ba194c5c809e25076d69684e",
       "placeholder": "​",
       "style": "IPY_MODEL_4cac2a8959f64f45ae1a23f7ca7bb321",
       "value": " 749/749 [00:00&lt;00:00, 57.5kB/s]"
      }
     },
     "493de45e8f71485490946fa4018dcf41": {
      "model_module": "@jupyter-widgets/base",
      "model_module_version": "1.2.0",
      "model_name": "LayoutModel",
      "state": {
       "_model_module": "@jupyter-widgets/base",
       "_model_module_version": "1.2.0",
       "_model_name": "LayoutModel",
       "_view_count": null,
       "_view_module": "@jupyter-widgets/base",
       "_view_module_version": "1.2.0",
       "_view_name": "LayoutView",
       "align_content": null,
       "align_items": null,
       "align_self": null,
       "border": null,
       "bottom": null,
       "display": null,
       "flex": null,
       "flex_flow": null,
       "grid_area": null,
       "grid_auto_columns": null,
       "grid_auto_flow": null,
       "grid_auto_rows": null,
       "grid_column": null,
       "grid_gap": null,
       "grid_row": null,
       "grid_template_areas": null,
       "grid_template_columns": null,
       "grid_template_rows": null,
       "height": null,
       "justify_content": null,
       "justify_items": null,
       "left": null,
       "margin": null,
       "max_height": null,
       "max_width": null,
       "min_height": null,
       "min_width": null,
       "object_fit": null,
       "object_position": null,
       "order": null,
       "overflow": null,
       "overflow_x": null,
       "overflow_y": null,
       "padding": null,
       "right": null,
       "top": null,
       "visibility": null,
       "width": null
      }
     },
     "49d975295e50480eae1e511b67388645": {
      "model_module": "@jupyter-widgets/controls",
      "model_module_version": "1.5.0",
      "model_name": "HTMLModel",
      "state": {
       "_dom_classes": [],
       "_model_module": "@jupyter-widgets/controls",
       "_model_module_version": "1.5.0",
       "_model_name": "HTMLModel",
       "_view_count": null,
       "_view_module": "@jupyter-widgets/controls",
       "_view_module_version": "1.5.0",
       "_view_name": "HTMLView",
       "description": "",
       "description_tooltip": null,
       "layout": "IPY_MODEL_7c88fa6d2c6e40b8aaf1c6d6fe901847",
       "placeholder": "​",
       "style": "IPY_MODEL_4bd4f90dbff04f3c81608fa5fdef501b",
       "value": "Downloading (…)okenizer_config.json: 100%"
      }
     },
     "4b499ddc37804575a847da67ded40215": {
      "model_module": "@jupyter-widgets/controls",
      "model_module_version": "1.5.0",
      "model_name": "HTMLModel",
      "state": {
       "_dom_classes": [],
       "_model_module": "@jupyter-widgets/controls",
       "_model_module_version": "1.5.0",
       "_model_name": "HTMLModel",
       "_view_count": null,
       "_view_module": "@jupyter-widgets/controls",
       "_view_module_version": "1.5.0",
       "_view_name": "HTMLView",
       "description": "",
       "description_tooltip": null,
       "layout": "IPY_MODEL_2728fe34c66a414b9acbae889db1c532",
       "placeholder": "​",
       "style": "IPY_MODEL_f18baebdc6e94c9aa0a316c9c89f55fe",
       "value": " 646/646 [00:00&lt;00:00, 54.7kB/s]"
      }
     },
     "4bd4f90dbff04f3c81608fa5fdef501b": {
      "model_module": "@jupyter-widgets/controls",
      "model_module_version": "1.5.0",
      "model_name": "DescriptionStyleModel",
      "state": {
       "_model_module": "@jupyter-widgets/controls",
       "_model_module_version": "1.5.0",
       "_model_name": "DescriptionStyleModel",
       "_view_count": null,
       "_view_module": "@jupyter-widgets/base",
       "_view_module_version": "1.2.0",
       "_view_name": "StyleView",
       "description_width": ""
      }
     },
     "4cac2a8959f64f45ae1a23f7ca7bb321": {
      "model_module": "@jupyter-widgets/controls",
      "model_module_version": "1.5.0",
      "model_name": "DescriptionStyleModel",
      "state": {
       "_model_module": "@jupyter-widgets/controls",
       "_model_module_version": "1.5.0",
       "_model_name": "DescriptionStyleModel",
       "_view_count": null,
       "_view_module": "@jupyter-widgets/base",
       "_view_module_version": "1.2.0",
       "_view_name": "StyleView",
       "description_width": ""
      }
     },
     "4dc37942dff9425d9d4352cfe97b4255": {
      "model_module": "@jupyter-widgets/controls",
      "model_module_version": "1.5.0",
      "model_name": "HTMLModel",
      "state": {
       "_dom_classes": [],
       "_model_module": "@jupyter-widgets/controls",
       "_model_module_version": "1.5.0",
       "_model_name": "HTMLModel",
       "_view_count": null,
       "_view_module": "@jupyter-widgets/controls",
       "_view_module_version": "1.5.0",
       "_view_name": "HTMLView",
       "description": "",
       "description_tooltip": null,
       "layout": "IPY_MODEL_c532fb3e469b4870954281eb5baaf08a",
       "placeholder": "​",
       "style": "IPY_MODEL_6e2ec0b8eae34ac6be08a79668f2e50d",
       "value": "Downloading (…)fetensors.index.json: 100%"
      }
     },
     "4e2b6731b8a94506a3a609b0866efae2": {
      "model_module": "@jupyter-widgets/controls",
      "model_module_version": "1.5.0",
      "model_name": "DescriptionStyleModel",
      "state": {
       "_model_module": "@jupyter-widgets/controls",
       "_model_module_version": "1.5.0",
       "_model_name": "DescriptionStyleModel",
       "_view_count": null,
       "_view_module": "@jupyter-widgets/base",
       "_view_module_version": "1.2.0",
       "_view_name": "StyleView",
       "description_width": ""
      }
     },
     "4ee3e2cc53d9493dabbc4b2c8c0c64cf": {
      "model_module": "@jupyter-widgets/controls",
      "model_module_version": "1.5.0",
      "model_name": "HTMLModel",
      "state": {
       "_dom_classes": [],
       "_model_module": "@jupyter-widgets/controls",
       "_model_module_version": "1.5.0",
       "_model_name": "HTMLModel",
       "_view_count": null,
       "_view_module": "@jupyter-widgets/controls",
       "_view_module_version": "1.5.0",
       "_view_name": "HTMLView",
       "description": "",
       "description_tooltip": null,
       "layout": "IPY_MODEL_e6301c99a4b243b7a1e14ce48a35555b",
       "placeholder": "​",
       "style": "IPY_MODEL_419da249787e4377b3e7997bd499829c",
       "value": "Downloading (…)of-00002.safetensors: 100%"
      }
     },
     "5342b83cd77e4d58a3f75de241771578": {
      "model_module": "@jupyter-widgets/controls",
      "model_module_version": "1.5.0",
      "model_name": "HBoxModel",
      "state": {
       "_dom_classes": [],
       "_model_module": "@jupyter-widgets/controls",
       "_model_module_version": "1.5.0",
       "_model_name": "HBoxModel",
       "_view_count": null,
       "_view_module": "@jupyter-widgets/controls",
       "_view_module_version": "1.5.0",
       "_view_name": "HBoxView",
       "box_style": "",
       "children": [
        "IPY_MODEL_49d975295e50480eae1e511b67388645",
        "IPY_MODEL_97af91fde73642a0a85bf79319008adf",
        "IPY_MODEL_46af4785b20548bf8825d8d837f84148"
       ],
       "layout": "IPY_MODEL_d65fe98356074b68829fcfe34955a2b5"
      }
     },
     "53de5aaf24904f809cae5d8249a4b23b": {
      "model_module": "@jupyter-widgets/base",
      "model_module_version": "1.2.0",
      "model_name": "LayoutModel",
      "state": {
       "_model_module": "@jupyter-widgets/base",
       "_model_module_version": "1.2.0",
       "_model_name": "LayoutModel",
       "_view_count": null,
       "_view_module": "@jupyter-widgets/base",
       "_view_module_version": "1.2.0",
       "_view_name": "LayoutView",
       "align_content": null,
       "align_items": null,
       "align_self": null,
       "border": null,
       "bottom": null,
       "display": null,
       "flex": null,
       "flex_flow": null,
       "grid_area": null,
       "grid_auto_columns": null,
       "grid_auto_flow": null,
       "grid_auto_rows": null,
       "grid_column": null,
       "grid_gap": null,
       "grid_row": null,
       "grid_template_areas": null,
       "grid_template_columns": null,
       "grid_template_rows": null,
       "height": null,
       "justify_content": null,
       "justify_items": null,
       "left": null,
       "margin": null,
       "max_height": null,
       "max_width": null,
       "min_height": null,
       "min_width": null,
       "object_fit": null,
       "object_position": null,
       "order": null,
       "overflow": null,
       "overflow_x": null,
       "overflow_y": null,
       "padding": null,
       "right": null,
       "top": null,
       "visibility": null,
       "width": null
      }
     },
     "546a2723e37049278d6b6b47e69e5de2": {
      "model_module": "@jupyter-widgets/controls",
      "model_module_version": "1.5.0",
      "model_name": "HTMLModel",
      "state": {
       "_dom_classes": [],
       "_model_module": "@jupyter-widgets/controls",
       "_model_module_version": "1.5.0",
       "_model_name": "HTMLModel",
       "_view_count": null,
       "_view_module": "@jupyter-widgets/controls",
       "_view_module_version": "1.5.0",
       "_view_name": "HTMLView",
       "description": "",
       "description_tooltip": null,
       "layout": "IPY_MODEL_d43d6833b6994b48805bcbd523499997",
       "placeholder": "​",
       "style": "IPY_MODEL_a968e4d6ecd44a158ce64521787350e3",
       "value": "Loading checkpoint shards: 100%"
      }
     },
     "54d587af85d64842be2592778ea35c6c": {
      "model_module": "@jupyter-widgets/base",
      "model_module_version": "1.2.0",
      "model_name": "LayoutModel",
      "state": {
       "_model_module": "@jupyter-widgets/base",
       "_model_module_version": "1.2.0",
       "_model_name": "LayoutModel",
       "_view_count": null,
       "_view_module": "@jupyter-widgets/base",
       "_view_module_version": "1.2.0",
       "_view_name": "LayoutView",
       "align_content": null,
       "align_items": null,
       "align_self": null,
       "border": null,
       "bottom": null,
       "display": null,
       "flex": null,
       "flex_flow": null,
       "grid_area": null,
       "grid_auto_columns": null,
       "grid_auto_flow": null,
       "grid_auto_rows": null,
       "grid_column": null,
       "grid_gap": null,
       "grid_row": null,
       "grid_template_areas": null,
       "grid_template_columns": null,
       "grid_template_rows": null,
       "height": null,
       "justify_content": null,
       "justify_items": null,
       "left": null,
       "margin": null,
       "max_height": null,
       "max_width": null,
       "min_height": null,
       "min_width": null,
       "object_fit": null,
       "object_position": null,
       "order": null,
       "overflow": null,
       "overflow_x": null,
       "overflow_y": null,
       "padding": null,
       "right": null,
       "top": null,
       "visibility": null,
       "width": null
      }
     },
     "587d8e5f19c44180b9458d736f7be159": {
      "model_module": "@jupyter-widgets/base",
      "model_module_version": "1.2.0",
      "model_name": "LayoutModel",
      "state": {
       "_model_module": "@jupyter-widgets/base",
       "_model_module_version": "1.2.0",
       "_model_name": "LayoutModel",
       "_view_count": null,
       "_view_module": "@jupyter-widgets/base",
       "_view_module_version": "1.2.0",
       "_view_name": "LayoutView",
       "align_content": null,
       "align_items": null,
       "align_self": null,
       "border": null,
       "bottom": null,
       "display": null,
       "flex": null,
       "flex_flow": null,
       "grid_area": null,
       "grid_auto_columns": null,
       "grid_auto_flow": null,
       "grid_auto_rows": null,
       "grid_column": null,
       "grid_gap": null,
       "grid_row": null,
       "grid_template_areas": null,
       "grid_template_columns": null,
       "grid_template_rows": null,
       "height": null,
       "justify_content": null,
       "justify_items": null,
       "left": null,
       "margin": null,
       "max_height": null,
       "max_width": null,
       "min_height": null,
       "min_width": null,
       "object_fit": null,
       "object_position": null,
       "order": null,
       "overflow": null,
       "overflow_x": null,
       "overflow_y": null,
       "padding": null,
       "right": null,
       "top": null,
       "visibility": null,
       "width": null
      }
     },
     "5893eab7a35d433f973571a10b1c053a": {
      "model_module": "@jupyter-widgets/base",
      "model_module_version": "1.2.0",
      "model_name": "LayoutModel",
      "state": {
       "_model_module": "@jupyter-widgets/base",
       "_model_module_version": "1.2.0",
       "_model_name": "LayoutModel",
       "_view_count": null,
       "_view_module": "@jupyter-widgets/base",
       "_view_module_version": "1.2.0",
       "_view_name": "LayoutView",
       "align_content": null,
       "align_items": null,
       "align_self": null,
       "border": null,
       "bottom": null,
       "display": null,
       "flex": null,
       "flex_flow": null,
       "grid_area": null,
       "grid_auto_columns": null,
       "grid_auto_flow": null,
       "grid_auto_rows": null,
       "grid_column": null,
       "grid_gap": null,
       "grid_row": null,
       "grid_template_areas": null,
       "grid_template_columns": null,
       "grid_template_rows": null,
       "height": null,
       "justify_content": null,
       "justify_items": null,
       "left": null,
       "margin": null,
       "max_height": null,
       "max_width": null,
       "min_height": null,
       "min_width": null,
       "object_fit": null,
       "object_position": null,
       "order": null,
       "overflow": null,
       "overflow_x": null,
       "overflow_y": null,
       "padding": null,
       "right": null,
       "top": null,
       "visibility": null,
       "width": null
      }
     },
     "5b3d40a1ecdf436db8e7dd1f85682133": {
      "model_module": "@jupyter-widgets/controls",
      "model_module_version": "1.5.0",
      "model_name": "HTMLModel",
      "state": {
       "_dom_classes": [],
       "_model_module": "@jupyter-widgets/controls",
       "_model_module_version": "1.5.0",
       "_model_name": "HTMLModel",
       "_view_count": null,
       "_view_module": "@jupyter-widgets/controls",
       "_view_module_version": "1.5.0",
       "_view_name": "HTMLView",
       "description": "",
       "description_tooltip": null,
       "layout": "IPY_MODEL_7d81bd9f0d214bf8abda59706604c6a5",
       "placeholder": "​",
       "style": "IPY_MODEL_dcc49ab24a594bf9b21c531b61b1f0b0",
       "value": " 2/2 [01:02&lt;00:00, 28.83s/it]"
      }
     },
     "5dbc0e293fef41acb947ae76b301c815": {
      "model_module": "@jupyter-widgets/controls",
      "model_module_version": "1.5.0",
      "model_name": "HTMLModel",
      "state": {
       "_dom_classes": [],
       "_model_module": "@jupyter-widgets/controls",
       "_model_module_version": "1.5.0",
       "_model_name": "HTMLModel",
       "_view_count": null,
       "_view_module": "@jupyter-widgets/controls",
       "_view_module_version": "1.5.0",
       "_view_name": "HTMLView",
       "description": "",
       "description_tooltip": null,
       "layout": "IPY_MODEL_493de45e8f71485490946fa4018dcf41",
       "placeholder": "​",
       "style": "IPY_MODEL_fcb93a994a87486ca59e929c0e28c5c8",
       "value": "Downloading (…)lve/main/config.json: 100%"
      }
     },
     "6005b38443784ca4a889e53875766b73": {
      "model_module": "@jupyter-widgets/controls",
      "model_module_version": "1.5.0",
      "model_name": "FloatProgressModel",
      "state": {
       "_dom_classes": [],
       "_model_module": "@jupyter-widgets/controls",
       "_model_module_version": "1.5.0",
       "_model_name": "FloatProgressModel",
       "_view_count": null,
       "_view_module": "@jupyter-widgets/controls",
       "_view_module_version": "1.5.0",
       "_view_name": "ProgressView",
       "bar_style": "success",
       "description": "",
       "description_tooltip": null,
       "layout": "IPY_MODEL_2bbeb7e67e9b4300b789039c257e40ff",
       "max": 25125.0,
       "min": 0.0,
       "orientation": "horizontal",
       "style": "IPY_MODEL_9cc7a5236dac48eabfb66e82755637be",
       "value": 25125.0
      }
     },
     "60bf4a02527848b7acfeb68346729750": {
      "model_module": "@jupyter-widgets/controls",
      "model_module_version": "1.5.0",
      "model_name": "HTMLModel",
      "state": {
       "_dom_classes": [],
       "_model_module": "@jupyter-widgets/controls",
       "_model_module_version": "1.5.0",
       "_model_name": "HTMLModel",
       "_view_count": null,
       "_view_module": "@jupyter-widgets/controls",
       "_view_module_version": "1.5.0",
       "_view_name": "HTMLView",
       "description": "",
       "description_tooltip": null,
       "layout": "IPY_MODEL_c429718b0a5e47a09ec605a1e4d06203",
       "placeholder": "​",
       "style": "IPY_MODEL_26e2dec3c5eb4720b7b66b882d7620d0",
       "value": " 300/300 [00:01&lt;00:00, 137.82it/s]"
      }
     },
     "62920d0b40d842dc93ae89f29f6007a2": {
      "model_module": "@jupyter-widgets/base",
      "model_module_version": "1.2.0",
      "model_name": "LayoutModel",
      "state": {
       "_model_module": "@jupyter-widgets/base",
       "_model_module_version": "1.2.0",
       "_model_name": "LayoutModel",
       "_view_count": null,
       "_view_module": "@jupyter-widgets/base",
       "_view_module_version": "1.2.0",
       "_view_name": "LayoutView",
       "align_content": null,
       "align_items": null,
       "align_self": null,
       "border": null,
       "bottom": null,
       "display": null,
       "flex": null,
       "flex_flow": null,
       "grid_area": null,
       "grid_auto_columns": null,
       "grid_auto_flow": null,
       "grid_auto_rows": null,
       "grid_column": null,
       "grid_gap": null,
       "grid_row": null,
       "grid_template_areas": null,
       "grid_template_columns": null,
       "grid_template_rows": null,
       "height": null,
       "justify_content": null,
       "justify_items": null,
       "left": null,
       "margin": null,
       "max_height": null,
       "max_width": null,
       "min_height": null,
       "min_width": null,
       "object_fit": null,
       "object_position": null,
       "order": null,
       "overflow": null,
       "overflow_x": null,
       "overflow_y": null,
       "padding": null,
       "right": null,
       "top": null,
       "visibility": null,
       "width": null
      }
     },
     "65ed5286ba194c5c809e25076d69684e": {
      "model_module": "@jupyter-widgets/base",
      "model_module_version": "1.2.0",
      "model_name": "LayoutModel",
      "state": {
       "_model_module": "@jupyter-widgets/base",
       "_model_module_version": "1.2.0",
       "_model_name": "LayoutModel",
       "_view_count": null,
       "_view_module": "@jupyter-widgets/base",
       "_view_module_version": "1.2.0",
       "_view_name": "LayoutView",
       "align_content": null,
       "align_items": null,
       "align_self": null,
       "border": null,
       "bottom": null,
       "display": null,
       "flex": null,
       "flex_flow": null,
       "grid_area": null,
       "grid_auto_columns": null,
       "grid_auto_flow": null,
       "grid_auto_rows": null,
       "grid_column": null,
       "grid_gap": null,
       "grid_row": null,
       "grid_template_areas": null,
       "grid_template_columns": null,
       "grid_template_rows": null,
       "height": null,
       "justify_content": null,
       "justify_items": null,
       "left": null,
       "margin": null,
       "max_height": null,
       "max_width": null,
       "min_height": null,
       "min_width": null,
       "object_fit": null,
       "object_position": null,
       "order": null,
       "overflow": null,
       "overflow_x": null,
       "overflow_y": null,
       "padding": null,
       "right": null,
       "top": null,
       "visibility": null,
       "width": null
      }
     },
     "684ed1440d5846c0bbb6286a79d4f446": {
      "model_module": "@jupyter-widgets/base",
      "model_module_version": "1.2.0",
      "model_name": "LayoutModel",
      "state": {
       "_model_module": "@jupyter-widgets/base",
       "_model_module_version": "1.2.0",
       "_model_name": "LayoutModel",
       "_view_count": null,
       "_view_module": "@jupyter-widgets/base",
       "_view_module_version": "1.2.0",
       "_view_name": "LayoutView",
       "align_content": null,
       "align_items": null,
       "align_self": null,
       "border": null,
       "bottom": null,
       "display": null,
       "flex": null,
       "flex_flow": null,
       "grid_area": null,
       "grid_auto_columns": null,
       "grid_auto_flow": null,
       "grid_auto_rows": null,
       "grid_column": null,
       "grid_gap": null,
       "grid_row": null,
       "grid_template_areas": null,
       "grid_template_columns": null,
       "grid_template_rows": null,
       "height": null,
       "justify_content": null,
       "justify_items": null,
       "left": null,
       "margin": null,
       "max_height": null,
       "max_width": null,
       "min_height": null,
       "min_width": null,
       "object_fit": null,
       "object_position": null,
       "order": null,
       "overflow": null,
       "overflow_x": null,
       "overflow_y": null,
       "padding": null,
       "right": null,
       "top": null,
       "visibility": null,
       "width": null
      }
     },
     "6852f8d659b1433ea993b54176369ddd": {
      "model_module": "@jupyter-widgets/controls",
      "model_module_version": "1.5.0",
      "model_name": "HTMLModel",
      "state": {
       "_dom_classes": [],
       "_model_module": "@jupyter-widgets/controls",
       "_model_module_version": "1.5.0",
       "_model_name": "HTMLModel",
       "_view_count": null,
       "_view_module": "@jupyter-widgets/controls",
       "_view_module_version": "1.5.0",
       "_view_name": "HTMLView",
       "description": "",
       "description_tooltip": null,
       "layout": "IPY_MODEL_39f2907a15354ddd9ee41ae95377fd93",
       "placeholder": "​",
       "style": "IPY_MODEL_b74d5e2db93e4b218fd6b02cce744291",
       "value": " 116/116 [00:00&lt;00:00, 8.48kB/s]"
      }
     },
     "6b63f185bf68402ca08b5d6cb8a4d37e": {
      "model_module": "@jupyter-widgets/base",
      "model_module_version": "1.2.0",
      "model_name": "LayoutModel",
      "state": {
       "_model_module": "@jupyter-widgets/base",
       "_model_module_version": "1.2.0",
       "_model_name": "LayoutModel",
       "_view_count": null,
       "_view_module": "@jupyter-widgets/base",
       "_view_module_version": "1.2.0",
       "_view_name": "LayoutView",
       "align_content": null,
       "align_items": null,
       "align_self": null,
       "border": null,
       "bottom": null,
       "display": null,
       "flex": null,
       "flex_flow": null,
       "grid_area": null,
       "grid_auto_columns": null,
       "grid_auto_flow": null,
       "grid_auto_rows": null,
       "grid_column": null,
       "grid_gap": null,
       "grid_row": null,
       "grid_template_areas": null,
       "grid_template_columns": null,
       "grid_template_rows": null,
       "height": null,
       "justify_content": null,
       "justify_items": null,
       "left": null,
       "margin": null,
       "max_height": null,
       "max_width": null,
       "min_height": null,
       "min_width": null,
       "object_fit": null,
       "object_position": null,
       "order": null,
       "overflow": null,
       "overflow_x": null,
       "overflow_y": null,
       "padding": null,
       "right": null,
       "top": null,
       "visibility": null,
       "width": null
      }
     },
     "6dc049ea8a3f4ae58a514caca83bb503": {
      "model_module": "@jupyter-widgets/base",
      "model_module_version": "1.2.0",
      "model_name": "LayoutModel",
      "state": {
       "_model_module": "@jupyter-widgets/base",
       "_model_module_version": "1.2.0",
       "_model_name": "LayoutModel",
       "_view_count": null,
       "_view_module": "@jupyter-widgets/base",
       "_view_module_version": "1.2.0",
       "_view_name": "LayoutView",
       "align_content": null,
       "align_items": null,
       "align_self": null,
       "border": null,
       "bottom": null,
       "display": null,
       "flex": null,
       "flex_flow": null,
       "grid_area": null,
       "grid_auto_columns": null,
       "grid_auto_flow": null,
       "grid_auto_rows": null,
       "grid_column": null,
       "grid_gap": null,
       "grid_row": null,
       "grid_template_areas": null,
       "grid_template_columns": null,
       "grid_template_rows": null,
       "height": null,
       "justify_content": null,
       "justify_items": null,
       "left": null,
       "margin": null,
       "max_height": null,
       "max_width": null,
       "min_height": null,
       "min_width": null,
       "object_fit": null,
       "object_position": null,
       "order": null,
       "overflow": null,
       "overflow_x": null,
       "overflow_y": null,
       "padding": null,
       "right": null,
       "top": null,
       "visibility": null,
       "width": null
      }
     },
     "6e2ec0b8eae34ac6be08a79668f2e50d": {
      "model_module": "@jupyter-widgets/controls",
      "model_module_version": "1.5.0",
      "model_name": "DescriptionStyleModel",
      "state": {
       "_model_module": "@jupyter-widgets/controls",
       "_model_module_version": "1.5.0",
       "_model_name": "DescriptionStyleModel",
       "_view_count": null,
       "_view_module": "@jupyter-widgets/base",
       "_view_module_version": "1.2.0",
       "_view_name": "StyleView",
       "description_width": ""
      }
     },
     "75757bf2936045bdbd25e19d6e221a03": {
      "model_module": "@jupyter-widgets/controls",
      "model_module_version": "1.5.0",
      "model_name": "HBoxModel",
      "state": {
       "_dom_classes": [],
       "_model_module": "@jupyter-widgets/controls",
       "_model_module_version": "1.5.0",
       "_model_name": "HBoxModel",
       "_view_count": null,
       "_view_module": "@jupyter-widgets/controls",
       "_view_module_version": "1.5.0",
       "_view_name": "HBoxView",
       "box_style": "",
       "children": [
        "IPY_MODEL_05c19954c0d64307862d671ed86918ef",
        "IPY_MODEL_43f046411b6d4681b5d6e01ad11c159d",
        "IPY_MODEL_16c350be70e7456fa58e6dc319bc005f"
       ],
       "layout": "IPY_MODEL_8477f6f62e5d44b8b3cf7f43c53cb55b"
      }
     },
     "7622c3e3d53f49f4966bb0f64cc5031b": {
      "model_module": "@jupyter-widgets/controls",
      "model_module_version": "1.5.0",
      "model_name": "DescriptionStyleModel",
      "state": {
       "_model_module": "@jupyter-widgets/controls",
       "_model_module_version": "1.5.0",
       "_model_name": "DescriptionStyleModel",
       "_view_count": null,
       "_view_module": "@jupyter-widgets/base",
       "_view_module_version": "1.2.0",
       "_view_name": "StyleView",
       "description_width": ""
      }
     },
     "7709ff15ca6042e68f7f5d04dafab9b4": {
      "model_module": "@jupyter-widgets/controls",
      "model_module_version": "1.5.0",
      "model_name": "HBoxModel",
      "state": {
       "_dom_classes": [],
       "_model_module": "@jupyter-widgets/controls",
       "_model_module_version": "1.5.0",
       "_model_name": "HBoxModel",
       "_view_count": null,
       "_view_module": "@jupyter-widgets/controls",
       "_view_module_version": "1.5.0",
       "_view_name": "HBoxView",
       "box_style": "",
       "children": [
        "IPY_MODEL_5dbc0e293fef41acb947ae76b301c815",
        "IPY_MODEL_eeaacc5038d04fdc972c208653c2ca79",
        "IPY_MODEL_4b499ddc37804575a847da67ded40215"
       ],
       "layout": "IPY_MODEL_a6bc774e08d74708ba82039606b5ff51"
      }
     },
     "7b448cf586a04f03882cef249425575f": {
      "model_module": "@jupyter-widgets/controls",
      "model_module_version": "1.5.0",
      "model_name": "ProgressStyleModel",
      "state": {
       "_model_module": "@jupyter-widgets/controls",
       "_model_module_version": "1.5.0",
       "_model_name": "ProgressStyleModel",
       "_view_count": null,
       "_view_module": "@jupyter-widgets/base",
       "_view_module_version": "1.2.0",
       "_view_name": "StyleView",
       "bar_color": null,
       "description_width": ""
      }
     },
     "7c88fa6d2c6e40b8aaf1c6d6fe901847": {
      "model_module": "@jupyter-widgets/base",
      "model_module_version": "1.2.0",
      "model_name": "LayoutModel",
      "state": {
       "_model_module": "@jupyter-widgets/base",
       "_model_module_version": "1.2.0",
       "_model_name": "LayoutModel",
       "_view_count": null,
       "_view_module": "@jupyter-widgets/base",
       "_view_module_version": "1.2.0",
       "_view_name": "LayoutView",
       "align_content": null,
       "align_items": null,
       "align_self": null,
       "border": null,
       "bottom": null,
       "display": null,
       "flex": null,
       "flex_flow": null,
       "grid_area": null,
       "grid_auto_columns": null,
       "grid_auto_flow": null,
       "grid_auto_rows": null,
       "grid_column": null,
       "grid_gap": null,
       "grid_row": null,
       "grid_template_areas": null,
       "grid_template_columns": null,
       "grid_template_rows": null,
       "height": null,
       "justify_content": null,
       "justify_items": null,
       "left": null,
       "margin": null,
       "max_height": null,
       "max_width": null,
       "min_height": null,
       "min_width": null,
       "object_fit": null,
       "object_position": null,
       "order": null,
       "overflow": null,
       "overflow_x": null,
       "overflow_y": null,
       "padding": null,
       "right": null,
       "top": null,
       "visibility": null,
       "width": null
      }
     },
     "7d81bd9f0d214bf8abda59706604c6a5": {
      "model_module": "@jupyter-widgets/base",
      "model_module_version": "1.2.0",
      "model_name": "LayoutModel",
      "state": {
       "_model_module": "@jupyter-widgets/base",
       "_model_module_version": "1.2.0",
       "_model_name": "LayoutModel",
       "_view_count": null,
       "_view_module": "@jupyter-widgets/base",
       "_view_module_version": "1.2.0",
       "_view_name": "LayoutView",
       "align_content": null,
       "align_items": null,
       "align_self": null,
       "border": null,
       "bottom": null,
       "display": null,
       "flex": null,
       "flex_flow": null,
       "grid_area": null,
       "grid_auto_columns": null,
       "grid_auto_flow": null,
       "grid_auto_rows": null,
       "grid_column": null,
       "grid_gap": null,
       "grid_row": null,
       "grid_template_areas": null,
       "grid_template_columns": null,
       "grid_template_rows": null,
       "height": null,
       "justify_content": null,
       "justify_items": null,
       "left": null,
       "margin": null,
       "max_height": null,
       "max_width": null,
       "min_height": null,
       "min_width": null,
       "object_fit": null,
       "object_position": null,
       "order": null,
       "overflow": null,
       "overflow_x": null,
       "overflow_y": null,
       "padding": null,
       "right": null,
       "top": null,
       "visibility": null,
       "width": null
      }
     },
     "8477f6f62e5d44b8b3cf7f43c53cb55b": {
      "model_module": "@jupyter-widgets/base",
      "model_module_version": "1.2.0",
      "model_name": "LayoutModel",
      "state": {
       "_model_module": "@jupyter-widgets/base",
       "_model_module_version": "1.2.0",
       "_model_name": "LayoutModel",
       "_view_count": null,
       "_view_module": "@jupyter-widgets/base",
       "_view_module_version": "1.2.0",
       "_view_name": "LayoutView",
       "align_content": null,
       "align_items": null,
       "align_self": null,
       "border": null,
       "bottom": null,
       "display": null,
       "flex": null,
       "flex_flow": null,
       "grid_area": null,
       "grid_auto_columns": null,
       "grid_auto_flow": null,
       "grid_auto_rows": null,
       "grid_column": null,
       "grid_gap": null,
       "grid_row": null,
       "grid_template_areas": null,
       "grid_template_columns": null,
       "grid_template_rows": null,
       "height": null,
       "justify_content": null,
       "justify_items": null,
       "left": null,
       "margin": null,
       "max_height": null,
       "max_width": null,
       "min_height": null,
       "min_width": null,
       "object_fit": null,
       "object_position": null,
       "order": null,
       "overflow": null,
       "overflow_x": null,
       "overflow_y": null,
       "padding": null,
       "right": null,
       "top": null,
       "visibility": null,
       "width": null
      }
     },
     "8f2269ffe11c440797c3fab6f69d05e3": {
      "model_module": "@jupyter-widgets/base",
      "model_module_version": "1.2.0",
      "model_name": "LayoutModel",
      "state": {
       "_model_module": "@jupyter-widgets/base",
       "_model_module_version": "1.2.0",
       "_model_name": "LayoutModel",
       "_view_count": null,
       "_view_module": "@jupyter-widgets/base",
       "_view_module_version": "1.2.0",
       "_view_name": "LayoutView",
       "align_content": null,
       "align_items": null,
       "align_self": null,
       "border": null,
       "bottom": null,
       "display": null,
       "flex": null,
       "flex_flow": null,
       "grid_area": null,
       "grid_auto_columns": null,
       "grid_auto_flow": null,
       "grid_auto_rows": null,
       "grid_column": null,
       "grid_gap": null,
       "grid_row": null,
       "grid_template_areas": null,
       "grid_template_columns": null,
       "grid_template_rows": null,
       "height": null,
       "justify_content": null,
       "justify_items": null,
       "left": null,
       "margin": null,
       "max_height": null,
       "max_width": null,
       "min_height": null,
       "min_width": null,
       "object_fit": null,
       "object_position": null,
       "order": null,
       "overflow": null,
       "overflow_x": null,
       "overflow_y": null,
       "padding": null,
       "right": null,
       "top": null,
       "visibility": null,
       "width": null
      }
     },
     "90e795c6f14344018691e1fbb8430f54": {
      "model_module": "@jupyter-widgets/base",
      "model_module_version": "1.2.0",
      "model_name": "LayoutModel",
      "state": {
       "_model_module": "@jupyter-widgets/base",
       "_model_module_version": "1.2.0",
       "_model_name": "LayoutModel",
       "_view_count": null,
       "_view_module": "@jupyter-widgets/base",
       "_view_module_version": "1.2.0",
       "_view_name": "LayoutView",
       "align_content": null,
       "align_items": null,
       "align_self": null,
       "border": null,
       "bottom": null,
       "display": null,
       "flex": null,
       "flex_flow": null,
       "grid_area": null,
       "grid_auto_columns": null,
       "grid_auto_flow": null,
       "grid_auto_rows": null,
       "grid_column": null,
       "grid_gap": null,
       "grid_row": null,
       "grid_template_areas": null,
       "grid_template_columns": null,
       "grid_template_rows": null,
       "height": null,
       "justify_content": null,
       "justify_items": null,
       "left": null,
       "margin": null,
       "max_height": null,
       "max_width": null,
       "min_height": null,
       "min_width": null,
       "object_fit": null,
       "object_position": null,
       "order": null,
       "overflow": null,
       "overflow_x": null,
       "overflow_y": null,
       "padding": null,
       "right": null,
       "top": null,
       "visibility": null,
       "width": null
      }
     },
     "91c55bacaccd4123aa065e115a7e51ab": {
      "model_module": "@jupyter-widgets/base",
      "model_module_version": "1.2.0",
      "model_name": "LayoutModel",
      "state": {
       "_model_module": "@jupyter-widgets/base",
       "_model_module_version": "1.2.0",
       "_model_name": "LayoutModel",
       "_view_count": null,
       "_view_module": "@jupyter-widgets/base",
       "_view_module_version": "1.2.0",
       "_view_name": "LayoutView",
       "align_content": null,
       "align_items": null,
       "align_self": null,
       "border": null,
       "bottom": null,
       "display": null,
       "flex": null,
       "flex_flow": null,
       "grid_area": null,
       "grid_auto_columns": null,
       "grid_auto_flow": null,
       "grid_auto_rows": null,
       "grid_column": null,
       "grid_gap": null,
       "grid_row": null,
       "grid_template_areas": null,
       "grid_template_columns": null,
       "grid_template_rows": null,
       "height": null,
       "justify_content": null,
       "justify_items": null,
       "left": null,
       "margin": null,
       "max_height": null,
       "max_width": null,
       "min_height": null,
       "min_width": null,
       "object_fit": null,
       "object_position": null,
       "order": null,
       "overflow": null,
       "overflow_x": null,
       "overflow_y": null,
       "padding": null,
       "right": null,
       "top": null,
       "visibility": null,
       "width": null
      }
     },
     "97af91fde73642a0a85bf79319008adf": {
      "model_module": "@jupyter-widgets/controls",
      "model_module_version": "1.5.0",
      "model_name": "FloatProgressModel",
      "state": {
       "_dom_classes": [],
       "_model_module": "@jupyter-widgets/controls",
       "_model_module_version": "1.5.0",
       "_model_name": "FloatProgressModel",
       "_view_count": null,
       "_view_module": "@jupyter-widgets/controls",
       "_view_module_version": "1.5.0",
       "_view_name": "ProgressView",
       "bar_style": "success",
       "description": "",
       "description_tooltip": null,
       "layout": "IPY_MODEL_6b63f185bf68402ca08b5d6cb8a4d37e",
       "max": 749.0,
       "min": 0.0,
       "orientation": "horizontal",
       "style": "IPY_MODEL_7b448cf586a04f03882cef249425575f",
       "value": 749.0
      }
     },
     "990fd3761b314dc8b1a992bd8c20f07c": {
      "model_module": "@jupyter-widgets/controls",
      "model_module_version": "1.5.0",
      "model_name": "DescriptionStyleModel",
      "state": {
       "_model_module": "@jupyter-widgets/controls",
       "_model_module_version": "1.5.0",
       "_model_name": "DescriptionStyleModel",
       "_view_count": null,
       "_view_module": "@jupyter-widgets/base",
       "_view_module_version": "1.2.0",
       "_view_name": "StyleView",
       "description_width": ""
      }
     },
     "9b26cdb929d342dbb052e57ae2299498": {
      "model_module": "@jupyter-widgets/controls",
      "model_module_version": "1.5.0",
      "model_name": "HBoxModel",
      "state": {
       "_dom_classes": [],
       "_model_module": "@jupyter-widgets/controls",
       "_model_module_version": "1.5.0",
       "_model_name": "HBoxModel",
       "_view_count": null,
       "_view_module": "@jupyter-widgets/controls",
       "_view_module_version": "1.5.0",
       "_view_name": "HBoxView",
       "box_style": "",
       "children": [
        "IPY_MODEL_4dc37942dff9425d9d4352cfe97b4255",
        "IPY_MODEL_6005b38443784ca4a889e53875766b73",
        "IPY_MODEL_c81f8b0f92394a1caf62747f587f1a16"
       ],
       "layout": "IPY_MODEL_8f2269ffe11c440797c3fab6f69d05e3"
      }
     },
     "9cc7a5236dac48eabfb66e82755637be": {
      "model_module": "@jupyter-widgets/controls",
      "model_module_version": "1.5.0",
      "model_name": "ProgressStyleModel",
      "state": {
       "_model_module": "@jupyter-widgets/controls",
       "_model_module_version": "1.5.0",
       "_model_name": "ProgressStyleModel",
       "_view_count": null,
       "_view_module": "@jupyter-widgets/base",
       "_view_module_version": "1.2.0",
       "_view_name": "StyleView",
       "bar_color": null,
       "description_width": ""
      }
     },
     "a4b665b6f5db435896cdf050fbc239bf": {
      "model_module": "@jupyter-widgets/controls",
      "model_module_version": "1.5.0",
      "model_name": "ProgressStyleModel",
      "state": {
       "_model_module": "@jupyter-widgets/controls",
       "_model_module_version": "1.5.0",
       "_model_name": "ProgressStyleModel",
       "_view_count": null,
       "_view_module": "@jupyter-widgets/base",
       "_view_module_version": "1.2.0",
       "_view_name": "StyleView",
       "bar_color": null,
       "description_width": ""
      }
     },
     "a6bc774e08d74708ba82039606b5ff51": {
      "model_module": "@jupyter-widgets/base",
      "model_module_version": "1.2.0",
      "model_name": "LayoutModel",
      "state": {
       "_model_module": "@jupyter-widgets/base",
       "_model_module_version": "1.2.0",
       "_model_name": "LayoutModel",
       "_view_count": null,
       "_view_module": "@jupyter-widgets/base",
       "_view_module_version": "1.2.0",
       "_view_name": "LayoutView",
       "align_content": null,
       "align_items": null,
       "align_self": null,
       "border": null,
       "bottom": null,
       "display": null,
       "flex": null,
       "flex_flow": null,
       "grid_area": null,
       "grid_auto_columns": null,
       "grid_auto_flow": null,
       "grid_auto_rows": null,
       "grid_column": null,
       "grid_gap": null,
       "grid_row": null,
       "grid_template_areas": null,
       "grid_template_columns": null,
       "grid_template_rows": null,
       "height": null,
       "justify_content": null,
       "justify_items": null,
       "left": null,
       "margin": null,
       "max_height": null,
       "max_width": null,
       "min_height": null,
       "min_width": null,
       "object_fit": null,
       "object_position": null,
       "order": null,
       "overflow": null,
       "overflow_x": null,
       "overflow_y": null,
       "padding": null,
       "right": null,
       "top": null,
       "visibility": null,
       "width": null
      }
     },
     "a844d87ba9c1452b994aac0556599412": {
      "model_module": "@jupyter-widgets/base",
      "model_module_version": "1.2.0",
      "model_name": "LayoutModel",
      "state": {
       "_model_module": "@jupyter-widgets/base",
       "_model_module_version": "1.2.0",
       "_model_name": "LayoutModel",
       "_view_count": null,
       "_view_module": "@jupyter-widgets/base",
       "_view_module_version": "1.2.0",
       "_view_name": "LayoutView",
       "align_content": null,
       "align_items": null,
       "align_self": null,
       "border": null,
       "bottom": null,
       "display": null,
       "flex": null,
       "flex_flow": null,
       "grid_area": null,
       "grid_auto_columns": null,
       "grid_auto_flow": null,
       "grid_auto_rows": null,
       "grid_column": null,
       "grid_gap": null,
       "grid_row": null,
       "grid_template_areas": null,
       "grid_template_columns": null,
       "grid_template_rows": null,
       "height": null,
       "justify_content": null,
       "justify_items": null,
       "left": null,
       "margin": null,
       "max_height": null,
       "max_width": null,
       "min_height": null,
       "min_width": null,
       "object_fit": null,
       "object_position": null,
       "order": null,
       "overflow": null,
       "overflow_x": null,
       "overflow_y": null,
       "padding": null,
       "right": null,
       "top": null,
       "visibility": null,
       "width": null
      }
     },
     "a968e4d6ecd44a158ce64521787350e3": {
      "model_module": "@jupyter-widgets/controls",
      "model_module_version": "1.5.0",
      "model_name": "DescriptionStyleModel",
      "state": {
       "_model_module": "@jupyter-widgets/controls",
       "_model_module_version": "1.5.0",
       "_model_name": "DescriptionStyleModel",
       "_view_count": null,
       "_view_module": "@jupyter-widgets/base",
       "_view_module_version": "1.2.0",
       "_view_name": "StyleView",
       "description_width": ""
      }
     },
     "b01f38a51dbd43e9812b673b8a87062e": {
      "model_module": "@jupyter-widgets/controls",
      "model_module_version": "1.5.0",
      "model_name": "FloatProgressModel",
      "state": {
       "_dom_classes": [],
       "_model_module": "@jupyter-widgets/controls",
       "_model_module_version": "1.5.0",
       "_model_name": "FloatProgressModel",
       "_view_count": null,
       "_view_module": "@jupyter-widgets/controls",
       "_view_module_version": "1.5.0",
       "_view_name": "ProgressView",
       "bar_style": "success",
       "description": "",
       "description_tooltip": null,
       "layout": "IPY_MODEL_a844d87ba9c1452b994aac0556599412",
       "max": 9976701592.0,
       "min": 0.0,
       "orientation": "horizontal",
       "style": "IPY_MODEL_3af2120ec79c429b8682b3e85b0a8dbb",
       "value": 9976701592.0
      }
     },
     "b14995e9d4e6423e9dd09807a5c75563": {
      "model_module": "@jupyter-widgets/base",
      "model_module_version": "1.2.0",
      "model_name": "LayoutModel",
      "state": {
       "_model_module": "@jupyter-widgets/base",
       "_model_module_version": "1.2.0",
       "_model_name": "LayoutModel",
       "_view_count": null,
       "_view_module": "@jupyter-widgets/base",
       "_view_module_version": "1.2.0",
       "_view_name": "LayoutView",
       "align_content": null,
       "align_items": null,
       "align_self": null,
       "border": null,
       "bottom": null,
       "display": null,
       "flex": null,
       "flex_flow": null,
       "grid_area": null,
       "grid_auto_columns": null,
       "grid_auto_flow": null,
       "grid_auto_rows": null,
       "grid_column": null,
       "grid_gap": null,
       "grid_row": null,
       "grid_template_areas": null,
       "grid_template_columns": null,
       "grid_template_rows": null,
       "height": null,
       "justify_content": null,
       "justify_items": null,
       "left": null,
       "margin": null,
       "max_height": null,
       "max_width": null,
       "min_height": null,
       "min_width": null,
       "object_fit": null,
       "object_position": null,
       "order": null,
       "overflow": null,
       "overflow_x": null,
       "overflow_y": null,
       "padding": null,
       "right": null,
       "top": null,
       "visibility": null,
       "width": null
      }
     },
     "b27ea87d783e45c2a9c0667d7c43fcf8": {
      "model_module": "@jupyter-widgets/controls",
      "model_module_version": "1.5.0",
      "model_name": "DescriptionStyleModel",
      "state": {
       "_model_module": "@jupyter-widgets/controls",
       "_model_module_version": "1.5.0",
       "_model_name": "DescriptionStyleModel",
       "_view_count": null,
       "_view_module": "@jupyter-widgets/base",
       "_view_module_version": "1.2.0",
       "_view_name": "StyleView",
       "description_width": ""
      }
     },
     "b29533da87e446729aa3841eb9f94709": {
      "model_module": "@jupyter-widgets/controls",
      "model_module_version": "1.5.0",
      "model_name": "HBoxModel",
      "state": {
       "_dom_classes": [],
       "_model_module": "@jupyter-widgets/controls",
       "_model_module_version": "1.5.0",
       "_model_name": "HBoxModel",
       "_view_count": null,
       "_view_module": "@jupyter-widgets/controls",
       "_view_module_version": "1.5.0",
       "_view_name": "HBoxView",
       "box_style": "",
       "children": [
        "IPY_MODEL_546a2723e37049278d6b6b47e69e5de2",
        "IPY_MODEL_1e1fddb80e374ad79d8a8793660b6f1d",
        "IPY_MODEL_0ca14828ce244b7a9dd1e0601032259e"
       ],
       "layout": "IPY_MODEL_5893eab7a35d433f973571a10b1c053a"
      }
     },
     "b3d96714d2324fe0b4777dd200cceb4e": {
      "model_module": "@jupyter-widgets/controls",
      "model_module_version": "1.5.0",
      "model_name": "DescriptionStyleModel",
      "state": {
       "_model_module": "@jupyter-widgets/controls",
       "_model_module_version": "1.5.0",
       "_model_name": "DescriptionStyleModel",
       "_view_count": null,
       "_view_module": "@jupyter-widgets/base",
       "_view_module_version": "1.2.0",
       "_view_name": "StyleView",
       "description_width": ""
      }
     },
     "b703b430883140b182b78a36689537a3": {
      "model_module": "@jupyter-widgets/base",
      "model_module_version": "1.2.0",
      "model_name": "LayoutModel",
      "state": {
       "_model_module": "@jupyter-widgets/base",
       "_model_module_version": "1.2.0",
       "_model_name": "LayoutModel",
       "_view_count": null,
       "_view_module": "@jupyter-widgets/base",
       "_view_module_version": "1.2.0",
       "_view_name": "LayoutView",
       "align_content": null,
       "align_items": null,
       "align_self": null,
       "border": null,
       "bottom": null,
       "display": null,
       "flex": null,
       "flex_flow": null,
       "grid_area": null,
       "grid_auto_columns": null,
       "grid_auto_flow": null,
       "grid_auto_rows": null,
       "grid_column": null,
       "grid_gap": null,
       "grid_row": null,
       "grid_template_areas": null,
       "grid_template_columns": null,
       "grid_template_rows": null,
       "height": null,
       "justify_content": null,
       "justify_items": null,
       "left": null,
       "margin": null,
       "max_height": null,
       "max_width": null,
       "min_height": null,
       "min_width": null,
       "object_fit": null,
       "object_position": null,
       "order": null,
       "overflow": null,
       "overflow_x": null,
       "overflow_y": null,
       "padding": null,
       "right": null,
       "top": null,
       "visibility": null,
       "width": null
      }
     },
     "b74d5e2db93e4b218fd6b02cce744291": {
      "model_module": "@jupyter-widgets/controls",
      "model_module_version": "1.5.0",
      "model_name": "DescriptionStyleModel",
      "state": {
       "_model_module": "@jupyter-widgets/controls",
       "_model_module_version": "1.5.0",
       "_model_name": "DescriptionStyleModel",
       "_view_count": null,
       "_view_module": "@jupyter-widgets/base",
       "_view_module_version": "1.2.0",
       "_view_name": "StyleView",
       "description_width": ""
      }
     },
     "b86debab619e4737b513f5e262e53ab4": {
      "model_module": "@jupyter-widgets/controls",
      "model_module_version": "1.5.0",
      "model_name": "DescriptionStyleModel",
      "state": {
       "_model_module": "@jupyter-widgets/controls",
       "_model_module_version": "1.5.0",
       "_model_name": "DescriptionStyleModel",
       "_view_count": null,
       "_view_module": "@jupyter-widgets/base",
       "_view_module_version": "1.2.0",
       "_view_name": "StyleView",
       "description_width": ""
      }
     },
     "bb4b1e92159c4777968044197c18f9d1": {
      "model_module": "@jupyter-widgets/controls",
      "model_module_version": "1.5.0",
      "model_name": "HTMLModel",
      "state": {
       "_dom_classes": [],
       "_model_module": "@jupyter-widgets/controls",
       "_model_module_version": "1.5.0",
       "_model_name": "HTMLModel",
       "_view_count": null,
       "_view_module": "@jupyter-widgets/controls",
       "_view_module_version": "1.5.0",
       "_view_name": "HTMLView",
       "description": "",
       "description_tooltip": null,
       "layout": "IPY_MODEL_bf7c45b697584570aeea31ef58bdcd38",
       "placeholder": "​",
       "style": "IPY_MODEL_10cc01665d054a2e8dbc6ae1f56e8cc3",
       "value": "Downloading (…)of-00002.safetensors: 100%"
      }
     },
     "bbdc029f5c6146f296f6f19abb023cee": {
      "model_module": "@jupyter-widgets/controls",
      "model_module_version": "1.5.0",
      "model_name": "HBoxModel",
      "state": {
       "_dom_classes": [],
       "_model_module": "@jupyter-widgets/controls",
       "_model_module_version": "1.5.0",
       "_model_name": "HBoxModel",
       "_view_count": null,
       "_view_module": "@jupyter-widgets/controls",
       "_view_module_version": "1.5.0",
       "_view_name": "HBoxView",
       "box_style": "",
       "children": [
        "IPY_MODEL_0257412d449c487d9379ae8131dc6a3c",
        "IPY_MODEL_e8d1ff72f6c6428d82490461803bbd02",
        "IPY_MODEL_ffd797c7e82449758351a134e00af68e"
       ],
       "layout": "IPY_MODEL_d5a4a3639f564c26aa1e60504323f176"
      }
     },
     "bf4ebc478b6d4889beefc1cbbcfc6174": {
      "model_module": "@jupyter-widgets/controls",
      "model_module_version": "1.5.0",
      "model_name": "ProgressStyleModel",
      "state": {
       "_model_module": "@jupyter-widgets/controls",
       "_model_module_version": "1.5.0",
       "_model_name": "ProgressStyleModel",
       "_view_count": null,
       "_view_module": "@jupyter-widgets/base",
       "_view_module_version": "1.2.0",
       "_view_name": "StyleView",
       "bar_color": null,
       "description_width": ""
      }
     },
     "bf7c45b697584570aeea31ef58bdcd38": {
      "model_module": "@jupyter-widgets/base",
      "model_module_version": "1.2.0",
      "model_name": "LayoutModel",
      "state": {
       "_model_module": "@jupyter-widgets/base",
       "_model_module_version": "1.2.0",
       "_model_name": "LayoutModel",
       "_view_count": null,
       "_view_module": "@jupyter-widgets/base",
       "_view_module_version": "1.2.0",
       "_view_name": "LayoutView",
       "align_content": null,
       "align_items": null,
       "align_self": null,
       "border": null,
       "bottom": null,
       "display": null,
       "flex": null,
       "flex_flow": null,
       "grid_area": null,
       "grid_auto_columns": null,
       "grid_auto_flow": null,
       "grid_auto_rows": null,
       "grid_column": null,
       "grid_gap": null,
       "grid_row": null,
       "grid_template_areas": null,
       "grid_template_columns": null,
       "grid_template_rows": null,
       "height": null,
       "justify_content": null,
       "justify_items": null,
       "left": null,
       "margin": null,
       "max_height": null,
       "max_width": null,
       "min_height": null,
       "min_width": null,
       "object_fit": null,
       "object_position": null,
       "order": null,
       "overflow": null,
       "overflow_x": null,
       "overflow_y": null,
       "padding": null,
       "right": null,
       "top": null,
       "visibility": null,
       "width": null
      }
     },
     "c429718b0a5e47a09ec605a1e4d06203": {
      "model_module": "@jupyter-widgets/base",
      "model_module_version": "1.2.0",
      "model_name": "LayoutModel",
      "state": {
       "_model_module": "@jupyter-widgets/base",
       "_model_module_version": "1.2.0",
       "_model_name": "LayoutModel",
       "_view_count": null,
       "_view_module": "@jupyter-widgets/base",
       "_view_module_version": "1.2.0",
       "_view_name": "LayoutView",
       "align_content": null,
       "align_items": null,
       "align_self": null,
       "border": null,
       "bottom": null,
       "display": null,
       "flex": null,
       "flex_flow": null,
       "grid_area": null,
       "grid_auto_columns": null,
       "grid_auto_flow": null,
       "grid_auto_rows": null,
       "grid_column": null,
       "grid_gap": null,
       "grid_row": null,
       "grid_template_areas": null,
       "grid_template_columns": null,
       "grid_template_rows": null,
       "height": null,
       "justify_content": null,
       "justify_items": null,
       "left": null,
       "margin": null,
       "max_height": null,
       "max_width": null,
       "min_height": null,
       "min_width": null,
       "object_fit": null,
       "object_position": null,
       "order": null,
       "overflow": null,
       "overflow_x": null,
       "overflow_y": null,
       "padding": null,
       "right": null,
       "top": null,
       "visibility": null,
       "width": null
      }
     },
     "c532fb3e469b4870954281eb5baaf08a": {
      "model_module": "@jupyter-widgets/base",
      "model_module_version": "1.2.0",
      "model_name": "LayoutModel",
      "state": {
       "_model_module": "@jupyter-widgets/base",
       "_model_module_version": "1.2.0",
       "_model_name": "LayoutModel",
       "_view_count": null,
       "_view_module": "@jupyter-widgets/base",
       "_view_module_version": "1.2.0",
       "_view_name": "LayoutView",
       "align_content": null,
       "align_items": null,
       "align_self": null,
       "border": null,
       "bottom": null,
       "display": null,
       "flex": null,
       "flex_flow": null,
       "grid_area": null,
       "grid_auto_columns": null,
       "grid_auto_flow": null,
       "grid_auto_rows": null,
       "grid_column": null,
       "grid_gap": null,
       "grid_row": null,
       "grid_template_areas": null,
       "grid_template_columns": null,
       "grid_template_rows": null,
       "height": null,
       "justify_content": null,
       "justify_items": null,
       "left": null,
       "margin": null,
       "max_height": null,
       "max_width": null,
       "min_height": null,
       "min_width": null,
       "object_fit": null,
       "object_position": null,
       "order": null,
       "overflow": null,
       "overflow_x": null,
       "overflow_y": null,
       "padding": null,
       "right": null,
       "top": null,
       "visibility": null,
       "width": null
      }
     },
     "c56bd79ff8f0425db4189b93b5b7ce77": {
      "model_module": "@jupyter-widgets/controls",
      "model_module_version": "1.5.0",
      "model_name": "HBoxModel",
      "state": {
       "_dom_classes": [],
       "_model_module": "@jupyter-widgets/controls",
       "_model_module_version": "1.5.0",
       "_model_name": "HBoxModel",
       "_view_count": null,
       "_view_module": "@jupyter-widgets/controls",
       "_view_module_version": "1.5.0",
       "_view_name": "HBoxView",
       "box_style": "",
       "children": [
        "IPY_MODEL_1f0739d30290466098729e6dcb17acca",
        "IPY_MODEL_1e16eed5179d43d7a346f235c8dab8ab",
        "IPY_MODEL_60bf4a02527848b7acfeb68346729750"
       ],
       "layout": "IPY_MODEL_dcabbbf520264ca093b30faae52fba87"
      }
     },
     "c5a06ec1b6b34a8dbaa996295ef82582": {
      "model_module": "@jupyter-widgets/controls",
      "model_module_version": "1.5.0",
      "model_name": "HBoxModel",
      "state": {
       "_dom_classes": [],
       "_model_module": "@jupyter-widgets/controls",
       "_model_module_version": "1.5.0",
       "_model_name": "HBoxModel",
       "_view_count": null,
       "_view_module": "@jupyter-widgets/controls",
       "_view_module_version": "1.5.0",
       "_view_name": "HBoxView",
       "box_style": "",
       "children": [
        "IPY_MODEL_4ee3e2cc53d9493dabbc4b2c8c0c64cf",
        "IPY_MODEL_b01f38a51dbd43e9812b673b8a87062e",
        "IPY_MODEL_3229da8eed464c35926ee7b370679dd5"
       ],
       "layout": "IPY_MODEL_1d4afb5356f64667b6239c15107c04c2"
      }
     },
     "c81f8b0f92394a1caf62747f587f1a16": {
      "model_module": "@jupyter-widgets/controls",
      "model_module_version": "1.5.0",
      "model_name": "HTMLModel",
      "state": {
       "_dom_classes": [],
       "_model_module": "@jupyter-widgets/controls",
       "_model_module_version": "1.5.0",
       "_model_name": "HTMLModel",
       "_view_count": null,
       "_view_module": "@jupyter-widgets/controls",
       "_view_module_version": "1.5.0",
       "_view_name": "HTMLView",
       "description": "",
       "description_tooltip": null,
       "layout": "IPY_MODEL_13cef43b12814b59833b0f4c669c19e0",
       "placeholder": "​",
       "style": "IPY_MODEL_b86debab619e4737b513f5e262e53ab4",
       "value": " 25.1k/25.1k [00:00&lt;00:00, 1.89MB/s]"
      }
     },
     "cb5fa59f20ec4ee0a870aba71fd6a7f5": {
      "model_module": "@jupyter-widgets/controls",
      "model_module_version": "1.5.0",
      "model_name": "HTMLModel",
      "state": {
       "_dom_classes": [],
       "_model_module": "@jupyter-widgets/controls",
       "_model_module_version": "1.5.0",
       "_model_name": "HTMLModel",
       "_view_count": null,
       "_view_module": "@jupyter-widgets/controls",
       "_view_module_version": "1.5.0",
       "_view_name": "HTMLView",
       "description": "",
       "description_tooltip": null,
       "layout": "IPY_MODEL_6dc049ea8a3f4ae58a514caca83bb503",
       "placeholder": "​",
       "style": "IPY_MODEL_ec2e75c1e2c642788a0ba36d0cbfe22f",
       "value": " 411/411 [00:00&lt;00:00, 33.4kB/s]"
      }
     },
     "d127dd596b714cef906a371684a537a0": {
      "model_module": "@jupyter-widgets/base",
      "model_module_version": "1.2.0",
      "model_name": "LayoutModel",
      "state": {
       "_model_module": "@jupyter-widgets/base",
       "_model_module_version": "1.2.0",
       "_model_name": "LayoutModel",
       "_view_count": null,
       "_view_module": "@jupyter-widgets/base",
       "_view_module_version": "1.2.0",
       "_view_name": "LayoutView",
       "align_content": null,
       "align_items": null,
       "align_self": null,
       "border": null,
       "bottom": null,
       "display": null,
       "flex": null,
       "flex_flow": null,
       "grid_area": null,
       "grid_auto_columns": null,
       "grid_auto_flow": null,
       "grid_auto_rows": null,
       "grid_column": null,
       "grid_gap": null,
       "grid_row": null,
       "grid_template_areas": null,
       "grid_template_columns": null,
       "grid_template_rows": null,
       "height": null,
       "justify_content": null,
       "justify_items": null,
       "left": null,
       "margin": null,
       "max_height": null,
       "max_width": null,
       "min_height": null,
       "min_width": null,
       "object_fit": null,
       "object_position": null,
       "order": null,
       "overflow": null,
       "overflow_x": null,
       "overflow_y": null,
       "padding": null,
       "right": null,
       "top": null,
       "visibility": null,
       "width": null
      }
     },
     "d39748caad9841bf86c11cc62c002cb6": {
      "model_module": "@jupyter-widgets/base",
      "model_module_version": "1.2.0",
      "model_name": "LayoutModel",
      "state": {
       "_model_module": "@jupyter-widgets/base",
       "_model_module_version": "1.2.0",
       "_model_name": "LayoutModel",
       "_view_count": null,
       "_view_module": "@jupyter-widgets/base",
       "_view_module_version": "1.2.0",
       "_view_name": "LayoutView",
       "align_content": null,
       "align_items": null,
       "align_self": null,
       "border": null,
       "bottom": null,
       "display": null,
       "flex": null,
       "flex_flow": null,
       "grid_area": null,
       "grid_auto_columns": null,
       "grid_auto_flow": null,
       "grid_auto_rows": null,
       "grid_column": null,
       "grid_gap": null,
       "grid_row": null,
       "grid_template_areas": null,
       "grid_template_columns": null,
       "grid_template_rows": null,
       "height": null,
       "justify_content": null,
       "justify_items": null,
       "left": null,
       "margin": null,
       "max_height": null,
       "max_width": null,
       "min_height": null,
       "min_width": null,
       "object_fit": null,
       "object_position": null,
       "order": null,
       "overflow": null,
       "overflow_x": null,
       "overflow_y": null,
       "padding": null,
       "right": null,
       "top": null,
       "visibility": null,
       "width": null
      }
     },
     "d43d6833b6994b48805bcbd523499997": {
      "model_module": "@jupyter-widgets/base",
      "model_module_version": "1.2.0",
      "model_name": "LayoutModel",
      "state": {
       "_model_module": "@jupyter-widgets/base",
       "_model_module_version": "1.2.0",
       "_model_name": "LayoutModel",
       "_view_count": null,
       "_view_module": "@jupyter-widgets/base",
       "_view_module_version": "1.2.0",
       "_view_name": "LayoutView",
       "align_content": null,
       "align_items": null,
       "align_self": null,
       "border": null,
       "bottom": null,
       "display": null,
       "flex": null,
       "flex_flow": null,
       "grid_area": null,
       "grid_auto_columns": null,
       "grid_auto_flow": null,
       "grid_auto_rows": null,
       "grid_column": null,
       "grid_gap": null,
       "grid_row": null,
       "grid_template_areas": null,
       "grid_template_columns": null,
       "grid_template_rows": null,
       "height": null,
       "justify_content": null,
       "justify_items": null,
       "left": null,
       "margin": null,
       "max_height": null,
       "max_width": null,
       "min_height": null,
       "min_width": null,
       "object_fit": null,
       "object_position": null,
       "order": null,
       "overflow": null,
       "overflow_x": null,
       "overflow_y": null,
       "padding": null,
       "right": null,
       "top": null,
       "visibility": null,
       "width": null
      }
     },
     "d5a4a3639f564c26aa1e60504323f176": {
      "model_module": "@jupyter-widgets/base",
      "model_module_version": "1.2.0",
      "model_name": "LayoutModel",
      "state": {
       "_model_module": "@jupyter-widgets/base",
       "_model_module_version": "1.2.0",
       "_model_name": "LayoutModel",
       "_view_count": null,
       "_view_module": "@jupyter-widgets/base",
       "_view_module_version": "1.2.0",
       "_view_name": "LayoutView",
       "align_content": null,
       "align_items": null,
       "align_self": null,
       "border": null,
       "bottom": null,
       "display": null,
       "flex": null,
       "flex_flow": null,
       "grid_area": null,
       "grid_auto_columns": null,
       "grid_auto_flow": null,
       "grid_auto_rows": null,
       "grid_column": null,
       "grid_gap": null,
       "grid_row": null,
       "grid_template_areas": null,
       "grid_template_columns": null,
       "grid_template_rows": null,
       "height": null,
       "justify_content": null,
       "justify_items": null,
       "left": null,
       "margin": null,
       "max_height": null,
       "max_width": null,
       "min_height": null,
       "min_width": null,
       "object_fit": null,
       "object_position": null,
       "order": null,
       "overflow": null,
       "overflow_x": null,
       "overflow_y": null,
       "padding": null,
       "right": null,
       "top": null,
       "visibility": null,
       "width": null
      }
     },
     "d65fe98356074b68829fcfe34955a2b5": {
      "model_module": "@jupyter-widgets/base",
      "model_module_version": "1.2.0",
      "model_name": "LayoutModel",
      "state": {
       "_model_module": "@jupyter-widgets/base",
       "_model_module_version": "1.2.0",
       "_model_name": "LayoutModel",
       "_view_count": null,
       "_view_module": "@jupyter-widgets/base",
       "_view_module_version": "1.2.0",
       "_view_name": "LayoutView",
       "align_content": null,
       "align_items": null,
       "align_self": null,
       "border": null,
       "bottom": null,
       "display": null,
       "flex": null,
       "flex_flow": null,
       "grid_area": null,
       "grid_auto_columns": null,
       "grid_auto_flow": null,
       "grid_auto_rows": null,
       "grid_column": null,
       "grid_gap": null,
       "grid_row": null,
       "grid_template_areas": null,
       "grid_template_columns": null,
       "grid_template_rows": null,
       "height": null,
       "justify_content": null,
       "justify_items": null,
       "left": null,
       "margin": null,
       "max_height": null,
       "max_width": null,
       "min_height": null,
       "min_width": null,
       "object_fit": null,
       "object_position": null,
       "order": null,
       "overflow": null,
       "overflow_x": null,
       "overflow_y": null,
       "padding": null,
       "right": null,
       "top": null,
       "visibility": null,
       "width": null
      }
     },
     "d6c970344ffd493cbd7e0a36f394ae2d": {
      "model_module": "@jupyter-widgets/controls",
      "model_module_version": "1.5.0",
      "model_name": "FloatProgressModel",
      "state": {
       "_dom_classes": [],
       "_model_module": "@jupyter-widgets/controls",
       "_model_module_version": "1.5.0",
       "_model_name": "FloatProgressModel",
       "_view_count": null,
       "_view_module": "@jupyter-widgets/controls",
       "_view_module_version": "1.5.0",
       "_view_name": "ProgressView",
       "bar_style": "success",
       "description": "",
       "description_tooltip": null,
       "layout": "IPY_MODEL_00e1517de4be4458a44ddf132b7d19a4",
       "max": 3500425616.0,
       "min": 0.0,
       "orientation": "horizontal",
       "style": "IPY_MODEL_329df232129f4f9f9fcd4a2877264b07",
       "value": 3500425616.0
      }
     },
     "d7e770f2ec4a4cea808609c801a2bf67": {
      "model_module": "@jupyter-widgets/base",
      "model_module_version": "1.2.0",
      "model_name": "LayoutModel",
      "state": {
       "_model_module": "@jupyter-widgets/base",
       "_model_module_version": "1.2.0",
       "_model_name": "LayoutModel",
       "_view_count": null,
       "_view_module": "@jupyter-widgets/base",
       "_view_module_version": "1.2.0",
       "_view_name": "LayoutView",
       "align_content": null,
       "align_items": null,
       "align_self": null,
       "border": null,
       "bottom": null,
       "display": null,
       "flex": null,
       "flex_flow": null,
       "grid_area": null,
       "grid_auto_columns": null,
       "grid_auto_flow": null,
       "grid_auto_rows": null,
       "grid_column": null,
       "grid_gap": null,
       "grid_row": null,
       "grid_template_areas": null,
       "grid_template_columns": null,
       "grid_template_rows": null,
       "height": null,
       "justify_content": null,
       "justify_items": null,
       "left": null,
       "margin": null,
       "max_height": null,
       "max_width": null,
       "min_height": null,
       "min_width": null,
       "object_fit": null,
       "object_position": null,
       "order": null,
       "overflow": null,
       "overflow_x": null,
       "overflow_y": null,
       "padding": null,
       "right": null,
       "top": null,
       "visibility": null,
       "width": null
      }
     },
     "d81cb0e421f448239f503ebec362b4d4": {
      "model_module": "@jupyter-widgets/base",
      "model_module_version": "1.2.0",
      "model_name": "LayoutModel",
      "state": {
       "_model_module": "@jupyter-widgets/base",
       "_model_module_version": "1.2.0",
       "_model_name": "LayoutModel",
       "_view_count": null,
       "_view_module": "@jupyter-widgets/base",
       "_view_module_version": "1.2.0",
       "_view_name": "LayoutView",
       "align_content": null,
       "align_items": null,
       "align_self": null,
       "border": null,
       "bottom": null,
       "display": null,
       "flex": null,
       "flex_flow": null,
       "grid_area": null,
       "grid_auto_columns": null,
       "grid_auto_flow": null,
       "grid_auto_rows": null,
       "grid_column": null,
       "grid_gap": null,
       "grid_row": null,
       "grid_template_areas": null,
       "grid_template_columns": null,
       "grid_template_rows": null,
       "height": null,
       "justify_content": null,
       "justify_items": null,
       "left": null,
       "margin": null,
       "max_height": null,
       "max_width": null,
       "min_height": null,
       "min_width": null,
       "object_fit": null,
       "object_position": null,
       "order": null,
       "overflow": null,
       "overflow_x": null,
       "overflow_y": null,
       "padding": null,
       "right": null,
       "top": null,
       "visibility": null,
       "width": null
      }
     },
     "d8e4649c93a04fba8983a670d40f620f": {
      "model_module": "@jupyter-widgets/controls",
      "model_module_version": "1.5.0",
      "model_name": "DescriptionStyleModel",
      "state": {
       "_model_module": "@jupyter-widgets/controls",
       "_model_module_version": "1.5.0",
       "_model_name": "DescriptionStyleModel",
       "_view_count": null,
       "_view_module": "@jupyter-widgets/base",
       "_view_module_version": "1.2.0",
       "_view_name": "StyleView",
       "description_width": ""
      }
     },
     "dcabbbf520264ca093b30faae52fba87": {
      "model_module": "@jupyter-widgets/base",
      "model_module_version": "1.2.0",
      "model_name": "LayoutModel",
      "state": {
       "_model_module": "@jupyter-widgets/base",
       "_model_module_version": "1.2.0",
       "_model_name": "LayoutModel",
       "_view_count": null,
       "_view_module": "@jupyter-widgets/base",
       "_view_module_version": "1.2.0",
       "_view_name": "LayoutView",
       "align_content": null,
       "align_items": null,
       "align_self": null,
       "border": null,
       "bottom": null,
       "display": null,
       "flex": null,
       "flex_flow": null,
       "grid_area": null,
       "grid_auto_columns": null,
       "grid_auto_flow": null,
       "grid_auto_rows": null,
       "grid_column": null,
       "grid_gap": null,
       "grid_row": null,
       "grid_template_areas": null,
       "grid_template_columns": null,
       "grid_template_rows": null,
       "height": null,
       "justify_content": null,
       "justify_items": null,
       "left": null,
       "margin": null,
       "max_height": null,
       "max_width": null,
       "min_height": null,
       "min_width": null,
       "object_fit": null,
       "object_position": null,
       "order": null,
       "overflow": null,
       "overflow_x": null,
       "overflow_y": null,
       "padding": null,
       "right": null,
       "top": null,
       "visibility": null,
       "width": null
      }
     },
     "dcc49ab24a594bf9b21c531b61b1f0b0": {
      "model_module": "@jupyter-widgets/controls",
      "model_module_version": "1.5.0",
      "model_name": "DescriptionStyleModel",
      "state": {
       "_model_module": "@jupyter-widgets/controls",
       "_model_module_version": "1.5.0",
       "_model_name": "DescriptionStyleModel",
       "_view_count": null,
       "_view_module": "@jupyter-widgets/base",
       "_view_module_version": "1.2.0",
       "_view_name": "StyleView",
       "description_width": ""
      }
     },
     "de951ff51295412a80a1630c76db707e": {
      "model_module": "@jupyter-widgets/base",
      "model_module_version": "1.2.0",
      "model_name": "LayoutModel",
      "state": {
       "_model_module": "@jupyter-widgets/base",
       "_model_module_version": "1.2.0",
       "_model_name": "LayoutModel",
       "_view_count": null,
       "_view_module": "@jupyter-widgets/base",
       "_view_module_version": "1.2.0",
       "_view_name": "LayoutView",
       "align_content": null,
       "align_items": null,
       "align_self": null,
       "border": null,
       "bottom": null,
       "display": null,
       "flex": null,
       "flex_flow": null,
       "grid_area": null,
       "grid_auto_columns": null,
       "grid_auto_flow": null,
       "grid_auto_rows": null,
       "grid_column": null,
       "grid_gap": null,
       "grid_row": null,
       "grid_template_areas": null,
       "grid_template_columns": null,
       "grid_template_rows": null,
       "height": null,
       "justify_content": null,
       "justify_items": null,
       "left": null,
       "margin": null,
       "max_height": null,
       "max_width": null,
       "min_height": null,
       "min_width": null,
       "object_fit": null,
       "object_position": null,
       "order": null,
       "overflow": null,
       "overflow_x": null,
       "overflow_y": null,
       "padding": null,
       "right": null,
       "top": null,
       "visibility": null,
       "width": null
      }
     },
     "e49b1adfc8c54ad7b07d737d3cd767c1": {
      "model_module": "@jupyter-widgets/base",
      "model_module_version": "1.2.0",
      "model_name": "LayoutModel",
      "state": {
       "_model_module": "@jupyter-widgets/base",
       "_model_module_version": "1.2.0",
       "_model_name": "LayoutModel",
       "_view_count": null,
       "_view_module": "@jupyter-widgets/base",
       "_view_module_version": "1.2.0",
       "_view_name": "LayoutView",
       "align_content": null,
       "align_items": null,
       "align_self": null,
       "border": null,
       "bottom": null,
       "display": null,
       "flex": null,
       "flex_flow": null,
       "grid_area": null,
       "grid_auto_columns": null,
       "grid_auto_flow": null,
       "grid_auto_rows": null,
       "grid_column": null,
       "grid_gap": null,
       "grid_row": null,
       "grid_template_areas": null,
       "grid_template_columns": null,
       "grid_template_rows": null,
       "height": null,
       "justify_content": null,
       "justify_items": null,
       "left": null,
       "margin": null,
       "max_height": null,
       "max_width": null,
       "min_height": null,
       "min_width": null,
       "object_fit": null,
       "object_position": null,
       "order": null,
       "overflow": null,
       "overflow_x": null,
       "overflow_y": null,
       "padding": null,
       "right": null,
       "top": null,
       "visibility": null,
       "width": null
      }
     },
     "e6301c99a4b243b7a1e14ce48a35555b": {
      "model_module": "@jupyter-widgets/base",
      "model_module_version": "1.2.0",
      "model_name": "LayoutModel",
      "state": {
       "_model_module": "@jupyter-widgets/base",
       "_model_module_version": "1.2.0",
       "_model_name": "LayoutModel",
       "_view_count": null,
       "_view_module": "@jupyter-widgets/base",
       "_view_module_version": "1.2.0",
       "_view_name": "LayoutView",
       "align_content": null,
       "align_items": null,
       "align_self": null,
       "border": null,
       "bottom": null,
       "display": null,
       "flex": null,
       "flex_flow": null,
       "grid_area": null,
       "grid_auto_columns": null,
       "grid_auto_flow": null,
       "grid_auto_rows": null,
       "grid_column": null,
       "grid_gap": null,
       "grid_row": null,
       "grid_template_areas": null,
       "grid_template_columns": null,
       "grid_template_rows": null,
       "height": null,
       "justify_content": null,
       "justify_items": null,
       "left": null,
       "margin": null,
       "max_height": null,
       "max_width": null,
       "min_height": null,
       "min_width": null,
       "object_fit": null,
       "object_position": null,
       "order": null,
       "overflow": null,
       "overflow_x": null,
       "overflow_y": null,
       "padding": null,
       "right": null,
       "top": null,
       "visibility": null,
       "width": null
      }
     },
     "e8d1ff72f6c6428d82490461803bbd02": {
      "model_module": "@jupyter-widgets/controls",
      "model_module_version": "1.5.0",
      "model_name": "FloatProgressModel",
      "state": {
       "_dom_classes": [],
       "_model_module": "@jupyter-widgets/controls",
       "_model_module_version": "1.5.0",
       "_model_name": "FloatProgressModel",
       "_view_count": null,
       "_view_module": "@jupyter-widgets/controls",
       "_view_module_version": "1.5.0",
       "_view_name": "ProgressView",
       "bar_style": "success",
       "description": "",
       "description_tooltip": null,
       "layout": "IPY_MODEL_108dadd6d2834c88ba1db357a4b64392",
       "max": 500058.0,
       "min": 0.0,
       "orientation": "horizontal",
       "style": "IPY_MODEL_1c34b8f2d8434e4e8590ad3a09820fd8",
       "value": 500058.0
      }
     },
     "e9d248e1395b4407aa9a1b93d0eadc84": {
      "model_module": "@jupyter-widgets/controls",
      "model_module_version": "1.5.0",
      "model_name": "HTMLModel",
      "state": {
       "_dom_classes": [],
       "_model_module": "@jupyter-widgets/controls",
       "_model_module_version": "1.5.0",
       "_model_name": "HTMLModel",
       "_view_count": null,
       "_view_module": "@jupyter-widgets/controls",
       "_view_module_version": "1.5.0",
       "_view_name": "HTMLView",
       "description": "",
       "description_tooltip": null,
       "layout": "IPY_MODEL_91c55bacaccd4123aa065e115a7e51ab",
       "placeholder": "​",
       "style": "IPY_MODEL_1d5987c6a9be40f69d33fa2fcf476651",
       "value": " 3.50G/3.50G [00:16&lt;00:00, 220MB/s]"
      }
     },
     "ebee63116bc24b929c15bbf756ae839f": {
      "model_module": "@jupyter-widgets/base",
      "model_module_version": "1.2.0",
      "model_name": "LayoutModel",
      "state": {
       "_model_module": "@jupyter-widgets/base",
       "_model_module_version": "1.2.0",
       "_model_name": "LayoutModel",
       "_view_count": null,
       "_view_module": "@jupyter-widgets/base",
       "_view_module_version": "1.2.0",
       "_view_name": "LayoutView",
       "align_content": null,
       "align_items": null,
       "align_self": null,
       "border": null,
       "bottom": null,
       "display": null,
       "flex": null,
       "flex_flow": null,
       "grid_area": null,
       "grid_auto_columns": null,
       "grid_auto_flow": null,
       "grid_auto_rows": null,
       "grid_column": null,
       "grid_gap": null,
       "grid_row": null,
       "grid_template_areas": null,
       "grid_template_columns": null,
       "grid_template_rows": null,
       "height": null,
       "justify_content": null,
       "justify_items": null,
       "left": null,
       "margin": null,
       "max_height": null,
       "max_width": null,
       "min_height": null,
       "min_width": null,
       "object_fit": null,
       "object_position": null,
       "order": null,
       "overflow": null,
       "overflow_x": null,
       "overflow_y": null,
       "padding": null,
       "right": null,
       "top": null,
       "visibility": null,
       "width": null
      }
     },
     "ec2e75c1e2c642788a0ba36d0cbfe22f": {
      "model_module": "@jupyter-widgets/controls",
      "model_module_version": "1.5.0",
      "model_name": "DescriptionStyleModel",
      "state": {
       "_model_module": "@jupyter-widgets/controls",
       "_model_module_version": "1.5.0",
       "_model_name": "DescriptionStyleModel",
       "_view_count": null,
       "_view_module": "@jupyter-widgets/base",
       "_view_module_version": "1.2.0",
       "_view_name": "StyleView",
       "description_width": ""
      }
     },
     "eeaacc5038d04fdc972c208653c2ca79": {
      "model_module": "@jupyter-widgets/controls",
      "model_module_version": "1.5.0",
      "model_name": "FloatProgressModel",
      "state": {
       "_dom_classes": [],
       "_model_module": "@jupyter-widgets/controls",
       "_model_module_version": "1.5.0",
       "_model_name": "FloatProgressModel",
       "_view_count": null,
       "_view_module": "@jupyter-widgets/controls",
       "_view_module_version": "1.5.0",
       "_view_name": "ProgressView",
       "bar_style": "success",
       "description": "",
       "description_tooltip": null,
       "layout": "IPY_MODEL_53de5aaf24904f809cae5d8249a4b23b",
       "max": 646.0,
       "min": 0.0,
       "orientation": "horizontal",
       "style": "IPY_MODEL_a4b665b6f5db435896cdf050fbc239bf",
       "value": 646.0
      }
     },
     "f18baebdc6e94c9aa0a316c9c89f55fe": {
      "model_module": "@jupyter-widgets/controls",
      "model_module_version": "1.5.0",
      "model_name": "DescriptionStyleModel",
      "state": {
       "_model_module": "@jupyter-widgets/controls",
       "_model_module_version": "1.5.0",
       "_model_name": "DescriptionStyleModel",
       "_view_count": null,
       "_view_module": "@jupyter-widgets/base",
       "_view_module_version": "1.2.0",
       "_view_name": "StyleView",
       "description_width": ""
      }
     },
     "f1d2d4a141c348bc84319104ad253f91": {
      "model_module": "@jupyter-widgets/controls",
      "model_module_version": "1.5.0",
      "model_name": "DescriptionStyleModel",
      "state": {
       "_model_module": "@jupyter-widgets/controls",
       "_model_module_version": "1.5.0",
       "_model_name": "DescriptionStyleModel",
       "_view_count": null,
       "_view_module": "@jupyter-widgets/base",
       "_view_module_version": "1.2.0",
       "_view_name": "StyleView",
       "description_width": ""
      }
     },
     "f5c15b420ddb4952ba4da2a46858efe6": {
      "model_module": "@jupyter-widgets/controls",
      "model_module_version": "1.5.0",
      "model_name": "ProgressStyleModel",
      "state": {
       "_model_module": "@jupyter-widgets/controls",
       "_model_module_version": "1.5.0",
       "_model_name": "ProgressStyleModel",
       "_view_count": null,
       "_view_module": "@jupyter-widgets/base",
       "_view_module_version": "1.2.0",
       "_view_name": "StyleView",
       "bar_color": null,
       "description_width": ""
      }
     },
     "f61dae59e4af4a4594438d0b73b625cd": {
      "model_module": "@jupyter-widgets/controls",
      "model_module_version": "1.5.0",
      "model_name": "DescriptionStyleModel",
      "state": {
       "_model_module": "@jupyter-widgets/controls",
       "_model_module_version": "1.5.0",
       "_model_name": "DescriptionStyleModel",
       "_view_count": null,
       "_view_module": "@jupyter-widgets/base",
       "_view_module_version": "1.2.0",
       "_view_name": "StyleView",
       "description_width": ""
      }
     },
     "f7d2de0501e24bb79c6b278efa7cb08c": {
      "model_module": "@jupyter-widgets/controls",
      "model_module_version": "1.5.0",
      "model_name": "HTMLModel",
      "state": {
       "_dom_classes": [],
       "_model_module": "@jupyter-widgets/controls",
       "_model_module_version": "1.5.0",
       "_model_name": "HTMLModel",
       "_view_count": null,
       "_view_module": "@jupyter-widgets/controls",
       "_view_module_version": "1.5.0",
       "_view_name": "HTMLView",
       "description": "",
       "description_tooltip": null,
       "layout": "IPY_MODEL_684ed1440d5846c0bbb6286a79d4f446",
       "placeholder": "​",
       "style": "IPY_MODEL_f1d2d4a141c348bc84319104ad253f91",
       "value": "Downloading (…)neration_config.json: 100%"
      }
     },
     "fcb93a994a87486ca59e929c0e28c5c8": {
      "model_module": "@jupyter-widgets/controls",
      "model_module_version": "1.5.0",
      "model_name": "DescriptionStyleModel",
      "state": {
       "_model_module": "@jupyter-widgets/controls",
       "_model_module_version": "1.5.0",
       "_model_name": "DescriptionStyleModel",
       "_view_count": null,
       "_view_module": "@jupyter-widgets/base",
       "_view_module_version": "1.2.0",
       "_view_name": "StyleView",
       "description_width": ""
      }
     },
     "fdbd1b3a454145198197e43127ff1c98": {
      "model_module": "@jupyter-widgets/base",
      "model_module_version": "1.2.0",
      "model_name": "LayoutModel",
      "state": {
       "_model_module": "@jupyter-widgets/base",
       "_model_module_version": "1.2.0",
       "_model_name": "LayoutModel",
       "_view_count": null,
       "_view_module": "@jupyter-widgets/base",
       "_view_module_version": "1.2.0",
       "_view_name": "LayoutView",
       "align_content": null,
       "align_items": null,
       "align_self": null,
       "border": null,
       "bottom": null,
       "display": null,
       "flex": null,
       "flex_flow": null,
       "grid_area": null,
       "grid_auto_columns": null,
       "grid_auto_flow": null,
       "grid_auto_rows": null,
       "grid_column": null,
       "grid_gap": null,
       "grid_row": null,
       "grid_template_areas": null,
       "grid_template_columns": null,
       "grid_template_rows": null,
       "height": null,
       "justify_content": null,
       "justify_items": null,
       "left": null,
       "margin": null,
       "max_height": null,
       "max_width": null,
       "min_height": null,
       "min_width": null,
       "object_fit": null,
       "object_position": null,
       "order": null,
       "overflow": null,
       "overflow_x": null,
       "overflow_y": null,
       "padding": null,
       "right": null,
       "top": null,
       "visibility": null,
       "width": null
      }
     },
     "ffd797c7e82449758351a134e00af68e": {
      "model_module": "@jupyter-widgets/controls",
      "model_module_version": "1.5.0",
      "model_name": "HTMLModel",
      "state": {
       "_dom_classes": [],
       "_model_module": "@jupyter-widgets/controls",
       "_model_module_version": "1.5.0",
       "_model_name": "HTMLModel",
       "_view_count": null,
       "_view_module": "@jupyter-widgets/controls",
       "_view_module_version": "1.5.0",
       "_view_name": "HTMLView",
       "description": "",
       "description_tooltip": null,
       "layout": "IPY_MODEL_62920d0b40d842dc93ae89f29f6007a2",
       "placeholder": "​",
       "style": "IPY_MODEL_b27ea87d783e45c2a9c0667d7c43fcf8",
       "value": " 500k/500k [00:00&lt;00:00, 4.82MB/s]"
      }
     }
    },
    "version_major": 2,
    "version_minor": 0
   }
  }
 },
 "nbformat": 4,
 "nbformat_minor": 5
}
