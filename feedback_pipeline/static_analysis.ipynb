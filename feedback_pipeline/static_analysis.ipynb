{
 "cells": [
  {
   "cell_type": "code",
   "execution_count": 1,
   "metadata": {},
   "outputs": [],
   "source": [
    "import os\n",
    "import subprocess\n",
    "from tqdm.notebook import tqdm"
   ]
  },
  {
   "cell_type": "code",
   "execution_count": 6,
   "metadata": {},
   "outputs": [
    {
     "name": "stdout",
     "output_type": "stream",
     "text": [
      "/Users/abhishekanand/interstellar/research-projects/CS544-NLP/NLP_Group37/generations/python\n"
     ]
    }
   ],
   "source": [
    "!pwd"
   ]
  },
  {
   "cell_type": "code",
   "execution_count": null,
   "metadata": {},
   "outputs": [],
   "source": [
    "os.chdir(\"./generations/python/\")"
   ]
  },
  {
   "cell_type": "code",
   "execution_count": 4,
   "metadata": {},
   "outputs": [
    {
     "data": {
      "application/vnd.jupyter.widget-view+json": {
       "model_id": "98a1a86caf6f434e881cad8c21b0b2ee",
       "version_major": 2,
       "version_minor": 0
      },
      "text/plain": [
       "  0%|          | 0/300 [00:00<?, ?it/s]"
      ]
     },
     "metadata": {},
     "output_type": "display_data"
    }
   ],
   "source": [
    "folder_path = \"./files/\"\n",
    "file_list = os.listdir(folder_path)\n",
    "\n",
    "\n",
    "for file_name in tqdm(file_list):\n",
    "    if file_name.endswith(\".py\"):\n",
    "        file_prefix = file_name.split(\".\")[0]\n",
    "        # command = f\"flake8 --format=json-pretty {folder_path}{file_name} > ./analysis_reports/{file_name}.json\"\n",
    "        proc = subprocess.Popen([\"flake8\", \"--format=json-pretty\", f\"{folder_path}{file_name}\"], stdout=open(f\"./analysis_reports/{file_prefix}.json\", \"w\"), stderr=open(f\"./analysis_reports/{file_prefix}.json\", \"w\"))\n",
    "        proc.wait()"
   ]
  },
  {
   "cell_type": "code",
   "execution_count": 9,
   "metadata": {},
   "outputs": [
    {
     "data": {
      "application/vnd.jupyter.widget-view+json": {
       "model_id": "4f532f5359df4829a4267b335bcd4117",
       "version_major": 2,
       "version_minor": 0
      },
      "text/plain": [
       "  0%|          | 0/300 [00:00<?, ?it/s]"
      ]
     },
     "metadata": {},
     "output_type": "display_data"
    }
   ],
   "source": [
    "folder_path = \"./files_with_feedback/\"\n",
    "file_list = os.listdir(folder_path)\n",
    "\n",
    "\n",
    "for file_name in tqdm(file_list):\n",
    "    if file_name.endswith(\".py\"):\n",
    "        file_prefix = file_name.split(\".\")[0]\n",
    "        # command = f\"flake8 --format=json-pretty {folder_path}{file_name} > ./analysis_reports/{file_name}.json\"\n",
    "        proc = subprocess.Popen([\"flake8\", \"--format=json-pretty\", f\"{folder_path}{file_name}\"], stdout=open(f\"./analysis_reports_post_feedback/{file_prefix}.json\", \"w\"), stderr=open(f\"./analysis_reports_post_feedback/{file_prefix}.json\", \"w\"))\n",
    "        proc.wait()"
   ]
  },
  {
   "cell_type": "code",
   "execution_count": null,
   "metadata": {},
   "outputs": [],
   "source": []
  }
 ],
 "metadata": {
  "kernelspec": {
   "display_name": "py11-env",
   "language": "python",
   "name": "python3"
  },
  "language_info": {
   "codemirror_mode": {
    "name": "ipython",
    "version": 3
   },
   "file_extension": ".py",
   "mimetype": "text/x-python",
   "name": "python",
   "nbconvert_exporter": "python",
   "pygments_lexer": "ipython3",
   "version": "3.11.6"
  },
  "orig_nbformat": 4
 },
 "nbformat": 4,
 "nbformat_minor": 2
}
