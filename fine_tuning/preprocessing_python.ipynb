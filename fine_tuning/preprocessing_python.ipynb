{
 "cells": [
  {
   "cell_type": "code",
   "execution_count": 7,
   "metadata": {},
   "outputs": [],
   "source": [
    "import pandas as pd\n",
    "import numpy as np\n",
    "import os\n",
    "import subprocess\n",
    "from tqdm.notebook import tqdm"
   ]
  },
  {
   "cell_type": "code",
   "execution_count": 8,
   "metadata": {},
   "outputs": [
    {
     "data": {
      "text/html": [
       "<div>\n",
       "<style scoped>\n",
       "    .dataframe tbody tr th:only-of-type {\n",
       "        vertical-align: middle;\n",
       "    }\n",
       "\n",
       "    .dataframe tbody tr th {\n",
       "        vertical-align: top;\n",
       "    }\n",
       "\n",
       "    .dataframe thead th {\n",
       "        text-align: right;\n",
       "    }\n",
       "</style>\n",
       "<table border=\"1\" class=\"dataframe\">\n",
       "  <thead>\n",
       "    <tr style=\"text-align: right;\">\n",
       "      <th></th>\n",
       "      <th>id</th>\n",
       "      <th>text</th>\n",
       "      <th>code</th>\n",
       "      <th>question</th>\n",
       "      <th>functions</th>\n",
       "      <th>code_context</th>\n",
       "    </tr>\n",
       "  </thead>\n",
       "  <tbody>\n",
       "    <tr>\n",
       "      <th>0</th>\n",
       "      <td>0</td>\n",
       "      <td>Maximum Prefix Sum possible by merging two giv...</td>\n",
       "      <td>def maxPresum(a, b):\\n    X = max(a[0], 0)\\n  ...</td>\n",
       "      <td>Maximum Prefix Sum possible by merging two giv...</td>\n",
       "      <td>['def maxPresum(a, b):']</td>\n",
       "      <td>def maxPresum(a, b):</td>\n",
       "    </tr>\n",
       "    <tr>\n",
       "      <th>1</th>\n",
       "      <td>1</td>\n",
       "      <td>Check if a number can be represented as sum of...</td>\n",
       "      <td>import math\\n\\n\\ndef sumOfTwoCubes(n):\\n    lo...</td>\n",
       "      <td>Check if a number can be represented as sum of...</td>\n",
       "      <td>['def sumOfTwoCubes(n):']</td>\n",
       "      <td>import math\\n\\n\\ndef sumOfTwoCubes(n):</td>\n",
       "    </tr>\n",
       "    <tr>\n",
       "      <th>2</th>\n",
       "      <td>2</td>\n",
       "      <td>Generate an N | Python3 program for the above ...</td>\n",
       "      <td>sieve = [1] * (1000000 + 1)\\n\\n\\ndef sieveOfPr...</td>\n",
       "      <td>Generate an N.</td>\n",
       "      <td>['def sieveOfPrimes():', 'def getArray(arr, N):']</td>\n",
       "      <td>sieve = [1] * (1000000 + 1)\\n\\n\\ndef sieveOfPr...</td>\n",
       "    </tr>\n",
       "    <tr>\n",
       "      <th>3</th>\n",
       "      <td>3</td>\n",
       "      <td>Nth natural number after removing all numbers ...</td>\n",
       "      <td>def findNthNumber(N):\\n    result = 0\\n    p =...</td>\n",
       "      <td>Nth natural number after removing all numbers ...</td>\n",
       "      <td>['def findNthNumber(N):']</td>\n",
       "      <td>def findNthNumber(N):</td>\n",
       "    </tr>\n",
       "    <tr>\n",
       "      <th>4</th>\n",
       "      <td>4</td>\n",
       "      <td>Check if an integer is rotation of another giv...</td>\n",
       "      <td>import math\\n\\n\\ndef check(A, B):\\n    if (A =...</td>\n",
       "      <td>Check if an integer is rotation of another giv...</td>\n",
       "      <td>['def check(A, B):']</td>\n",
       "      <td>import math\\n\\n\\ndef check(A, B):</td>\n",
       "    </tr>\n",
       "  </tbody>\n",
       "</table>\n",
       "</div>"
      ],
      "text/plain": [
       "   id                                               text  \\\n",
       "0   0  Maximum Prefix Sum possible by merging two giv...   \n",
       "1   1  Check if a number can be represented as sum of...   \n",
       "2   2  Generate an N | Python3 program for the above ...   \n",
       "3   3  Nth natural number after removing all numbers ...   \n",
       "4   4  Check if an integer is rotation of another giv...   \n",
       "\n",
       "                                                code  \\\n",
       "0  def maxPresum(a, b):\\n    X = max(a[0], 0)\\n  ...   \n",
       "1  import math\\n\\n\\ndef sumOfTwoCubes(n):\\n    lo...   \n",
       "2  sieve = [1] * (1000000 + 1)\\n\\n\\ndef sieveOfPr...   \n",
       "3  def findNthNumber(N):\\n    result = 0\\n    p =...   \n",
       "4  import math\\n\\n\\ndef check(A, B):\\n    if (A =...   \n",
       "\n",
       "                                            question  \\\n",
       "0  Maximum Prefix Sum possible by merging two giv...   \n",
       "1  Check if a number can be represented as sum of...   \n",
       "2                                     Generate an N.   \n",
       "3  Nth natural number after removing all numbers ...   \n",
       "4  Check if an integer is rotation of another giv...   \n",
       "\n",
       "                                           functions  \\\n",
       "0                           ['def maxPresum(a, b):']   \n",
       "1                          ['def sumOfTwoCubes(n):']   \n",
       "2  ['def sieveOfPrimes():', 'def getArray(arr, N):']   \n",
       "3                          ['def findNthNumber(N):']   \n",
       "4                               ['def check(A, B):']   \n",
       "\n",
       "                                        code_context  \n",
       "0                               def maxPresum(a, b):  \n",
       "1             import math\\n\\n\\ndef sumOfTwoCubes(n):  \n",
       "2  sieve = [1] * (1000000 + 1)\\n\\n\\ndef sieveOfPr...  \n",
       "3                              def findNthNumber(N):  \n",
       "4                  import math\\n\\n\\ndef check(A, B):  "
      ]
     },
     "execution_count": 8,
     "metadata": {},
     "output_type": "execute_result"
    }
   ],
   "source": [
    "train_df = pd.read_csv(\"../data/python/train_processed.csv\")\n",
    "train_df.head()"
   ]
  },
  {
   "cell_type": "code",
   "execution_count": 9,
   "metadata": {},
   "outputs": [
    {
     "name": "stdout",
     "output_type": "stream",
     "text": [
      "def maxPresum(a, b):\n",
      "    X = max(a[0], 0)\n",
      "    for i in range(1, len(a)):\n",
      "        a[i] += a[i - 1]\n",
      "        X = max(X, a[i])\n",
      "    Y = max(b[0], 0)\n",
      "    for i in range(1, len(b)):\n",
      "        b[i] += b[i - 1]\n",
      "        Y = max(Y, b[i])\n",
      "    return X + Y\n",
      "\n",
      "\n",
      "A = [2, -1, 4, -5]\n",
      "B = [4, -3, 12, 4, -3]\n",
      "print(maxPresum(A, B))\n",
      "\n"
     ]
    }
   ],
   "source": [
    "print(train_df.loc[0].code)"
   ]
  },
  {
   "cell_type": "code",
   "execution_count": 10,
   "metadata": {},
   "outputs": [],
   "source": [
    "def save_file(path, code):\n",
    "    with open(path, 'w', encoding='utf-8') as file:\n",
    "        file.write(code)\n",
    "\n",
    "def save_to_code_file(directory, id, code, ext, pss=1):\n",
    "    save_file(f\"{directory}/question-{id}-raw-{pss}.{ext}\", code)"
   ]
  },
  {
   "cell_type": "code",
   "execution_count": 11,
   "metadata": {},
   "outputs": [],
   "source": [
    "PYTHON_SAVE_PATH = './code_files/python/'"
   ]
  },
  {
   "cell_type": "code",
   "execution_count": 12,
   "metadata": {},
   "outputs": [
    {
     "data": {
      "text/plain": [
       "0       None\n",
       "1       None\n",
       "2       None\n",
       "3       None\n",
       "4       None\n",
       "        ... \n",
       "9131    None\n",
       "9132    None\n",
       "9133    None\n",
       "9134    None\n",
       "9135    None\n",
       "Length: 9136, dtype: object"
      ]
     },
     "execution_count": 12,
     "metadata": {},
     "output_type": "execute_result"
    }
   ],
   "source": [
    "train_df.apply(lambda row: save_to_code_file(PYTHON_SAVE_PATH, row.id, row.code, \"py\"), axis=1)"
   ]
  },
  {
   "cell_type": "code",
   "execution_count": 9,
   "metadata": {},
   "outputs": [],
   "source": [
    "os.chdir(\"./code_files/python/\")"
   ]
  },
  {
   "cell_type": "code",
   "execution_count": 13,
   "metadata": {},
   "outputs": [
    {
     "data": {
      "application/vnd.jupyter.widget-view+json": {
       "model_id": "4656e273212343eaa17df36e2a0058d9",
       "version_major": 2,
       "version_minor": 0
      },
      "text/plain": [
       "  0%|          | 0/1001 [00:00<?, ?it/s]"
      ]
     },
     "metadata": {},
     "output_type": "display_data"
    }
   ],
   "source": [
    "folder_path = './'\n",
    "file_list = os.listdir(folder_path)\n",
    "\n",
    "for file_name in tqdm(file_list):\n",
    "    if file_name.endswith(\".py\"):\n",
    "        file_prefix = file_name.split(\".\")[0]\n",
    "        # command = f\"flake8 --format=json-pretty {folder_path}{file_name} > ./analysis_reports/{file_name}.json\"\n",
    "        proc = subprocess.Popen([\"flake8\", \"--format=json-pretty\", f\"{folder_path}{file_name}\"], stdout=open(f\"../../analysis_reports_python/{file_prefix}.json\", \"w\"), stderr=open(f\"../../analysis_reports_python/{file_prefix}.json\", \"w\"))\n",
    "        proc.wait()"
   ]
  }
 ],
 "metadata": {
  "kernelspec": {
   "display_name": "py11-env",
   "language": "python",
   "name": "python3"
  },
  "language_info": {
   "codemirror_mode": {
    "name": "ipython",
    "version": 3
   },
   "file_extension": ".py",
   "mimetype": "text/x-python",
   "name": "python",
   "nbconvert_exporter": "python",
   "pygments_lexer": "ipython3",
   "version": "3.11.6"
  }
 },
 "nbformat": 4,
 "nbformat_minor": 2
}
