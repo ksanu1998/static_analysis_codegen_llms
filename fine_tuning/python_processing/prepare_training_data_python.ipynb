{
 "cells": [
  {
   "cell_type": "code",
   "execution_count": 22,
   "metadata": {},
   "outputs": [],
   "source": [
    "import pandas as pd\n",
    "import numpy as np\n",
    "import json\n",
    "import os"
   ]
  },
  {
   "cell_type": "code",
   "execution_count": 23,
   "metadata": {},
   "outputs": [
    {
     "data": {
      "text/plain": [
       "(700, 700)"
      ]
     },
     "execution_count": 23,
     "metadata": {},
     "output_type": "execute_result"
    }
   ],
   "source": [
    "json_files = []\n",
    "orig_json_files = []\n",
    "\n",
    "for file in os.listdir('analysis_reports'):\n",
    "    if file.endswith('.json'):\n",
    "        with open(os.path.join('analysis_reports', file), 'r') as f:\n",
    "            json_files.append(json.load(f))\n",
    "\n",
    "for file in os.listdir('orig_analysis_reports'):\n",
    "    if file.endswith('.json'):\n",
    "        with open(os.path.join('orig_analysis_reports', file), 'r') as f:\n",
    "            orig_json_files.append(json.load(f))\n",
    "\n",
    "len(json_files), len(orig_json_files)"
   ]
  },
  {
   "cell_type": "code",
   "execution_count": 24,
   "metadata": {},
   "outputs": [
    {
     "data": {
      "text/plain": [
       "{'./files/question-884-pass-1.py': [{'code': 'F401',\n",
       "   'filename': './files/question-884-pass-1.py',\n",
       "   'line_number': 1,\n",
       "   'column_number': 1,\n",
       "   'text': \"'math' imported but unused\",\n",
       "   'physical_line': 'import math\\n'}]}"
      ]
     },
     "execution_count": 24,
     "metadata": {},
     "output_type": "execute_result"
    }
   ],
   "source": [
    "json_files[0]"
   ]
  },
  {
   "cell_type": "code",
   "execution_count": 25,
   "metadata": {},
   "outputs": [],
   "source": [
    "json_files_dict = {}\n",
    "orig_json_files_dict = {}\n",
    "\n",
    "for item in json_files:\n",
    "    key = list(item.keys())[0]\n",
    "    json_files_dict[key] = item[key]\n",
    "for item in orig_json_files:\n",
    "    key =list(item.keys())[0]\n",
    "    orig_json_files_dict[key] = item[key]\n"
   ]
  },
  {
   "cell_type": "code",
   "execution_count": 26,
   "metadata": {},
   "outputs": [],
   "source": [
    "json_files_dict = {key.split('/')[-1]: value for key, value in json_files_dict.items()}\n",
    "orig_json_files_dict = {key.split('/')[-1]: value for key, value in orig_json_files_dict.items()}"
   ]
  },
  {
   "cell_type": "code",
   "execution_count": 27,
   "metadata": {},
   "outputs": [],
   "source": [
    "filtered_keys = [key for key, value in orig_json_files_dict.items() if value == [] and json_files_dict[key] != []]"
   ]
  },
  {
   "cell_type": "code",
   "execution_count": 28,
   "metadata": {},
   "outputs": [
    {
     "data": {
      "text/plain": [
       "188"
      ]
     },
     "execution_count": 28,
     "metadata": {},
     "output_type": "execute_result"
    }
   ],
   "source": [
    "len(filtered_keys)"
   ]
  },
  {
   "cell_type": "code",
   "execution_count": 36,
   "metadata": {},
   "outputs": [],
   "source": [
    "orig_codes = {}\n",
    "for filename, errors in orig_json_files_dict.items():\n",
    "    for error in errors:\n",
    "        code = error['code']\n",
    "        if code not in orig_codes:\n",
    "            orig_codes[code] = {'files': [filename], 'count': 1, 'text': error['text']}\n",
    "        else:\n",
    "            data = orig_codes[code]\n",
    "            data['files'].append(filename)\n",
    "            data['count'] += 1"
   ]
  },
  {
   "cell_type": "code",
   "execution_count": 37,
   "metadata": {},
   "outputs": [
    {
     "data": {
      "text/plain": [
       "14"
      ]
     },
     "execution_count": 37,
     "metadata": {},
     "output_type": "execute_result"
    }
   ],
   "source": [
    "len(orig_codes)"
   ]
  },
  {
   "cell_type": "code",
   "execution_count": 42,
   "metadata": {},
   "outputs": [
    {
     "name": "stdout",
     "output_type": "stream",
     "text": [
      "F401 'math' imported but unused 11\n",
      "F841 local variable 'x' is assigned to but never used 20\n",
      "E501 line too long (110 > 79 characters) 23\n",
      "E999 SyntaxError: invalid syntax 56\n",
      "E741 ambiguous variable name 'l' 56\n",
      "F821 undefined name 'd2' 34\n",
      "E712 comparison to False should be 'if cond is False:' or 'if not cond:' 27\n",
      "E129 visually indented line with same indent as next logical line 1\n",
      "E251 unexpected spaces around keyword / parameter equals 10\n",
      "E221 multiple spaces before operator 5\n",
      "E502 the backslash is redundant between brackets 1\n",
      "F403 'from array import *' used; unable to detect undefined names 2\n",
      "F405 'ceil' may be undefined, or defined from star imports: array, math 1\n",
      "F823 local variable 'sum' defined as a builtin referenced before assignment 1\n"
     ]
    }
   ],
   "source": [
    "for code, data in orig_codes.items():\n",
    "    print(code, data['text'], data['count'])"
   ]
  },
  {
   "cell_type": "code",
   "execution_count": 39,
   "metadata": {},
   "outputs": [],
   "source": [
    "codes = {}\n",
    "for filename, errors in json_files_dict.items():\n",
    "    for error in errors:\n",
    "        code = error['code']\n",
    "        if code not in codes:\n",
    "            codes[code] = {'files': [filename], 'count': 1, 'text': error['text']}\n",
    "        else:\n",
    "            data = codes[code]\n",
    "            data['files'].append(filename)\n",
    "            data['count'] += 1"
   ]
  },
  {
   "cell_type": "code",
   "execution_count": 40,
   "metadata": {},
   "outputs": [
    {
     "data": {
      "text/plain": [
       "17"
      ]
     },
     "execution_count": 40,
     "metadata": {},
     "output_type": "execute_result"
    }
   ],
   "source": [
    "len(codes)"
   ]
  },
  {
   "cell_type": "code",
   "execution_count": 52,
   "metadata": {},
   "outputs": [
    {
     "name": "stdout",
     "output_type": "stream",
     "text": [
      "F401 'math' imported but unused 96\n",
      "E501 line too long (224 > 79 characters) 90\n",
      "F821 undefined name 'arr' 53\n",
      "E225 missing whitespace around operator 68\n"
     ]
    }
   ],
   "source": [
    "filenames = set()\n",
    "for code, data in codes.items():\n",
    "    if data['count'] > 50 and ( code not in orig_codes or orig_codes[code]['count'] < 50):\n",
    "        print(code, data['text'], data['count'])\n",
    "        for f in data['files']:\n",
    "            filenames.add(f)"
   ]
  },
  {
   "cell_type": "markdown",
   "metadata": {},
   "source": [
    "Codes to consider for fine tuning - F401, E501, F821"
   ]
  },
  {
   "cell_type": "code",
   "execution_count": 53,
   "metadata": {},
   "outputs": [
    {
     "data": {
      "text/plain": [
       "198"
      ]
     },
     "execution_count": 53,
     "metadata": {},
     "output_type": "execute_result"
    }
   ],
   "source": [
    "len(filenames)"
   ]
  },
  {
   "cell_type": "code",
   "execution_count": 54,
   "metadata": {},
   "outputs": [
    {
     "data": {
      "text/plain": [
       "240"
      ]
     },
     "execution_count": 54,
     "metadata": {},
     "output_type": "execute_result"
    }
   ],
   "source": [
    "for f in filtered_keys:\n",
    "    filenames.add(f)\n",
    "\n",
    "len(filenames)"
   ]
  },
  {
   "cell_type": "code",
   "execution_count": 66,
   "metadata": {},
   "outputs": [],
   "source": [
    "response_codes = {}\n",
    "for filename in filenames:\n",
    "    with open('files/' + filename, 'r') as file:\n",
    "        data = file.read()\n",
    "        id = int(filename.split('-')[1])\n",
    "        response_codes[id] = data"
   ]
  },
  {
   "cell_type": "code",
   "execution_count": 67,
   "metadata": {},
   "outputs": [],
   "source": [
    "orig_codes = {}\n",
    "for filename in filenames:\n",
    "    with open('orig_files/' + filename, 'r') as file:\n",
    "        data = file.read()\n",
    "        id = int(filename.split('-')[1])\n",
    "        orig_codes[id] = data"
   ]
  },
  {
   "cell_type": "code",
   "execution_count": 68,
   "metadata": {},
   "outputs": [
    {
     "data": {
      "text/plain": [
       "(240, 240)"
      ]
     },
     "execution_count": 68,
     "metadata": {},
     "output_type": "execute_result"
    }
   ],
   "source": [
    "len(response_codes), len(orig_codes)"
   ]
  },
  {
   "cell_type": "code",
   "execution_count": 70,
   "metadata": {},
   "outputs": [
    {
     "name": "stdout",
     "output_type": "stream",
     "text": [
      "from bisect import bisect_left\n",
      "\n",
      "\n",
      "def smallestPermutation(arr, N):\n",
      "    # Create a list of indices from 0 to N-1\n",
      "    indices = list(range(N))\n",
      "\n",
      "    # Sort the indices based on the value of arr at that index\n",
      "    indices.sort(key=lambda i: arr[i])\n",
      "\n",
      "    # Return the sorted indices\n",
      "    return indices\n",
      "\n"
     ]
    }
   ],
   "source": [
    "print(response_codes[756])"
   ]
  },
  {
   "cell_type": "code",
   "execution_count": 71,
   "metadata": {},
   "outputs": [
    {
     "data": {
      "text/html": [
       "<div>\n",
       "<style scoped>\n",
       "    .dataframe tbody tr th:only-of-type {\n",
       "        vertical-align: middle;\n",
       "    }\n",
       "\n",
       "    .dataframe tbody tr th {\n",
       "        vertical-align: top;\n",
       "    }\n",
       "\n",
       "    .dataframe thead th {\n",
       "        text-align: right;\n",
       "    }\n",
       "</style>\n",
       "<table border=\"1\" class=\"dataframe\">\n",
       "  <thead>\n",
       "    <tr style=\"text-align: right;\">\n",
       "      <th></th>\n",
       "      <th>id</th>\n",
       "      <th>text</th>\n",
       "      <th>code</th>\n",
       "      <th>question</th>\n",
       "      <th>functions</th>\n",
       "      <th>code_context</th>\n",
       "      <th>context</th>\n",
       "      <th>llama_prompt</th>\n",
       "      <th>response</th>\n",
       "    </tr>\n",
       "  </thead>\n",
       "  <tbody>\n",
       "    <tr>\n",
       "      <th>0</th>\n",
       "      <td>302</td>\n",
       "      <td>Sum of the first N terms of the series 5 , 12 ...</td>\n",
       "      <td>def calculateSum(n):\\n    return (2 * (n * (n ...</td>\n",
       "      <td>Sum of the first N terms of the series 5 , 12 ...</td>\n",
       "      <td>['def calculateSum(n):']</td>\n",
       "      <td>def calculateSum(n):</td>\n",
       "      <td>def calculateSum(n):</td>\n",
       "      <td>&lt;s&gt;[INST]&lt;&lt;SYS&gt;&gt;\\nProvide answers in Python. W...</td>\n",
       "      <td>&lt;s&gt;[INST]&lt;&lt;SYS&gt;&gt;\\nProvide answers in Python. W...</td>\n",
       "    </tr>\n",
       "    <tr>\n",
       "      <th>1</th>\n",
       "      <td>303</td>\n",
       "      <td>Program to find number of solutions in Quadrat...</td>\n",
       "      <td>def checkSolution(a, b, c):\\n    if ((b * b) -...</td>\n",
       "      <td>Program to find number of solutions in Quadrat...</td>\n",
       "      <td>['def checkSolution(a, b, c):']</td>\n",
       "      <td>def checkSolution(a, b, c):</td>\n",
       "      <td>def checkSolution(a, b, c):</td>\n",
       "      <td>&lt;s&gt;[INST]&lt;&lt;SYS&gt;&gt;\\nProvide answers in Python. W...</td>\n",
       "      <td>&lt;s&gt;[INST]&lt;&lt;SYS&gt;&gt;\\nProvide answers in Python. W...</td>\n",
       "    </tr>\n",
       "    <tr>\n",
       "      <th>2</th>\n",
       "      <td>304</td>\n",
       "      <td>Program to convert KiloBytes to Bytes and Bits...</td>\n",
       "      <td>def Bits(kilobytes):\\n    Bits = kilobytes * 8...</td>\n",
       "      <td>Program to convert KiloBytes to Bytes and Bits.</td>\n",
       "      <td>['def Bits(kilobytes):', 'def Bytes(kilobytes):']</td>\n",
       "      <td>def Bits(kilobytes):</td>\n",
       "      <td>def Bits(kilobytes):</td>\n",
       "      <td>&lt;s&gt;[INST]&lt;&lt;SYS&gt;&gt;\\nProvide answers in Python. W...</td>\n",
       "      <td>&lt;s&gt;[INST]&lt;&lt;SYS&gt;&gt;\\nProvide answers in Python. W...</td>\n",
       "    </tr>\n",
       "    <tr>\n",
       "      <th>3</th>\n",
       "      <td>306</td>\n",
       "      <td>Find sum of the series ? 3 + ? 12 + ... ... .....</td>\n",
       "      <td>import math\\n\\n\\ndef findSum(n):\\n    return m...</td>\n",
       "      <td>Find sum of the series ? 3 + ? 12 + ... ... .....</td>\n",
       "      <td>['def findSum(n):']</td>\n",
       "      <td>import math\\n\\n\\ndef findSum(n):</td>\n",
       "      <td>import math\\n\\n\\ndef findSum(n):</td>\n",
       "      <td>&lt;s&gt;[INST]&lt;&lt;SYS&gt;&gt;\\nProvide answers in Python. W...</td>\n",
       "      <td>&lt;s&gt;[INST]&lt;&lt;SYS&gt;&gt;\\nProvide answers in Python. W...</td>\n",
       "    </tr>\n",
       "    <tr>\n",
       "      <th>4</th>\n",
       "      <td>307</td>\n",
       "      <td>Find the sum of the series x ( x + y ) + x ^ 2...</td>\n",
       "      <td>def sum(x, y, n):\\n    sum1 = ((x ** 2) * (x *...</td>\n",
       "      <td>Find the sum of the series x ( x + y ) + x ^ 2...</td>\n",
       "      <td>['def sum(x, y, n):']</td>\n",
       "      <td>def sum(x, y, n):</td>\n",
       "      <td>def sum(x, y, n):</td>\n",
       "      <td>&lt;s&gt;[INST]&lt;&lt;SYS&gt;&gt;\\nProvide answers in Python. W...</td>\n",
       "      <td>&lt;s&gt;[INST]&lt;&lt;SYS&gt;&gt;\\nProvide answers in Python. W...</td>\n",
       "    </tr>\n",
       "  </tbody>\n",
       "</table>\n",
       "</div>"
      ],
      "text/plain": [
       "    id                                               text  \\\n",
       "0  302  Sum of the first N terms of the series 5 , 12 ...   \n",
       "1  303  Program to find number of solutions in Quadrat...   \n",
       "2  304  Program to convert KiloBytes to Bytes and Bits...   \n",
       "3  306  Find sum of the series ? 3 + ? 12 + ... ... .....   \n",
       "4  307  Find the sum of the series x ( x + y ) + x ^ 2...   \n",
       "\n",
       "                                                code  \\\n",
       "0  def calculateSum(n):\\n    return (2 * (n * (n ...   \n",
       "1  def checkSolution(a, b, c):\\n    if ((b * b) -...   \n",
       "2  def Bits(kilobytes):\\n    Bits = kilobytes * 8...   \n",
       "3  import math\\n\\n\\ndef findSum(n):\\n    return m...   \n",
       "4  def sum(x, y, n):\\n    sum1 = ((x ** 2) * (x *...   \n",
       "\n",
       "                                            question  \\\n",
       "0  Sum of the first N terms of the series 5 , 12 ...   \n",
       "1  Program to find number of solutions in Quadrat...   \n",
       "2    Program to convert KiloBytes to Bytes and Bits.   \n",
       "3  Find sum of the series ? 3 + ? 12 + ... ... .....   \n",
       "4  Find the sum of the series x ( x + y ) + x ^ 2...   \n",
       "\n",
       "                                           functions  \\\n",
       "0                           ['def calculateSum(n):']   \n",
       "1                    ['def checkSolution(a, b, c):']   \n",
       "2  ['def Bits(kilobytes):', 'def Bytes(kilobytes):']   \n",
       "3                                ['def findSum(n):']   \n",
       "4                              ['def sum(x, y, n):']   \n",
       "\n",
       "                       code_context                           context  \\\n",
       "0              def calculateSum(n):              def calculateSum(n):   \n",
       "1       def checkSolution(a, b, c):       def checkSolution(a, b, c):   \n",
       "2              def Bits(kilobytes):              def Bits(kilobytes):   \n",
       "3  import math\\n\\n\\ndef findSum(n):  import math\\n\\n\\ndef findSum(n):   \n",
       "4                 def sum(x, y, n):                 def sum(x, y, n):   \n",
       "\n",
       "                                        llama_prompt  \\\n",
       "0  <s>[INST]<<SYS>>\\nProvide answers in Python. W...   \n",
       "1  <s>[INST]<<SYS>>\\nProvide answers in Python. W...   \n",
       "2  <s>[INST]<<SYS>>\\nProvide answers in Python. W...   \n",
       "3  <s>[INST]<<SYS>>\\nProvide answers in Python. W...   \n",
       "4  <s>[INST]<<SYS>>\\nProvide answers in Python. W...   \n",
       "\n",
       "                                            response  \n",
       "0  <s>[INST]<<SYS>>\\nProvide answers in Python. W...  \n",
       "1  <s>[INST]<<SYS>>\\nProvide answers in Python. W...  \n",
       "2  <s>[INST]<<SYS>>\\nProvide answers in Python. W...  \n",
       "3  <s>[INST]<<SYS>>\\nProvide answers in Python. W...  \n",
       "4  <s>[INST]<<SYS>>\\nProvide answers in Python. W...  "
      ]
     },
     "execution_count": 71,
     "metadata": {},
     "output_type": "execute_result"
    }
   ],
   "source": [
    "response_df = pd.read_csv('./train_response_300_1000.csv')\n",
    "response_df.head()"
   ]
  },
  {
   "cell_type": "code",
   "execution_count": 74,
   "metadata": {},
   "outputs": [
    {
     "data": {
      "text/html": [
       "<div>\n",
       "<style scoped>\n",
       "    .dataframe tbody tr th:only-of-type {\n",
       "        vertical-align: middle;\n",
       "    }\n",
       "\n",
       "    .dataframe tbody tr th {\n",
       "        vertical-align: top;\n",
       "    }\n",
       "\n",
       "    .dataframe thead th {\n",
       "        text-align: right;\n",
       "    }\n",
       "</style>\n",
       "<table border=\"1\" class=\"dataframe\">\n",
       "  <thead>\n",
       "    <tr style=\"text-align: right;\">\n",
       "      <th></th>\n",
       "      <th>id</th>\n",
       "      <th>prompt</th>\n",
       "      <th>accepted_code</th>\n",
       "      <th>rejected_code</th>\n",
       "    </tr>\n",
       "  </thead>\n",
       "  <tbody>\n",
       "    <tr>\n",
       "      <th>3</th>\n",
       "      <td>306</td>\n",
       "      <td>&lt;s&gt;[INST]&lt;&lt;SYS&gt;&gt;\\nProvide answers in Python. W...</td>\n",
       "      <td>import math\\n\\n\\ndef findSum(n):\\n    return m...</td>\n",
       "      <td>import math\\n\\n\\ndef findSum(n):\\n    return (...</td>\n",
       "    </tr>\n",
       "    <tr>\n",
       "      <th>4</th>\n",
       "      <td>307</td>\n",
       "      <td>&lt;s&gt;[INST]&lt;&lt;SYS&gt;&gt;\\nProvide answers in Python. W...</td>\n",
       "      <td>def sum(x, y, n):\\n    sum1 = ((x ** 2) * (x *...</td>\n",
       "      <td>def sum(x, y, n):\\n    return sum([x * (x + y)...</td>\n",
       "    </tr>\n",
       "    <tr>\n",
       "      <th>10</th>\n",
       "      <td>313</td>\n",
       "      <td>&lt;s&gt;[INST]&lt;&lt;SYS&gt;&gt;\\nProvide answers in Python. W...</td>\n",
       "      <td>dp = [[-1 for j in range(500)]for i in range(5...</td>\n",
       "      <td>dp = [[-1 for j in range(500)]for i in range(5...</td>\n",
       "    </tr>\n",
       "    <tr>\n",
       "      <th>16</th>\n",
       "      <td>319</td>\n",
       "      <td>&lt;s&gt;[INST]&lt;&lt;SYS&gt;&gt;\\nProvide answers in Python. W...</td>\n",
       "      <td>import sys\\n\\n\\ndef maximumOccurrence(s):\\n   ...</td>\n",
       "      <td>import sys\\n\\n\\ndef maximumOccurrence(s):\\n   ...</td>\n",
       "    </tr>\n",
       "    <tr>\n",
       "      <th>17</th>\n",
       "      <td>320</td>\n",
       "      <td>&lt;s&gt;[INST]&lt;&lt;SYS&gt;&gt;\\nProvide answers in Python. W...</td>\n",
       "      <td>mod = 1000000007\\ndp = [[[-1 for i in range(2)...</td>\n",
       "      <td>mod = 1000000007\\ndp = [[[-1 for i in range(2)...</td>\n",
       "    </tr>\n",
       "  </tbody>\n",
       "</table>\n",
       "</div>"
      ],
      "text/plain": [
       "     id                                             prompt  \\\n",
       "3   306  <s>[INST]<<SYS>>\\nProvide answers in Python. W...   \n",
       "4   307  <s>[INST]<<SYS>>\\nProvide answers in Python. W...   \n",
       "10  313  <s>[INST]<<SYS>>\\nProvide answers in Python. W...   \n",
       "16  319  <s>[INST]<<SYS>>\\nProvide answers in Python. W...   \n",
       "17  320  <s>[INST]<<SYS>>\\nProvide answers in Python. W...   \n",
       "\n",
       "                                        accepted_code  \\\n",
       "3   import math\\n\\n\\ndef findSum(n):\\n    return m...   \n",
       "4   def sum(x, y, n):\\n    sum1 = ((x ** 2) * (x *...   \n",
       "10  dp = [[-1 for j in range(500)]for i in range(5...   \n",
       "16  import sys\\n\\n\\ndef maximumOccurrence(s):\\n   ...   \n",
       "17  mod = 1000000007\\ndp = [[[-1 for i in range(2)...   \n",
       "\n",
       "                                        rejected_code  \n",
       "3   import math\\n\\n\\ndef findSum(n):\\n    return (...  \n",
       "4   def sum(x, y, n):\\n    return sum([x * (x + y)...  \n",
       "10  dp = [[-1 for j in range(500)]for i in range(5...  \n",
       "16  import sys\\n\\n\\ndef maximumOccurrence(s):\\n   ...  \n",
       "17  mod = 1000000007\\ndp = [[[-1 for i in range(2)...  "
      ]
     },
     "execution_count": 74,
     "metadata": {},
     "output_type": "execute_result"
    }
   ],
   "source": [
    "df = pd.DataFrame({'id': response_df['id'], 'prompt': response_df['llama_prompt']})\n",
    "df = df[df['id'].isin(response_codes.keys())]\n",
    "\n",
    "df['accepted_code'] = df['id'].map(lambda key: orig_codes[key])\n",
    "df['rejected_code'] = df['id'].map(lambda key: response_codes[key])\n",
    "df.head()"
   ]
  },
  {
   "cell_type": "code",
   "execution_count": null,
   "metadata": {},
   "outputs": [],
   "source": []
  }
 ],
 "metadata": {
  "kernelspec": {
   "display_name": "py11-env",
   "language": "python",
   "name": "python3"
  },
  "language_info": {
   "codemirror_mode": {
    "name": "ipython",
    "version": 3
   },
   "file_extension": ".py",
   "mimetype": "text/x-python",
   "name": "python",
   "nbconvert_exporter": "python",
   "pygments_lexer": "ipython3",
   "version": "3.11.6"
  }
 },
 "nbformat": 4,
 "nbformat_minor": 2
}
