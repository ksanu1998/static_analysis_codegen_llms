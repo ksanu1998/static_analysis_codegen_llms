{
 "cells": [
  {
   "cell_type": "code",
   "execution_count": 1,
   "metadata": {},
   "outputs": [
    {
     "name": "stderr",
     "output_type": "stream",
     "text": [
      "/Users/abhishekanand/miniforge3/envs/py11-env/lib/python3.11/site-packages/tqdm/auto.py:21: TqdmWarning: IProgress not found. Please update jupyter and ipywidgets. See https://ipywidgets.readthedocs.io/en/stable/user_install.html\n",
      "  from .autonotebook import tqdm as notebook_tqdm\n"
     ]
    }
   ],
   "source": [
    "from datasets import load_dataset"
   ]
  },
  {
   "cell_type": "code",
   "execution_count": 20,
   "metadata": {},
   "outputs": [
    {
     "name": "stdout",
     "output_type": "stream",
     "text": [
      "<class 'pandas.core.frame.DataFrame'>\n",
      "RangeIndex: 9797 entries, 0 to 9796\n",
      "Data columns (total 2 columns):\n",
      " #   Column  Non-Null Count  Dtype \n",
      "---  ------  --------------  ----- \n",
      " 0   text    9797 non-null   object\n",
      " 1   code    9797 non-null   object\n",
      "dtypes: object(2)\n",
      "memory usage: 153.2+ KB\n"
     ]
    }
   ],
   "source": [
    "dataset = load_dataset(\"codeparrot/xlcost-text-to-code\", \"C++-program-level\")\n",
    "train_df = dataset['train'].to_pandas().dropna()\n",
    "val_df = dataset['validation'].to_pandas().dropna()\n",
    "test_df = dataset['test'].to_pandas().dropna()\n",
    "train_df.info()"
   ]
  },
  {
   "cell_type": "code",
   "execution_count": 21,
   "metadata": {},
   "outputs": [
    {
     "data": {
      "text/html": [
       "<div>\n",
       "<style scoped>\n",
       "    .dataframe tbody tr th:only-of-type {\n",
       "        vertical-align: middle;\n",
       "    }\n",
       "\n",
       "    .dataframe tbody tr th {\n",
       "        vertical-align: top;\n",
       "    }\n",
       "\n",
       "    .dataframe thead th {\n",
       "        text-align: right;\n",
       "    }\n",
       "</style>\n",
       "<table border=\"1\" class=\"dataframe\">\n",
       "  <thead>\n",
       "    <tr style=\"text-align: right;\">\n",
       "      <th></th>\n",
       "      <th>text</th>\n",
       "      <th>code</th>\n",
       "    </tr>\n",
       "  </thead>\n",
       "  <tbody>\n",
       "    <tr>\n",
       "      <th>0</th>\n",
       "      <td>Maximum Prefix Sum possible by merging two giv...</td>\n",
       "      <td>#include &lt;bits/stdc++.h&gt; NEW_LINE using namesp...</td>\n",
       "    </tr>\n",
       "    <tr>\n",
       "      <th>1</th>\n",
       "      <td>Check if a number can be represented as sum of...</td>\n",
       "      <td>#include &lt;bits/stdc++.h&gt; NEW_LINE using namesp...</td>\n",
       "    </tr>\n",
       "    <tr>\n",
       "      <th>2</th>\n",
       "      <td>Generate an N | C ++ program for the above app...</td>\n",
       "      <td>#include &lt;bits/stdc++.h&gt; NEW_LINE using namesp...</td>\n",
       "    </tr>\n",
       "    <tr>\n",
       "      <th>3</th>\n",
       "      <td>Nth natural number after removing all numbers ...</td>\n",
       "      <td>#include &lt;bits/stdc++.h&gt; NEW_LINE using namesp...</td>\n",
       "    </tr>\n",
       "    <tr>\n",
       "      <th>4</th>\n",
       "      <td>Check if an integer is rotation of another giv...</td>\n",
       "      <td>#include &lt;bits/stdc++.h&gt; NEW_LINE using namesp...</td>\n",
       "    </tr>\n",
       "  </tbody>\n",
       "</table>\n",
       "</div>"
      ],
      "text/plain": [
       "                                                text  \\\n",
       "0  Maximum Prefix Sum possible by merging two giv...   \n",
       "1  Check if a number can be represented as sum of...   \n",
       "2  Generate an N | C ++ program for the above app...   \n",
       "3  Nth natural number after removing all numbers ...   \n",
       "4  Check if an integer is rotation of another giv...   \n",
       "\n",
       "                                                code  \n",
       "0  #include <bits/stdc++.h> NEW_LINE using namesp...  \n",
       "1  #include <bits/stdc++.h> NEW_LINE using namesp...  \n",
       "2  #include <bits/stdc++.h> NEW_LINE using namesp...  \n",
       "3  #include <bits/stdc++.h> NEW_LINE using namesp...  \n",
       "4  #include <bits/stdc++.h> NEW_LINE using namesp...  "
      ]
     },
     "execution_count": 21,
     "metadata": {},
     "output_type": "execute_result"
    }
   ],
   "source": [
    "train_df.head()"
   ]
  },
  {
   "cell_type": "code",
   "execution_count": 22,
   "metadata": {},
   "outputs": [
    {
     "data": {
      "text/plain": [
       "'Maximum Prefix Sum possible by merging two given arrays | C ++ Program to implement the above approach ; Stores the maximum prefix sum of the array A [ ] ; Traverse the array A [ ] ; Stores the maximum prefix sum of the array B [ ] ; Traverse the array B [ ] ; Driver code'"
      ]
     },
     "execution_count": 22,
     "metadata": {},
     "output_type": "execute_result"
    }
   ],
   "source": [
    "train_df.loc[0]['text']"
   ]
  },
  {
   "cell_type": "code",
   "execution_count": 25,
   "metadata": {},
   "outputs": [
    {
     "data": {
      "text/html": [
       "<div>\n",
       "<style scoped>\n",
       "    .dataframe tbody tr th:only-of-type {\n",
       "        vertical-align: middle;\n",
       "    }\n",
       "\n",
       "    .dataframe tbody tr th {\n",
       "        vertical-align: top;\n",
       "    }\n",
       "\n",
       "    .dataframe thead th {\n",
       "        text-align: right;\n",
       "    }\n",
       "</style>\n",
       "<table border=\"1\" class=\"dataframe\">\n",
       "  <thead>\n",
       "    <tr style=\"text-align: right;\">\n",
       "      <th></th>\n",
       "      <th>text</th>\n",
       "      <th>code</th>\n",
       "      <th>question</th>\n",
       "    </tr>\n",
       "    <tr>\n",
       "      <th>id</th>\n",
       "      <th></th>\n",
       "      <th></th>\n",
       "      <th></th>\n",
       "    </tr>\n",
       "  </thead>\n",
       "  <tbody>\n",
       "    <tr>\n",
       "      <th>0</th>\n",
       "      <td>Maximum Prefix Sum possible by merging two giv...</td>\n",
       "      <td>#include &lt;bits/stdc++.h&gt; NEW_LINE using namesp...</td>\n",
       "      <td>Maximum Prefix Sum possible by merging two giv...</td>\n",
       "    </tr>\n",
       "    <tr>\n",
       "      <th>1</th>\n",
       "      <td>Check if a number can be represented as sum of...</td>\n",
       "      <td>#include &lt;bits/stdc++.h&gt; NEW_LINE using namesp...</td>\n",
       "      <td>Check if a number can be represented as sum of...</td>\n",
       "    </tr>\n",
       "    <tr>\n",
       "      <th>2</th>\n",
       "      <td>Generate an N | C ++ program for the above app...</td>\n",
       "      <td>#include &lt;bits/stdc++.h&gt; NEW_LINE using namesp...</td>\n",
       "      <td>Generate an N.</td>\n",
       "    </tr>\n",
       "    <tr>\n",
       "      <th>3</th>\n",
       "      <td>Nth natural number after removing all numbers ...</td>\n",
       "      <td>#include &lt;bits/stdc++.h&gt; NEW_LINE using namesp...</td>\n",
       "      <td>Nth natural number after removing all numbers ...</td>\n",
       "    </tr>\n",
       "    <tr>\n",
       "      <th>4</th>\n",
       "      <td>Check if an integer is rotation of another giv...</td>\n",
       "      <td>#include &lt;bits/stdc++.h&gt; NEW_LINE using namesp...</td>\n",
       "      <td>Check if an integer is rotation of another giv...</td>\n",
       "    </tr>\n",
       "  </tbody>\n",
       "</table>\n",
       "</div>"
      ],
      "text/plain": [
       "                                                 text  \\\n",
       "id                                                      \n",
       "0   Maximum Prefix Sum possible by merging two giv...   \n",
       "1   Check if a number can be represented as sum of...   \n",
       "2   Generate an N | C ++ program for the above app...   \n",
       "3   Nth natural number after removing all numbers ...   \n",
       "4   Check if an integer is rotation of another giv...   \n",
       "\n",
       "                                                 code  \\\n",
       "id                                                      \n",
       "0   #include <bits/stdc++.h> NEW_LINE using namesp...   \n",
       "1   #include <bits/stdc++.h> NEW_LINE using namesp...   \n",
       "2   #include <bits/stdc++.h> NEW_LINE using namesp...   \n",
       "3   #include <bits/stdc++.h> NEW_LINE using namesp...   \n",
       "4   #include <bits/stdc++.h> NEW_LINE using namesp...   \n",
       "\n",
       "                                             question  \n",
       "id                                                     \n",
       "0   Maximum Prefix Sum possible by merging two giv...  \n",
       "1   Check if a number can be represented as sum of...  \n",
       "2                                      Generate an N.  \n",
       "3   Nth natural number after removing all numbers ...  \n",
       "4   Check if an integer is rotation of another giv...  "
      ]
     },
     "execution_count": 25,
     "metadata": {},
     "output_type": "execute_result"
    }
   ],
   "source": [
    "train_df['question'] = train_df['text'].apply(lambda text: text.split('|')[0].strip() + '.')\n",
    "val_df['question'] = val_df['text'].apply(lambda text: text.split('|')[0].strip() + '.')\n",
    "test_df['question'] = test_df['text'].apply(lambda text: text.split('|')[0].strip() + '.')\n",
    "\n",
    "train_df['id'] = range(len(train_df))\n",
    "train_df.set_index('id', inplace=True)\n",
    "\n",
    "val_df['id'] = range(len(val_df))\n",
    "val_df.set_index('id', inplace=True)\n",
    "\n",
    "test_df['id'] = range(len(test_df))\n",
    "test_df.set_index('id', inplace=True)\n",
    "\n",
    "train_df.head()"
   ]
  },
  {
   "cell_type": "code",
   "execution_count": 26,
   "metadata": {},
   "outputs": [],
   "source": [
    "train_df.to_csv('data/train.csv')\n",
    "val_df.to_csv('data/val.csv')\n",
    "test_df.to_csv('data/test.csv')"
   ]
  },
  {
   "cell_type": "code",
   "execution_count": null,
   "metadata": {},
   "outputs": [],
   "source": []
  }
 ],
 "metadata": {
  "kernelspec": {
   "display_name": "py11-env",
   "language": "python",
   "name": "python3"
  },
  "language_info": {
   "codemirror_mode": {
    "name": "ipython",
    "version": 3
   },
   "file_extension": ".py",
   "mimetype": "text/x-python",
   "name": "python",
   "nbconvert_exporter": "python",
   "pygments_lexer": "ipython3",
   "version": "3.11.6"
  },
  "orig_nbformat": 4
 },
 "nbformat": 4,
 "nbformat_minor": 2
}
