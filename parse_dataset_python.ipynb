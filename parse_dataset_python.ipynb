{
 "cells": [
  {
   "cell_type": "code",
   "execution_count": 1,
   "metadata": {},
   "outputs": [],
   "source": [
    "import re\n",
    "import numpy as np\n",
    "import pandas as pd"
   ]
  },
  {
   "cell_type": "code",
   "execution_count": 73,
   "metadata": {},
   "outputs": [],
   "source": [
    "reg_exp = \"def\\s+[\\w]+\\s*\\(.*?\\):\""
   ]
  },
  {
   "cell_type": "code",
   "execution_count": 74,
   "metadata": {},
   "outputs": [],
   "source": [
    "def extract_context(code):\n",
    "    match = re.search(reg_exp, code)\n",
    "    if match:\n",
    "        return code[:match.end()]\n",
    "    return \"\""
   ]
  },
  {
   "cell_type": "code",
   "execution_count": 75,
   "metadata": {},
   "outputs": [
    {
     "data": {
      "text/plain": [
       "['def maxPresum(a, b):']"
      ]
     },
     "execution_count": 75,
     "metadata": {},
     "output_type": "execute_result"
    }
   ],
   "source": [
    "re.findall(reg_exp, 'def maxPresum(a, b):\\n    X = max(a[0], 0)\\n    for i in range(1, len(a)):\\n        a[i] += a[i - 1]\\n        X = max(X, a[i])\\n    Y = max(b[0], 0)\\n    for i in range(1, len(b)):\\n        b[i] += b[i - 1]\\n        Y = max(Y, b[i])\\n    return X + Y\\n\\n\\nA = [2, -1, 4, -5]\\nB = [4, -3, 12, 4, -3]\\nprint(maxPresum(A, B))\\n')"
   ]
  },
  {
   "cell_type": "code",
   "execution_count": 78,
   "metadata": {},
   "outputs": [],
   "source": [
    "def build_context(df):\n",
    "    print(f\"Number of rows in the dataset: {len(df)}\")\n",
    "    # Finding all functions signature in the code\n",
    "    df['functions'] = df['code'].apply(lambda x: re.findall(reg_exp, x))\n",
    "    # Retaining only rows with number of functions = 2 and main is not the first function in the code\n",
    "    df_first_func = df[df['functions'].apply(lambda x: len(x) >= 1 and 'main' not in x[0])].copy()\n",
    "    # extracting code_context as code until the first function signature which we want the model to complete along with driver code.\n",
    "    df_first_func['code_context'] = df_first_func['code'].apply(lambda code: extract_context(code))\n",
    "\n",
    "    print(f\"Number of processed rows in the final dataset: {len(df_first_func)}\")\n",
    "    return df_first_func"
   ]
  },
  {
   "cell_type": "code",
   "execution_count": 79,
   "metadata": {},
   "outputs": [
    {
     "name": "stdout",
     "output_type": "stream",
     "text": [
      "Number of rows in the dataset: 9262\n",
      "Number of processed rows in the final dataset: 9136\n"
     ]
    },
    {
     "data": {
      "text/html": [
       "<div>\n",
       "<style scoped>\n",
       "    .dataframe tbody tr th:only-of-type {\n",
       "        vertical-align: middle;\n",
       "    }\n",
       "\n",
       "    .dataframe tbody tr th {\n",
       "        vertical-align: top;\n",
       "    }\n",
       "\n",
       "    .dataframe thead th {\n",
       "        text-align: right;\n",
       "    }\n",
       "</style>\n",
       "<table border=\"1\" class=\"dataframe\">\n",
       "  <thead>\n",
       "    <tr style=\"text-align: right;\">\n",
       "      <th></th>\n",
       "      <th>id</th>\n",
       "      <th>text</th>\n",
       "      <th>code</th>\n",
       "      <th>question</th>\n",
       "      <th>functions</th>\n",
       "      <th>code_context</th>\n",
       "    </tr>\n",
       "  </thead>\n",
       "  <tbody>\n",
       "    <tr>\n",
       "      <th>0</th>\n",
       "      <td>0</td>\n",
       "      <td>Maximum Prefix Sum possible by merging two giv...</td>\n",
       "      <td>def maxPresum(a, b):\\n    X = max(a[0], 0)\\n  ...</td>\n",
       "      <td>Maximum Prefix Sum possible by merging two giv...</td>\n",
       "      <td>[def maxPresum(a, b):]</td>\n",
       "      <td>def maxPresum(a, b):</td>\n",
       "    </tr>\n",
       "    <tr>\n",
       "      <th>1</th>\n",
       "      <td>1</td>\n",
       "      <td>Check if a number can be represented as sum of...</td>\n",
       "      <td>import math\\n\\n\\ndef sumOfTwoCubes(n):\\n    lo...</td>\n",
       "      <td>Check if a number can be represented as sum of...</td>\n",
       "      <td>[def sumOfTwoCubes(n):]</td>\n",
       "      <td>import math\\n\\n\\ndef sumOfTwoCubes(n):</td>\n",
       "    </tr>\n",
       "    <tr>\n",
       "      <th>2</th>\n",
       "      <td>2</td>\n",
       "      <td>Generate an N | Python3 program for the above ...</td>\n",
       "      <td>sieve = [1] * (1000000 + 1)\\n\\n\\ndef sieveOfPr...</td>\n",
       "      <td>Generate an N.</td>\n",
       "      <td>[def sieveOfPrimes():, def getArray(arr, N):]</td>\n",
       "      <td>sieve = [1] * (1000000 + 1)\\n\\n\\ndef sieveOfPr...</td>\n",
       "    </tr>\n",
       "    <tr>\n",
       "      <th>3</th>\n",
       "      <td>3</td>\n",
       "      <td>Nth natural number after removing all numbers ...</td>\n",
       "      <td>def findNthNumber(N):\\n    result = 0\\n    p =...</td>\n",
       "      <td>Nth natural number after removing all numbers ...</td>\n",
       "      <td>[def findNthNumber(N):]</td>\n",
       "      <td>def findNthNumber(N):</td>\n",
       "    </tr>\n",
       "    <tr>\n",
       "      <th>4</th>\n",
       "      <td>4</td>\n",
       "      <td>Check if an integer is rotation of another giv...</td>\n",
       "      <td>import math\\n\\n\\ndef check(A, B):\\n    if (A =...</td>\n",
       "      <td>Check if an integer is rotation of another giv...</td>\n",
       "      <td>[def check(A, B):]</td>\n",
       "      <td>import math\\n\\n\\ndef check(A, B):</td>\n",
       "    </tr>\n",
       "  </tbody>\n",
       "</table>\n",
       "</div>"
      ],
      "text/plain": [
       "   id                                               text  \\\n",
       "0   0  Maximum Prefix Sum possible by merging two giv...   \n",
       "1   1  Check if a number can be represented as sum of...   \n",
       "2   2  Generate an N | Python3 program for the above ...   \n",
       "3   3  Nth natural number after removing all numbers ...   \n",
       "4   4  Check if an integer is rotation of another giv...   \n",
       "\n",
       "                                                code  \\\n",
       "0  def maxPresum(a, b):\\n    X = max(a[0], 0)\\n  ...   \n",
       "1  import math\\n\\n\\ndef sumOfTwoCubes(n):\\n    lo...   \n",
       "2  sieve = [1] * (1000000 + 1)\\n\\n\\ndef sieveOfPr...   \n",
       "3  def findNthNumber(N):\\n    result = 0\\n    p =...   \n",
       "4  import math\\n\\n\\ndef check(A, B):\\n    if (A =...   \n",
       "\n",
       "                                            question  \\\n",
       "0  Maximum Prefix Sum possible by merging two giv...   \n",
       "1  Check if a number can be represented as sum of...   \n",
       "2                                     Generate an N.   \n",
       "3  Nth natural number after removing all numbers ...   \n",
       "4  Check if an integer is rotation of another giv...   \n",
       "\n",
       "                                       functions  \\\n",
       "0                         [def maxPresum(a, b):]   \n",
       "1                        [def sumOfTwoCubes(n):]   \n",
       "2  [def sieveOfPrimes():, def getArray(arr, N):]   \n",
       "3                        [def findNthNumber(N):]   \n",
       "4                             [def check(A, B):]   \n",
       "\n",
       "                                        code_context  \n",
       "0                               def maxPresum(a, b):  \n",
       "1             import math\\n\\n\\ndef sumOfTwoCubes(n):  \n",
       "2  sieve = [1] * (1000000 + 1)\\n\\n\\ndef sieveOfPr...  \n",
       "3                              def findNthNumber(N):  \n",
       "4                  import math\\n\\n\\ndef check(A, B):  "
      ]
     },
     "execution_count": 79,
     "metadata": {},
     "output_type": "execute_result"
    }
   ],
   "source": [
    "train_df = pd.read_csv('./data/python/train.csv')\n",
    "train_df_context = build_context(train_df)\n",
    "train_df_context.head()"
   ]
  },
  {
   "cell_type": "code",
   "execution_count": 80,
   "metadata": {},
   "outputs": [
    {
     "data": {
      "text/html": [
       "<div>\n",
       "<style scoped>\n",
       "    .dataframe tbody tr th:only-of-type {\n",
       "        vertical-align: middle;\n",
       "    }\n",
       "\n",
       "    .dataframe tbody tr th {\n",
       "        vertical-align: top;\n",
       "    }\n",
       "\n",
       "    .dataframe thead th {\n",
       "        text-align: right;\n",
       "    }\n",
       "</style>\n",
       "<table border=\"1\" class=\"dataframe\">\n",
       "  <thead>\n",
       "    <tr style=\"text-align: right;\">\n",
       "      <th></th>\n",
       "      <th>id</th>\n",
       "      <th>text</th>\n",
       "      <th>code</th>\n",
       "      <th>question</th>\n",
       "      <th>functions</th>\n",
       "    </tr>\n",
       "  </thead>\n",
       "  <tbody>\n",
       "    <tr>\n",
       "      <th>0</th>\n",
       "      <td>0</td>\n",
       "      <td>Maximum Prefix Sum possible by merging two giv...</td>\n",
       "      <td>def maxPresum(a, b):\\n    X = max(a[0], 0)\\n  ...</td>\n",
       "      <td>Maximum Prefix Sum possible by merging two giv...</td>\n",
       "      <td>[def maxPresum(a, b):]</td>\n",
       "    </tr>\n",
       "    <tr>\n",
       "      <th>1</th>\n",
       "      <td>1</td>\n",
       "      <td>Check if a number can be represented as sum of...</td>\n",
       "      <td>import math\\n\\n\\ndef sumOfTwoCubes(n):\\n    lo...</td>\n",
       "      <td>Check if a number can be represented as sum of...</td>\n",
       "      <td>[def sumOfTwoCubes(n):]</td>\n",
       "    </tr>\n",
       "    <tr>\n",
       "      <th>2</th>\n",
       "      <td>2</td>\n",
       "      <td>Generate an N | Python3 program for the above ...</td>\n",
       "      <td>sieve = [1] * (1000000 + 1)\\n\\n\\ndef sieveOfPr...</td>\n",
       "      <td>Generate an N.</td>\n",
       "      <td>[def sieveOfPrimes():, def getArray(arr, N):]</td>\n",
       "    </tr>\n",
       "    <tr>\n",
       "      <th>3</th>\n",
       "      <td>3</td>\n",
       "      <td>Nth natural number after removing all numbers ...</td>\n",
       "      <td>def findNthNumber(N):\\n    result = 0\\n    p =...</td>\n",
       "      <td>Nth natural number after removing all numbers ...</td>\n",
       "      <td>[def findNthNumber(N):]</td>\n",
       "    </tr>\n",
       "    <tr>\n",
       "      <th>4</th>\n",
       "      <td>4</td>\n",
       "      <td>Check if an integer is rotation of another giv...</td>\n",
       "      <td>import math\\n\\n\\ndef check(A, B):\\n    if (A =...</td>\n",
       "      <td>Check if an integer is rotation of another giv...</td>\n",
       "      <td>[def check(A, B):]</td>\n",
       "    </tr>\n",
       "  </tbody>\n",
       "</table>\n",
       "</div>"
      ],
      "text/plain": [
       "   id                                               text  \\\n",
       "0   0  Maximum Prefix Sum possible by merging two giv...   \n",
       "1   1  Check if a number can be represented as sum of...   \n",
       "2   2  Generate an N | Python3 program for the above ...   \n",
       "3   3  Nth natural number after removing all numbers ...   \n",
       "4   4  Check if an integer is rotation of another giv...   \n",
       "\n",
       "                                                code  \\\n",
       "0  def maxPresum(a, b):\\n    X = max(a[0], 0)\\n  ...   \n",
       "1  import math\\n\\n\\ndef sumOfTwoCubes(n):\\n    lo...   \n",
       "2  sieve = [1] * (1000000 + 1)\\n\\n\\ndef sieveOfPr...   \n",
       "3  def findNthNumber(N):\\n    result = 0\\n    p =...   \n",
       "4  import math\\n\\n\\ndef check(A, B):\\n    if (A =...   \n",
       "\n",
       "                                            question  \\\n",
       "0  Maximum Prefix Sum possible by merging two giv...   \n",
       "1  Check if a number can be represented as sum of...   \n",
       "2                                     Generate an N.   \n",
       "3  Nth natural number after removing all numbers ...   \n",
       "4  Check if an integer is rotation of another giv...   \n",
       "\n",
       "                                       functions  \n",
       "0                         [def maxPresum(a, b):]  \n",
       "1                        [def sumOfTwoCubes(n):]  \n",
       "2  [def sieveOfPrimes():, def getArray(arr, N):]  \n",
       "3                        [def findNthNumber(N):]  \n",
       "4                             [def check(A, B):]  "
      ]
     },
     "execution_count": 80,
     "metadata": {},
     "output_type": "execute_result"
    }
   ],
   "source": [
    "train_df.head()"
   ]
  },
  {
   "cell_type": "code",
   "execution_count": 81,
   "metadata": {},
   "outputs": [
    {
     "data": {
      "text/plain": [
       "'def maxPresum(a, b):\\n    X = max(a[0], 0)\\n    for i in range(1, len(a)):\\n        a[i] += a[i - 1]\\n        X = max(X, a[i])\\n    Y = max(b[0], 0)\\n    for i in range(1, len(b)):\\n        b[i] += b[i - 1]\\n        Y = max(Y, b[i])\\n    return X + Y\\n\\n\\nA = [2, -1, 4, -5]\\nB = [4, -3, 12, 4, -3]\\nprint(maxPresum(A, B))\\n'"
      ]
     },
     "execution_count": 81,
     "metadata": {},
     "output_type": "execute_result"
    }
   ],
   "source": [
    "train_df.loc[0]['code']"
   ]
  },
  {
   "cell_type": "code",
   "execution_count": 82,
   "metadata": {},
   "outputs": [
    {
     "name": "stdout",
     "output_type": "stream",
     "text": [
      "Number of rows in the dataset: 492\n",
      "Number of processed rows in the final dataset: 0\n"
     ]
    },
    {
     "data": {
      "text/html": [
       "<div>\n",
       "<style scoped>\n",
       "    .dataframe tbody tr th:only-of-type {\n",
       "        vertical-align: middle;\n",
       "    }\n",
       "\n",
       "    .dataframe tbody tr th {\n",
       "        vertical-align: top;\n",
       "    }\n",
       "\n",
       "    .dataframe thead th {\n",
       "        text-align: right;\n",
       "    }\n",
       "</style>\n",
       "<table border=\"1\" class=\"dataframe\">\n",
       "  <thead>\n",
       "    <tr style=\"text-align: right;\">\n",
       "      <th></th>\n",
       "      <th>id</th>\n",
       "      <th>text</th>\n",
       "      <th>code</th>\n",
       "      <th>question</th>\n",
       "      <th>functions</th>\n",
       "      <th>code_context</th>\n",
       "    </tr>\n",
       "  </thead>\n",
       "  <tbody>\n",
       "  </tbody>\n",
       "</table>\n",
       "</div>"
      ],
      "text/plain": [
       "Empty DataFrame\n",
       "Columns: [id, text, code, question, functions, code_context]\n",
       "Index: []"
      ]
     },
     "execution_count": 82,
     "metadata": {},
     "output_type": "execute_result"
    }
   ],
   "source": [
    "val_df = pd.read_csv('./data/val.csv')\n",
    "val_df_context = build_context(val_df)\n",
    "val_df_context.head()"
   ]
  },
  {
   "cell_type": "code",
   "execution_count": 83,
   "metadata": {},
   "outputs": [
    {
     "name": "stdout",
     "output_type": "stream",
     "text": [
      "Number of rows in the dataset: 909\n",
      "Number of processed rows in the final dataset: 0\n"
     ]
    },
    {
     "data": {
      "text/html": [
       "<div>\n",
       "<style scoped>\n",
       "    .dataframe tbody tr th:only-of-type {\n",
       "        vertical-align: middle;\n",
       "    }\n",
       "\n",
       "    .dataframe tbody tr th {\n",
       "        vertical-align: top;\n",
       "    }\n",
       "\n",
       "    .dataframe thead th {\n",
       "        text-align: right;\n",
       "    }\n",
       "</style>\n",
       "<table border=\"1\" class=\"dataframe\">\n",
       "  <thead>\n",
       "    <tr style=\"text-align: right;\">\n",
       "      <th></th>\n",
       "      <th>id</th>\n",
       "      <th>text</th>\n",
       "      <th>code</th>\n",
       "      <th>question</th>\n",
       "      <th>functions</th>\n",
       "      <th>code_context</th>\n",
       "    </tr>\n",
       "  </thead>\n",
       "  <tbody>\n",
       "  </tbody>\n",
       "</table>\n",
       "</div>"
      ],
      "text/plain": [
       "Empty DataFrame\n",
       "Columns: [id, text, code, question, functions, code_context]\n",
       "Index: []"
      ]
     },
     "execution_count": 83,
     "metadata": {},
     "output_type": "execute_result"
    }
   ],
   "source": [
    "test_df = pd.read_csv('./data/test.csv')\n",
    "test_df_context = build_context(test_df)\n",
    "test_df_context.head()"
   ]
  },
  {
   "cell_type": "code",
   "execution_count": 84,
   "metadata": {},
   "outputs": [],
   "source": [
    "train_df_context.to_csv('data/python/train_processed.csv', index=False)\n",
    "val_df_context.to_csv('data/python/val_processed.csv', index=False)\n",
    "test_df_context.to_csv('data/python/test_processed.csv', index=False)"
   ]
  },
  {
   "cell_type": "code",
   "execution_count": null,
   "metadata": {},
   "outputs": [],
   "source": []
  }
 ],
 "metadata": {
  "kernelspec": {
   "display_name": "py11-env",
   "language": "python",
   "name": "python3"
  },
  "language_info": {
   "codemirror_mode": {
    "name": "ipython",
    "version": 3
   },
   "file_extension": ".py",
   "mimetype": "text/x-python",
   "name": "python",
   "nbconvert_exporter": "python",
   "pygments_lexer": "ipython3",
   "version": "3.11.6"
  },
  "orig_nbformat": 4
 },
 "nbformat": 4,
 "nbformat_minor": 2
}
